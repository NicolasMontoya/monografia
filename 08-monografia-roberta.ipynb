{
 "cells": [
  {
   "cell_type": "markdown",
   "metadata": {
    "papermill": {
     "duration": 0.02169,
     "end_time": "2020-11-13T22:57:51.746055",
     "exception": false,
     "start_time": "2020-11-13T22:57:51.724365",
     "status": "completed"
    },
    "tags": []
   },
   "source": [
    "# RoBERTa - Modelo HuggingFace preentrenado TF "
   ]
  },
  {
   "cell_type": "markdown",
   "metadata": {
    "papermill": {
     "duration": 0.01862,
     "end_time": "2020-11-13T22:57:51.783652",
     "exception": false,
     "start_time": "2020-11-13T22:57:51.765032",
     "status": "completed"
    },
    "tags": []
   },
   "source": [
    "Tratando de mejorar la primera implementación de BERT con DistilBERT, usaremos el modelo entrenado de RoBERTa y la librería transformers. El modelo pre-entrenado de RoBERTa elegido será dla implementación de HuggingFace preentrenado en tensorflow.."
   ]
  },
  {
   "cell_type": "code",
   "execution_count": 1,
   "metadata": {
    "_cell_guid": "b1076dfc-b9ad-4769-8c92-a6c4dae69d19",
    "_uuid": "8f2839f25d086af736a60e9eeb907d3b93b6e0e5",
    "execution": {
     "iopub.execute_input": "2020-11-13T22:57:51.829591Z",
     "iopub.status.busy": "2020-11-13T22:57:51.828968Z",
     "iopub.status.idle": "2020-11-13T22:57:58.123701Z",
     "shell.execute_reply": "2020-11-13T22:57:58.124297Z"
    },
    "papermill": {
     "duration": 6.32191,
     "end_time": "2020-11-13T22:57:58.124474",
     "exception": false,
     "start_time": "2020-11-13T22:57:51.802564",
     "status": "completed"
    },
    "tags": []
   },
   "outputs": [],
   "source": [
    "import pandas as pd\n",
    "import numpy as np\n",
    "import os\n",
    "import shutil\n",
    "import matplotlib.pyplot as plt\n",
    "import seaborn as sns\n",
    "from wordcloud import WordCloud, STOPWORDS \n",
    "import re \n",
    "import string\n",
    "import tensorflow as tf\n",
    "from tensorflow.keras.layers import Dense,Input,Flatten,Embedding,Lambda,Dropout,LSTM,Conv1D,Concatenate,Add\n",
    "from tensorflow.keras.models import Model\n",
    "from tqdm import tqdm\n",
    "from sklearn.model_selection import StratifiedKFold\n",
    "import keras.backend as K"
   ]
  },
  {
   "cell_type": "code",
   "execution_count": 2,
   "metadata": {
    "execution": {
     "iopub.execute_input": "2020-11-13T22:57:58.185787Z",
     "iopub.status.busy": "2020-11-13T22:57:58.184953Z",
     "iopub.status.idle": "2020-11-13T22:58:06.452438Z",
     "shell.execute_reply": "2020-11-13T22:58:06.452906Z"
    },
    "papermill": {
     "duration": 8.301533,
     "end_time": "2020-11-13T22:58:06.453050",
     "exception": false,
     "start_time": "2020-11-13T22:57:58.151517",
     "status": "completed"
    },
    "tags": []
   },
   "outputs": [
    {
     "name": "stdout",
     "output_type": "stream",
     "text": [
      "Requirement already satisfied: transformers in /opt/conda/lib/python3.7/site-packages (3.4.0)\r\n",
      "Requirement already satisfied: protobuf in /opt/conda/lib/python3.7/site-packages (from transformers) (3.13.0)\r\n",
      "Requirement already satisfied: requests in /opt/conda/lib/python3.7/site-packages (from transformers) (2.23.0)\r\n",
      "Requirement already satisfied: sentencepiece!=0.1.92 in /opt/conda/lib/python3.7/site-packages (from transformers) (0.1.94)\r\n",
      "Requirement already satisfied: filelock in /opt/conda/lib/python3.7/site-packages (from transformers) (3.0.10)\r\n",
      "Requirement already satisfied: tqdm>=4.27 in /opt/conda/lib/python3.7/site-packages (from transformers) (4.45.0)\r\n",
      "Requirement already satisfied: sacremoses in /opt/conda/lib/python3.7/site-packages (from transformers) (0.0.43)\r\n",
      "Requirement already satisfied: packaging in /opt/conda/lib/python3.7/site-packages (from transformers) (20.1)\r\n",
      "Requirement already satisfied: regex!=2019.12.17 in /opt/conda/lib/python3.7/site-packages (from transformers) (2020.4.4)\r\n",
      "Requirement already satisfied: numpy in /opt/conda/lib/python3.7/site-packages (from transformers) (1.18.5)\r\n",
      "Requirement already satisfied: tokenizers==0.9.2 in /opt/conda/lib/python3.7/site-packages (from transformers) (0.9.2)\r\n",
      "Requirement already satisfied: six>=1.9 in /opt/conda/lib/python3.7/site-packages (from protobuf->transformers) (1.14.0)\r\n",
      "Requirement already satisfied: setuptools in /opt/conda/lib/python3.7/site-packages (from protobuf->transformers) (46.1.3.post20200325)\r\n",
      "Requirement already satisfied: urllib3!=1.25.0,!=1.25.1,<1.26,>=1.21.1 in /opt/conda/lib/python3.7/site-packages (from requests->transformers) (1.25.9)\r\n",
      "Requirement already satisfied: chardet<4,>=3.0.2 in /opt/conda/lib/python3.7/site-packages (from requests->transformers) (3.0.4)\r\n",
      "Requirement already satisfied: certifi>=2017.4.17 in /opt/conda/lib/python3.7/site-packages (from requests->transformers) (2020.6.20)\r\n",
      "Requirement already satisfied: idna<3,>=2.5 in /opt/conda/lib/python3.7/site-packages (from requests->transformers) (2.9)\r\n",
      "Requirement already satisfied: click in /opt/conda/lib/python3.7/site-packages (from sacremoses->transformers) (7.1.1)\r\n",
      "Requirement already satisfied: joblib in /opt/conda/lib/python3.7/site-packages (from sacremoses->transformers) (0.14.1)\r\n",
      "Requirement already satisfied: pyparsing>=2.0.2 in /opt/conda/lib/python3.7/site-packages (from packaging->transformers) (2.4.7)\r\n"
     ]
    }
   ],
   "source": [
    "!pip install transformers"
   ]
  },
  {
   "cell_type": "code",
   "execution_count": 3,
   "metadata": {
    "execution": {
     "iopub.execute_input": "2020-11-13T22:58:06.502326Z",
     "iopub.status.busy": "2020-11-13T22:58:06.501670Z",
     "iopub.status.idle": "2020-11-13T22:58:10.332989Z",
     "shell.execute_reply": "2020-11-13T22:58:10.332431Z"
    },
    "papermill": {
     "duration": 3.857798,
     "end_time": "2020-11-13T22:58:10.333119",
     "exception": false,
     "start_time": "2020-11-13T22:58:06.475321",
     "status": "completed"
    },
    "tags": []
   },
   "outputs": [
    {
     "name": "stderr",
     "output_type": "stream",
     "text": [
      "\u001b[34m\u001b[1mwandb\u001b[0m: \u001b[33mWARNING\u001b[0m W&B installed but not logged in.  Run `wandb login` or set the WANDB_API_KEY env variable.\n"
     ]
    }
   ],
   "source": [
    "from transformers import  RobertaConfig, TFRobertaModel\n",
    "from tokenizers import Tokenizer\n",
    "from tokenizers.decoders import ByteLevel as ByteLevelDecoder\n",
    "from tokenizers.models import BPE\n",
    "from tokenizers.normalizers import Lowercase, NFKC, Sequence\n",
    "from tokenizers.pre_tokenizers import ByteLevel"
   ]
  },
  {
   "cell_type": "code",
   "execution_count": 4,
   "metadata": {
    "execution": {
     "iopub.execute_input": "2020-11-13T22:58:10.381576Z",
     "iopub.status.busy": "2020-11-13T22:58:10.380991Z",
     "iopub.status.idle": "2020-11-13T22:58:10.483443Z",
     "shell.execute_reply": "2020-11-13T22:58:10.483920Z"
    },
    "papermill": {
     "duration": 0.128912,
     "end_time": "2020-11-13T22:58:10.484039",
     "exception": false,
     "start_time": "2020-11-13T22:58:10.355127",
     "status": "completed"
    },
    "tags": []
   },
   "outputs": [
    {
     "data": {
      "text/html": [
       "<div>\n",
       "<style scoped>\n",
       "    .dataframe tbody tr th:only-of-type {\n",
       "        vertical-align: middle;\n",
       "    }\n",
       "\n",
       "    .dataframe tbody tr th {\n",
       "        vertical-align: top;\n",
       "    }\n",
       "\n",
       "    .dataframe thead th {\n",
       "        text-align: right;\n",
       "    }\n",
       "</style>\n",
       "<table border=\"1\" class=\"dataframe\">\n",
       "  <thead>\n",
       "    <tr style=\"text-align: right;\">\n",
       "      <th></th>\n",
       "      <th>textID</th>\n",
       "      <th>text</th>\n",
       "      <th>selected_text</th>\n",
       "      <th>sentiment</th>\n",
       "    </tr>\n",
       "  </thead>\n",
       "  <tbody>\n",
       "    <tr>\n",
       "      <th>0</th>\n",
       "      <td>cb774db0d1</td>\n",
       "      <td>I`d have responded, if I were going</td>\n",
       "      <td>I`d have responded, if I were going</td>\n",
       "      <td>neutral</td>\n",
       "    </tr>\n",
       "    <tr>\n",
       "      <th>1</th>\n",
       "      <td>549e992a42</td>\n",
       "      <td>Sooo SAD I will miss you here in San Diego!!!</td>\n",
       "      <td>Sooo SAD</td>\n",
       "      <td>negative</td>\n",
       "    </tr>\n",
       "    <tr>\n",
       "      <th>2</th>\n",
       "      <td>088c60f138</td>\n",
       "      <td>my boss is bullying me...</td>\n",
       "      <td>bullying me</td>\n",
       "      <td>negative</td>\n",
       "    </tr>\n",
       "    <tr>\n",
       "      <th>3</th>\n",
       "      <td>9642c003ef</td>\n",
       "      <td>what interview! leave me alone</td>\n",
       "      <td>leave me alone</td>\n",
       "      <td>negative</td>\n",
       "    </tr>\n",
       "    <tr>\n",
       "      <th>4</th>\n",
       "      <td>358bd9e861</td>\n",
       "      <td>Sons of ****, why couldn`t they put them on t...</td>\n",
       "      <td>Sons of ****,</td>\n",
       "      <td>negative</td>\n",
       "    </tr>\n",
       "  </tbody>\n",
       "</table>\n",
       "</div>"
      ],
      "text/plain": [
       "       textID                                               text  \\\n",
       "0  cb774db0d1                I`d have responded, if I were going   \n",
       "1  549e992a42      Sooo SAD I will miss you here in San Diego!!!   \n",
       "2  088c60f138                          my boss is bullying me...   \n",
       "3  9642c003ef                     what interview! leave me alone   \n",
       "4  358bd9e861   Sons of ****, why couldn`t they put them on t...   \n",
       "\n",
       "                         selected_text sentiment  \n",
       "0  I`d have responded, if I were going   neutral  \n",
       "1                             Sooo SAD  negative  \n",
       "2                          bullying me  negative  \n",
       "3                       leave me alone  negative  \n",
       "4                        Sons of ****,  negative  "
      ]
     },
     "execution_count": 4,
     "metadata": {},
     "output_type": "execute_result"
    }
   ],
   "source": [
    "train=pd.read_csv('../input/tweet-sentiment-extraction/train.csv')\n",
    "train.head()"
   ]
  },
  {
   "cell_type": "code",
   "execution_count": 5,
   "metadata": {
    "execution": {
     "iopub.execute_input": "2020-11-13T22:58:10.537038Z",
     "iopub.status.busy": "2020-11-13T22:58:10.536475Z",
     "iopub.status.idle": "2020-11-13T22:58:10.540627Z",
     "shell.execute_reply": "2020-11-13T22:58:10.540071Z"
    },
    "papermill": {
     "duration": 0.033207,
     "end_time": "2020-11-13T22:58:10.540716",
     "exception": false,
     "start_time": "2020-11-13T22:58:10.507509",
     "status": "completed"
    },
    "tags": []
   },
   "outputs": [],
   "source": [
    "#Referencia https://www.kaggle.com/parulpandey/eda-and-preprocessing-for-bert\n",
    "\n",
    "def clean(tweet):\n",
    "    tweet = str(tweet)\n",
    "\n",
    "    tweet=tweet.lower()\n",
    "\n",
    "    #Remove html tags\n",
    "    tweet=re.sub('<.*?>','',tweet)\n",
    "\n",
    "    #Remove text in square brackets\n",
    "    tweet=re.sub('\\[.*?\\]','',tweet)\n",
    "\n",
    "    #Remove hyperlinks\n",
    "    tweet=re.sub('https?://\\S+|www\\.\\S+','',tweet)\n",
    "\n",
    "\n",
    "    return tweet"
   ]
  },
  {
   "cell_type": "code",
   "execution_count": 6,
   "metadata": {
    "execution": {
     "iopub.execute_input": "2020-11-13T22:58:10.611470Z",
     "iopub.status.busy": "2020-11-13T22:58:10.610654Z",
     "iopub.status.idle": "2020-11-13T22:58:10.653454Z",
     "shell.execute_reply": "2020-11-13T22:58:10.652861Z"
    },
    "papermill": {
     "duration": 0.084426,
     "end_time": "2020-11-13T22:58:10.653554",
     "exception": false,
     "start_time": "2020-11-13T22:58:10.569128",
     "status": "completed"
    },
    "tags": []
   },
   "outputs": [],
   "source": [
    "train.dropna(inplace = True)\n",
    "train[\"text\"] = train[\"text\"].apply(lambda x : x.strip())\n",
    "train[\"selected_text\"] = train[\"selected_text\"].apply(lambda x : x.strip())"
   ]
  },
  {
   "cell_type": "code",
   "execution_count": 7,
   "metadata": {
    "execution": {
     "iopub.execute_input": "2020-11-13T22:58:10.738398Z",
     "iopub.status.busy": "2020-11-13T22:58:10.736472Z",
     "iopub.status.idle": "2020-11-13T22:58:10.806337Z",
     "shell.execute_reply": "2020-11-13T22:58:10.807007Z"
    },
    "papermill": {
     "duration": 0.128365,
     "end_time": "2020-11-13T22:58:10.807180",
     "exception": false,
     "start_time": "2020-11-13T22:58:10.678815",
     "status": "completed"
    },
    "tags": []
   },
   "outputs": [
    {
     "name": "stdout",
     "output_type": "stream",
     "text": [
      "X_train shape (17587, 4)  Y_train shape  (17587,)\n",
      "X_val shape (5496, 4)  Y_val shape  (5496,)\n",
      "X_test shape (4397, 4)  Y_test shape  (4397,)\n"
     ]
    }
   ],
   "source": [
    "from sklearn.model_selection import train_test_split\n",
    "\n",
    "X_train,X_val,Y_train,Y_val=train_test_split(train,train['sentiment'],\n",
    "                                              test_size=0.2,random_state=42,stratify=train['sentiment'])\n",
    "X_train,X_test,Y_train,Y_test=train_test_split(X_train,Y_train,\n",
    "                                               test_size=0.2,random_state=42,stratify=X_train['sentiment'])\n",
    "\n",
    "X_train.reset_index(inplace=True,drop=True)\n",
    "X_val.reset_index(inplace=True,drop=True)\n",
    "X_test.reset_index(inplace=True,drop=True)\n",
    "\n",
    "Y_train=Y_train.reset_index(drop=True)\n",
    "Y_val=Y_val.reset_index(drop=True)\n",
    "Y_test=Y_test.reset_index(drop=True)\n",
    "\n",
    "print('X_train shape',X_train.shape,' Y_train shape ',Y_train.shape)\n",
    "print('X_val shape',X_val.shape,' Y_val shape ',Y_val.shape)\n",
    "print('X_test shape',X_test.shape,' Y_test shape ',Y_test.shape)"
   ]
  },
  {
   "cell_type": "code",
   "execution_count": 8,
   "metadata": {
    "execution": {
     "iopub.execute_input": "2020-11-13T22:58:10.961046Z",
     "iopub.status.busy": "2020-11-13T22:58:10.957926Z",
     "iopub.status.idle": "2020-11-13T22:58:10.964983Z",
     "shell.execute_reply": "2020-11-13T22:58:10.964495Z"
    },
    "papermill": {
     "duration": 0.134021,
     "end_time": "2020-11-13T22:58:10.965086",
     "exception": false,
     "start_time": "2020-11-13T22:58:10.831065",
     "status": "completed"
    },
    "tags": []
   },
   "outputs": [],
   "source": [
    "\n",
    "# Definición de variables generales\n",
    "MAX_LEN = 128\n",
    "tokenizer = Tokenizer(BPE.from_file('../input/tf-roberta/vocab-roberta-base.json', '../input/tf-roberta/merges-roberta-base.txt'))\n",
    "tokenizer.pre_tokenizer = ByteLevel()\n",
    "tokenizer.decoder = ByteLevelDecoder()"
   ]
  },
  {
   "cell_type": "code",
   "execution_count": 9,
   "metadata": {
    "execution": {
     "iopub.execute_input": "2020-11-13T22:58:11.022644Z",
     "iopub.status.busy": "2020-11-13T22:58:11.021871Z",
     "iopub.status.idle": "2020-11-13T22:58:11.025562Z",
     "shell.execute_reply": "2020-11-13T22:58:11.026119Z"
    },
    "papermill": {
     "duration": 0.037352,
     "end_time": "2020-11-13T22:58:11.026266",
     "exception": false,
     "start_time": "2020-11-13T22:58:10.988914",
     "status": "completed"
    },
    "tags": []
   },
   "outputs": [],
   "source": [
    "resPos = tokenizer.encode('How I new that thing')\n",
    "resNeg = tokenizer.encode('negative')\n",
    "resNeu = tokenizer.encode('neutral')"
   ]
  },
  {
   "cell_type": "code",
   "execution_count": 10,
   "metadata": {
    "execution": {
     "iopub.execute_input": "2020-11-13T22:58:11.081777Z",
     "iopub.status.busy": "2020-11-13T22:58:11.079600Z",
     "iopub.status.idle": "2020-11-13T22:58:11.084652Z",
     "shell.execute_reply": "2020-11-13T22:58:11.083862Z"
    },
    "papermill": {
     "duration": 0.034607,
     "end_time": "2020-11-13T22:58:11.084791",
     "exception": false,
     "start_time": "2020-11-13T22:58:11.050184",
     "status": "completed"
    },
    "tags": []
   },
   "outputs": [
    {
     "name": "stdout",
     "output_type": "stream",
     "text": [
      "Representación ID positive: [1336, 38, 92, 14, 631]\n",
      "Representación ID negative: [2430]\n",
      "Representación ID neutral: [7974]\n"
     ]
    }
   ],
   "source": [
    "print(f'Representación ID positive: {resPos.ids}')\n",
    "print(f'Representación ID negative: {resNeg.ids}')\n",
    "print(f'Representación ID neutral: {resNeu.ids}')"
   ]
  },
  {
   "cell_type": "code",
   "execution_count": 11,
   "metadata": {
    "execution": {
     "iopub.execute_input": "2020-11-13T22:58:11.139788Z",
     "iopub.status.busy": "2020-11-13T22:58:11.139198Z",
     "iopub.status.idle": "2020-11-13T22:58:11.144597Z",
     "shell.execute_reply": "2020-11-13T22:58:11.145556Z"
    },
    "papermill": {
     "duration": 0.034114,
     "end_time": "2020-11-13T22:58:11.145671",
     "exception": false,
     "start_time": "2020-11-13T22:58:11.111557",
     "status": "completed"
    },
    "tags": []
   },
   "outputs": [
    {
     "data": {
      "text/plain": [
       "' How I new that thing'"
      ]
     },
     "execution_count": 11,
     "metadata": {},
     "output_type": "execute_result"
    }
   ],
   "source": [
    "tokenizer.decode(resPos.ids)"
   ]
  },
  {
   "cell_type": "code",
   "execution_count": 12,
   "metadata": {
    "execution": {
     "iopub.execute_input": "2020-11-13T22:58:11.200682Z",
     "iopub.status.busy": "2020-11-13T22:58:11.198913Z",
     "iopub.status.idle": "2020-11-13T22:58:11.201353Z",
     "shell.execute_reply": "2020-11-13T22:58:11.201833Z"
    },
    "papermill": {
     "duration": 0.031449,
     "end_time": "2020-11-13T22:58:11.201943",
     "exception": false,
     "start_time": "2020-11-13T22:58:11.170494",
     "status": "completed"
    },
    "tags": []
   },
   "outputs": [],
   "source": [
    "# Definición de sentimientos basados en el diccionario de RoBERTa\n",
    "sentiment_id = {'positive': 1313, 'negative': 2430, 'neutral': 7974}"
   ]
  },
  {
   "cell_type": "code",
   "execution_count": 13,
   "metadata": {
    "execution": {
     "iopub.execute_input": "2020-11-13T22:58:11.275538Z",
     "iopub.status.busy": "2020-11-13T22:58:11.269295Z",
     "iopub.status.idle": "2020-11-13T22:58:11.278373Z",
     "shell.execute_reply": "2020-11-13T22:58:11.277824Z"
    },
    "papermill": {
     "duration": 0.04869,
     "end_time": "2020-11-13T22:58:11.278468",
     "exception": false,
     "start_time": "2020-11-13T22:58:11.229778",
     "status": "completed"
    },
    "tags": []
   },
   "outputs": [],
   "source": [
    "\n",
    "#Referencia: https://www.kaggle.com/cdeotte/tensorflow-roberta-0-705\n",
    "\n",
    "def createInputData(data,tokenizer):\n",
    "\n",
    "    row = data.shape[0]\n",
    "    input_ids = np.ones((row,MAX_LEN),dtype='int32')\n",
    "    attention_mask = np.zeros((row,MAX_LEN),dtype='int32')\n",
    "    token_type_ids = np.zeros((row,MAX_LEN),dtype='int32')\n",
    "    start_tokens = np.zeros((row,MAX_LEN),dtype='int32')\n",
    "    end_tokens = np.zeros((row,MAX_LEN),dtype='int32')\n",
    "\n",
    "    for k in range(data.shape[0]):\n",
    "        # Búsqueda del indice inicial\n",
    "        text1 = \" \"+\" \".join(data.loc[k,'text'].split())\n",
    "        text2 = \" \".join(data.loc[k,'selected_text'].split())\n",
    "        idx = text1.find(text2)\n",
    "        # Selección de las posiciones que ocupan los textos\n",
    "        chars = np.zeros((len(text1)))\n",
    "        chars[idx:idx+len(text2)]=1\n",
    "\n",
    "        if text1[idx-1]==' ': \n",
    "            chars[idx-1] = 1 \n",
    "\n",
    "        # Codificación del texto completo\n",
    "        enc = tokenizer.encode(text1) \n",
    "\n",
    "        # Encuentro de offsets\n",
    "        token_offsets=[]\n",
    "        idx=0\n",
    "        for i in enc.ids:\n",
    "            word=tokenizer.decode([i])\n",
    "            token_offsets.append((idx,idx+len(word)))\n",
    "            idx+=len(word)\n",
    "\n",
    "        # Definición de tokens de inicio y finalización\n",
    "        target_idx = []\n",
    "        for i,(o1,o2) in enumerate(token_offsets):\n",
    "            if(sum(chars[o1:o2])>0):\n",
    "                target_idx.append(i)  \n",
    "        s_tok = sentiment_id[data.loc[k,'sentiment']]\n",
    "\n",
    "        input_ids[k,:len(enc.ids)+5] = [0] + enc.ids + [2,2] + [s_tok] + [2]\n",
    "        attention_mask[k,:len(enc.ids)+5] = 1\n",
    "\n",
    "        #Se adiciona 1 a los tokens\n",
    "        if len(target_idx)>0:\n",
    "            start_tokens[k,target_idx[0]+1] = 1\n",
    "            end_tokens[k,target_idx[-1]+1] = 1\n",
    "\n",
    "    return (input_ids,attention_mask,token_type_ids,start_tokens,end_tokens)"
   ]
  },
  {
   "cell_type": "code",
   "execution_count": 14,
   "metadata": {
    "execution": {
     "iopub.execute_input": "2020-11-13T22:58:11.334280Z",
     "iopub.status.busy": "2020-11-13T22:58:11.333084Z",
     "iopub.status.idle": "2020-11-13T22:58:17.470400Z",
     "shell.execute_reply": "2020-11-13T22:58:17.469868Z"
    },
    "papermill": {
     "duration": 6.166777,
     "end_time": "2020-11-13T22:58:17.470525",
     "exception": false,
     "start_time": "2020-11-13T22:58:11.303748",
     "status": "completed"
    },
    "tags": []
   },
   "outputs": [],
   "source": [
    "#Convertir los datos de validación y pruebas en la entrada de RoBERTa\n",
    "X_tr1,X_tr2,X_tr3,Y_tr1,Y_tr2=createInputData(X_train,tokenizer)\n",
    "X_val1,X_val2,X_val3,Y_val1,Y_val2=createInputData(X_val,tokenizer)\n",
    "X_te1,X_te2,X_te3,Y_te1,Y_te2=createInputData(X_test,tokenizer)"
   ]
  },
  {
   "cell_type": "code",
   "execution_count": 15,
   "metadata": {
    "execution": {
     "iopub.execute_input": "2020-11-13T22:58:17.537125Z",
     "iopub.status.busy": "2020-11-13T22:58:17.536283Z",
     "iopub.status.idle": "2020-11-13T22:58:59.760649Z",
     "shell.execute_reply": "2020-11-13T22:58:59.759912Z"
    },
    "papermill": {
     "duration": 42.26403,
     "end_time": "2020-11-13T22:58:59.760765",
     "exception": false,
     "start_time": "2020-11-13T22:58:17.496735",
     "status": "completed"
    },
    "tags": []
   },
   "outputs": [
    {
     "data": {
      "application/vnd.jupyter.widget-view+json": {
       "model_id": "c9d011b01585452095737c5f296c8efe",
       "version_major": 2,
       "version_minor": 0
      },
      "text/plain": [
       "HBox(children=(FloatProgress(value=0.0, description='Downloading', max=481.0, style=ProgressStyle(description_…"
      ]
     },
     "metadata": {},
     "output_type": "display_data"
    },
    {
     "name": "stdout",
     "output_type": "stream",
     "text": [
      "\n"
     ]
    },
    {
     "data": {
      "application/vnd.jupyter.widget-view+json": {
       "model_id": "a7a7bb89c6534c03bcd459b3ae5d0422",
       "version_major": 2,
       "version_minor": 0
      },
      "text/plain": [
       "HBox(children=(FloatProgress(value=0.0, description='Downloading', max=657434796.0, style=ProgressStyle(descri…"
      ]
     },
     "metadata": {},
     "output_type": "display_data"
    },
    {
     "name": "stdout",
     "output_type": "stream",
     "text": [
      "\n"
     ]
    },
    {
     "name": "stderr",
     "output_type": "stream",
     "text": [
      "Some layers from the model checkpoint at roberta-base were not used when initializing TFRobertaModel: ['lm_head']\n",
      "- This IS expected if you are initializing TFRobertaModel from the checkpoint of a model trained on another task or with another architecture (e.g. initializing a BertForSequenceClassification model from a BertForPretraining model).\n",
      "- This IS NOT expected if you are initializing TFRobertaModel from the checkpoint of a model that you expect to be exactly identical (initializing a BertForSequenceClassification model from a BertForSequenceClassification model).\n",
      "All the layers of TFRobertaModel were initialized from the model checkpoint at roberta-base.\n",
      "If your task is similar to the task the model of the checkpoint was trained on, you can already use TFRobertaModel for predictions without further training.\n"
     ]
    }
   ],
   "source": [
    "# Arquitectura de red reunal con RoBERTa\n",
    "def build_model():\n",
    "    '''Builds the model'''\n",
    "\n",
    "    ids=Input((MAX_LEN),name='ids',dtype='int32')\n",
    "    att_mask=Input((MAX_LEN),name='att_mask',dtype='int32')\n",
    "    type_ids=Input((MAX_LEN),name='type_ids',dtype='int32')\n",
    "\n",
    "    roberta_conf = RobertaConfig.from_pretrained('roberta-base')\n",
    "    roberta_model = TFRobertaModel.from_pretrained('roberta-base',config=roberta_conf)\n",
    "\n",
    "    bert_output=roberta_model([ids,att_mask,type_ids])\n",
    "\n",
    "    dropout1=Dropout(0.1,name='dropout1')(bert_output[0])\n",
    "    conv1d_1 = Conv1D(1,1,kernel_initializer=tf.keras.initializers.glorot_uniform(seed=20),name='conv1d_1')(dropout1)\n",
    "    flatten_1 = Flatten(name='flatten_1')(conv1d_1)\n",
    "    out_1 = tf.keras.layers.Activation('softmax',name='activation1')(flatten_1)\n",
    "\n",
    "    dropout2=Dropout(0.1,name='dropout2')(bert_output[0])\n",
    "    conv1d_2 = Conv1D(1,1,kernel_initializer=tf.keras.initializers.glorot_uniform(seed=20),name='conv1d_2')(dropout2)\n",
    "    flatten_2 = Flatten(name='flatten_2')(conv1d_2)\n",
    "    out_2 = tf.keras.layers.Activation('softmax',name='activation2')(flatten_2)\n",
    "\n",
    "    model1 = Model(inputs=[ids, att_mask, type_ids], outputs=[out_1,out_2])\n",
    "\n",
    "    return model1\n",
    "  \n",
    "model=build_model()"
   ]
  },
  {
   "cell_type": "code",
   "execution_count": 16,
   "metadata": {
    "execution": {
     "iopub.execute_input": "2020-11-13T22:58:59.821023Z",
     "iopub.status.busy": "2020-11-13T22:58:59.820209Z",
     "iopub.status.idle": "2020-11-13T22:58:59.858506Z",
     "shell.execute_reply": "2020-11-13T22:58:59.859250Z"
    },
    "papermill": {
     "duration": 0.070581,
     "end_time": "2020-11-13T22:58:59.859417",
     "exception": false,
     "start_time": "2020-11-13T22:58:59.788836",
     "status": "completed"
    },
    "tags": []
   },
   "outputs": [
    {
     "name": "stdout",
     "output_type": "stream",
     "text": [
      "Model: \"functional_1\"\n",
      "__________________________________________________________________________________________________\n",
      "Layer (type)                    Output Shape         Param #     Connected to                     \n",
      "==================================================================================================\n",
      "ids (InputLayer)                [(None, 128)]        0                                            \n",
      "__________________________________________________________________________________________________\n",
      "att_mask (InputLayer)           [(None, 128)]        0                                            \n",
      "__________________________________________________________________________________________________\n",
      "type_ids (InputLayer)           [(None, 128)]        0                                            \n",
      "__________________________________________________________________________________________________\n",
      "tf_roberta_model (TFRobertaMode ((None, 128, 768), ( 124645632   ids[0][0]                        \n",
      "                                                                 att_mask[0][0]                   \n",
      "                                                                 type_ids[0][0]                   \n",
      "__________________________________________________________________________________________________\n",
      "dropout1 (Dropout)              (None, 128, 768)     0           tf_roberta_model[0][0]           \n",
      "__________________________________________________________________________________________________\n",
      "dropout2 (Dropout)              (None, 128, 768)     0           tf_roberta_model[0][0]           \n",
      "__________________________________________________________________________________________________\n",
      "conv1d_1 (Conv1D)               (None, 128, 1)       769         dropout1[0][0]                   \n",
      "__________________________________________________________________________________________________\n",
      "conv1d_2 (Conv1D)               (None, 128, 1)       769         dropout2[0][0]                   \n",
      "__________________________________________________________________________________________________\n",
      "flatten_1 (Flatten)             (None, 128)          0           conv1d_1[0][0]                   \n",
      "__________________________________________________________________________________________________\n",
      "flatten_2 (Flatten)             (None, 128)          0           conv1d_2[0][0]                   \n",
      "__________________________________________________________________________________________________\n",
      "activation1 (Activation)        (None, 128)          0           flatten_1[0][0]                  \n",
      "__________________________________________________________________________________________________\n",
      "activation2 (Activation)        (None, 128)          0           flatten_2[0][0]                  \n",
      "==================================================================================================\n",
      "Total params: 124,647,170\n",
      "Trainable params: 124,647,170\n",
      "Non-trainable params: 0\n",
      "__________________________________________________________________________________________________\n"
     ]
    }
   ],
   "source": [
    "model.summary()"
   ]
  },
  {
   "cell_type": "code",
   "execution_count": 17,
   "metadata": {
    "execution": {
     "iopub.execute_input": "2020-11-13T22:58:59.920689Z",
     "iopub.status.busy": "2020-11-13T22:58:59.920087Z",
     "iopub.status.idle": "2020-11-13T22:59:00.480675Z",
     "shell.execute_reply": "2020-11-13T22:59:00.480006Z"
    },
    "papermill": {
     "duration": 0.59221,
     "end_time": "2020-11-13T22:59:00.480786",
     "exception": false,
     "start_time": "2020-11-13T22:58:59.888576",
     "status": "completed"
    },
    "tags": []
   },
   "outputs": [
    {
     "data": {
      "image/png": "[encoded data removed]",
      "text/plain": [
       "<IPython.core.display.Image object>"
      ]
     },
     "execution_count": 17,
     "metadata": {},
     "output_type": "execute_result"
    }
   ],
   "source": [
    "tf.keras.utils.plot_model(model, './ModeloRobertaRN.png',show_shapes=True)"
   ]
  },
  {
   "cell_type": "code",
   "execution_count": 18,
   "metadata": {
    "execution": {
     "iopub.execute_input": "2020-11-13T22:59:00.548667Z",
     "iopub.status.busy": "2020-11-13T22:59:00.546772Z",
     "iopub.status.idle": "2020-11-13T22:59:00.549363Z",
     "shell.execute_reply": "2020-11-13T22:59:00.549823Z"
    },
    "papermill": {
     "duration": 0.038481,
     "end_time": "2020-11-13T22:59:00.549930",
     "exception": false,
     "start_time": "2020-11-13T22:59:00.511449",
     "status": "completed"
    },
    "tags": []
   },
   "outputs": [],
   "source": [
    "import os\n",
    "if not os.path.exists('./model-roberta'):\n",
    "    os.makedirs('./model-roberta')"
   ]
  },
  {
   "cell_type": "code",
   "execution_count": 19,
   "metadata": {
    "execution": {
     "iopub.execute_input": "2020-11-13T22:59:00.621290Z",
     "iopub.status.busy": "2020-11-13T22:59:00.620577Z",
     "iopub.status.idle": "2020-11-13T22:59:01.725190Z",
     "shell.execute_reply": "2020-11-13T22:59:01.723802Z"
    },
    "papermill": {
     "duration": 1.145497,
     "end_time": "2020-11-13T22:59:01.725336",
     "exception": false,
     "start_time": "2020-11-13T22:59:00.579839",
     "status": "completed"
    },
    "tags": []
   },
   "outputs": [],
   "source": [
    "# Parámetros de RoBERTA para tensorboard\n",
    "from tensorflow.keras.callbacks import TensorBoard\n",
    "%load_ext tensorboard\n",
    "!rm -rf ./logs/ \n",
    "\n",
    "log_dir='./model-roberta'\n",
    "tensorboard_callback = TensorBoard(log_dir=log_dir,histogram_freq=1, write_graph=True)"
   ]
  },
  {
   "cell_type": "code",
   "execution_count": 20,
   "metadata": {
    "execution": {
     "iopub.execute_input": "2020-11-13T22:59:01.793544Z",
     "iopub.status.busy": "2020-11-13T22:59:01.791663Z",
     "iopub.status.idle": "2020-11-13T22:59:01.794261Z",
     "shell.execute_reply": "2020-11-13T22:59:01.794711Z"
    },
    "papermill": {
     "duration": 0.038927,
     "end_time": "2020-11-13T22:59:01.794823",
     "exception": false,
     "start_time": "2020-11-13T22:59:01.755896",
     "status": "completed"
    },
    "tags": []
   },
   "outputs": [],
   "source": [
    "from tensorflow.keras.callbacks import ModelCheckpoint\n",
    "\n",
    "checkpoint=ModelCheckpoint('./model-roberta/roberta.h5', monitor='val_loss', verbose=1, save_best_only=True,\n",
    "        save_weights_only=True, mode='auto', save_freq='epoch')"
   ]
  },
  {
   "cell_type": "code",
   "execution_count": 21,
   "metadata": {
    "execution": {
     "iopub.execute_input": "2020-11-13T22:59:01.905529Z",
     "iopub.status.busy": "2020-11-13T22:59:01.882700Z",
     "iopub.status.idle": "2020-11-13T22:59:01.911195Z",
     "shell.execute_reply": "2020-11-13T22:59:01.910314Z"
    },
    "papermill": {
     "duration": 0.086765,
     "end_time": "2020-11-13T22:59:01.911338",
     "exception": false,
     "start_time": "2020-11-13T22:59:01.824573",
     "status": "completed"
    },
    "tags": []
   },
   "outputs": [],
   "source": [
    "# Compilación del modelo con optimizador Adam\n",
    "optimizer = tf.keras.optimizers.Adam(learning_rate=3e-5)\n",
    "model.compile(loss='categorical_crossentropy', optimizer=optimizer)"
   ]
  },
  {
   "cell_type": "code",
   "execution_count": 22,
   "metadata": {
    "execution": {
     "iopub.execute_input": "2020-11-13T22:59:02.064738Z",
     "iopub.status.busy": "2020-11-13T22:59:02.054063Z",
     "iopub.status.idle": "2020-11-13T23:19:45.945887Z",
     "shell.execute_reply": "2020-11-13T23:19:45.945126Z"
    },
    "papermill": {
     "duration": 1243.98462,
     "end_time": "2020-11-13T23:19:45.946025",
     "exception": false,
     "start_time": "2020-11-13T22:59:01.961405",
     "status": "completed"
    },
    "tags": []
   },
   "outputs": [
    {
     "name": "stdout",
     "output_type": "stream",
     "text": [
      "Epoch 1/4\n",
      "550/550 [==============================] - ETA: 0s - loss: 2.5119 - activation1_loss: 1.2489 - activation2_loss: 1.2631\n",
      "Epoch 00001: val_loss improved from inf to 1.73993, saving model to ./model-roberta/roberta.h5\n",
      "550/550 [==============================] - 308s 559ms/step - loss: 2.5119 - activation1_loss: 1.2489 - activation2_loss: 1.2631 - val_loss: 1.7399 - val_activation1_loss: 0.8738 - val_activation2_loss: 0.8662\n",
      "Epoch 2/4\n",
      "550/550 [==============================] - ETA: 0s - loss: 1.6740 - activation1_loss: 0.8634 - activation2_loss: 0.8106\n",
      "Epoch 00002: val_loss improved from 1.73993 to 1.64777, saving model to ./model-roberta/roberta.h5\n",
      "550/550 [==============================] - 306s 556ms/step - loss: 1.6740 - activation1_loss: 0.8634 - activation2_loss: 0.8106 - val_loss: 1.6478 - val_activation1_loss: 0.8504 - val_activation2_loss: 0.7974\n",
      "Epoch 3/4\n",
      "550/550 [==============================] - ETA: 0s - loss: 1.5029 - activation1_loss: 0.7768 - activation2_loss: 0.7261\n",
      "Epoch 00003: val_loss did not improve from 1.64777\n",
      "550/550 [==============================] - 305s 554ms/step - loss: 1.5029 - activation1_loss: 0.7768 - activation2_loss: 0.7261 - val_loss: 1.6931 - val_activation1_loss: 0.8762 - val_activation2_loss: 0.8169\n",
      "Epoch 4/4\n",
      "550/550 [==============================] - ETA: 0s - loss: 1.3631 - activation1_loss: 0.7064 - activation2_loss: 0.6567\n",
      "Epoch 00004: val_loss did not improve from 1.64777\n",
      "550/550 [==============================] - 303s 551ms/step - loss: 1.3631 - activation1_loss: 0.7064 - activation2_loss: 0.6567 - val_loss: 1.7112 - val_activation1_loss: 0.8807 - val_activation2_loss: 0.8306\n"
     ]
    },
    {
     "data": {
      "text/plain": [
       "<tensorflow.python.keras.callbacks.History at 0x7f52a3a4a710>"
      ]
     },
     "execution_count": 22,
     "metadata": {},
     "output_type": "execute_result"
    }
   ],
   "source": [
    "# Entrenamiento del modelo\n",
    "callback=[tensorboard_callback,checkpoint]\n",
    "model.fit([X_tr1,X_tr2,X_tr3],[Y_tr1,Y_tr2],\n",
    "           validation_data=([X_val1,X_val2,X_val3],[Y_val1,Y_val2]),\n",
    "           batch_size=32,epochs=4,callbacks=callback)"
   ]
  },
  {
   "cell_type": "code",
   "execution_count": 23,
   "metadata": {
    "execution": {
     "iopub.execute_input": "2020-11-13T23:19:47.789042Z",
     "iopub.status.busy": "2020-11-13T23:19:47.788194Z",
     "iopub.status.idle": "2020-11-13T23:20:13.476621Z",
     "shell.execute_reply": "2020-11-13T23:20:13.475995Z"
    },
    "papermill": {
     "duration": 26.474895,
     "end_time": "2020-11-13T23:20:13.476744",
     "exception": false,
     "start_time": "2020-11-13T23:19:47.001849",
     "status": "completed"
    },
    "tags": []
   },
   "outputs": [],
   "source": [
    "# Predecir con los datos de texto\n",
    "start,end=model.predict([X_te1,X_te2,X_te3])"
   ]
  },
  {
   "cell_type": "code",
   "execution_count": 24,
   "metadata": {
    "execution": {
     "iopub.execute_input": "2020-11-13T23:20:15.056708Z",
     "iopub.status.busy": "2020-11-13T23:20:15.055927Z",
     "iopub.status.idle": "2020-11-13T23:20:15.059933Z",
     "shell.execute_reply": "2020-11-13T23:20:15.059435Z"
    },
    "papermill": {
     "duration": 0.780327,
     "end_time": "2020-11-13T23:20:15.060035",
     "exception": false,
     "start_time": "2020-11-13T23:20:14.279708",
     "status": "completed"
    },
    "tags": []
   },
   "outputs": [],
   "source": [
    "def jaccard(str1, str2): \n",
    "    a = set(str1.lower().split()) \n",
    "    b = set(str2.lower().split())\n",
    "    c = a.intersection(b)\n",
    "    return float(len(c)) / (len(a) + len(b) - len(c))"
   ]
  },
  {
   "cell_type": "code",
   "execution_count": 25,
   "metadata": {
    "execution": {
     "iopub.execute_input": "2020-11-13T23:20:16.623393Z",
     "iopub.status.busy": "2020-11-13T23:20:16.621579Z",
     "iopub.status.idle": "2020-11-13T23:20:16.624041Z",
     "shell.execute_reply": "2020-11-13T23:20:16.624511Z"
    },
    "papermill": {
     "duration": 0.786844,
     "end_time": "2020-11-13T23:20:16.624638",
     "exception": false,
     "start_time": "2020-11-13T23:20:15.837794",
     "status": "completed"
    },
    "tags": []
   },
   "outputs": [],
   "source": [
    "\n",
    "def find_selected_text(data,tokenizer,start,end):\n",
    "    '''Finds the selected text for the given tweet'''\n",
    "    selected_text_list=[]\n",
    "    for i in range(data.shape[0]):\n",
    "\n",
    "        # Búsqueda de index\n",
    "        start_idx=np.argmax(start[i])\n",
    "        end_idx=np.argmax(end[i])\n",
    "\n",
    "\n",
    "        # Encuentra el texto de la predicción a partir de los indices\n",
    "        if (start_idx>end_idx):\n",
    "            predicted_text=data.loc[i,'text']\n",
    "\n",
    "        else:\n",
    "            text1 = \" \"+\" \".join(data.loc[i,'text'].split())\n",
    "            tokens=tokenizer.encode(text1)\n",
    "            predicted_text=tokenizer.decode(tokens.ids[start_idx-1:end_idx])        \n",
    "\n",
    "        selected_text_list.append(predicted_text)\n",
    "\n",
    "    return selected_text_list\n",
    "    \n"
   ]
  },
  {
   "cell_type": "code",
   "execution_count": 26,
   "metadata": {
    "execution": {
     "iopub.execute_input": "2020-11-13T23:20:18.408362Z",
     "iopub.status.busy": "2020-11-13T23:20:18.397416Z",
     "iopub.status.idle": "2020-11-13T23:20:20.529703Z",
     "shell.execute_reply": "2020-11-13T23:20:20.528990Z"
    },
    "papermill": {
     "duration": 3.128865,
     "end_time": "2020-11-13T23:20:20.529836",
     "exception": false,
     "start_time": "2020-11-13T23:20:17.400971",
     "status": "completed"
    },
    "tags": []
   },
   "outputs": [
    {
     "data": {
      "text/html": [
       "<div>\n",
       "<style scoped>\n",
       "    .dataframe tbody tr th:only-of-type {\n",
       "        vertical-align: middle;\n",
       "    }\n",
       "\n",
       "    .dataframe tbody tr th {\n",
       "        vertical-align: top;\n",
       "    }\n",
       "\n",
       "    .dataframe thead th {\n",
       "        text-align: right;\n",
       "    }\n",
       "</style>\n",
       "<table border=\"1\" class=\"dataframe\">\n",
       "  <thead>\n",
       "    <tr style=\"text-align: right;\">\n",
       "      <th></th>\n",
       "      <th>textID</th>\n",
       "      <th>text</th>\n",
       "      <th>selected_text</th>\n",
       "      <th>sentiment</th>\n",
       "      <th>predicted_text</th>\n",
       "      <th>jaccard</th>\n",
       "    </tr>\n",
       "  </thead>\n",
       "  <tbody>\n",
       "    <tr>\n",
       "      <th>0</th>\n",
       "      <td>197aa929a2</td>\n",
       "      <td>misses driving already</td>\n",
       "      <td>misses driving already</td>\n",
       "      <td>negative</td>\n",
       "      <td>misses driving already</td>\n",
       "      <td>1.00</td>\n",
       "    </tr>\n",
       "    <tr>\n",
       "      <th>1</th>\n",
       "      <td>7648a76c96</td>\n",
       "      <td>Name the rest? Let`s see. Mystery Jets are pre...</td>\n",
       "      <td>cool.</td>\n",
       "      <td>positive</td>\n",
       "      <td>cool.</td>\n",
       "      <td>1.00</td>\n",
       "    </tr>\n",
       "    <tr>\n",
       "      <th>2</th>\n",
       "      <td>14fc34a4fb</td>\n",
       "      <td>anyways have a severe headache ryt now! i jst ...</td>\n",
       "      <td>anyways have a severe headache ryt now! i jst ...</td>\n",
       "      <td>neutral</td>\n",
       "      <td>anyways have a severe headache ryt now! i jst...</td>\n",
       "      <td>1.00</td>\n",
       "    </tr>\n",
       "    <tr>\n",
       "      <th>3</th>\n",
       "      <td>50662e359b</td>\n",
       "      <td>25-man Ulduar is hard...</td>\n",
       "      <td>25-man Ulduar is hard...</td>\n",
       "      <td>neutral</td>\n",
       "      <td>25-man Ulduar is hard...</td>\n",
       "      <td>1.00</td>\n",
       "    </tr>\n",
       "    <tr>\n",
       "      <th>4</th>\n",
       "      <td>b66219e011</td>\n",
       "      <td>Cried Like A Fukn Baby Today Durin Da Senior S...</td>\n",
       "      <td>Miss</td>\n",
       "      <td>negative</td>\n",
       "      <td>Cried</td>\n",
       "      <td>0.00</td>\n",
       "    </tr>\n",
       "    <tr>\n",
       "      <th>5</th>\n",
       "      <td>6649f3558c</td>\n",
       "      <td>Not a prob hun</td>\n",
       "      <td>Not a prob</td>\n",
       "      <td>positive</td>\n",
       "      <td>Not a prob hun</td>\n",
       "      <td>0.75</td>\n",
       "    </tr>\n",
       "    <tr>\n",
       "      <th>6</th>\n",
       "      <td>a54d3c2825</td>\n",
       "      <td>I know   It was worth a shot, though!</td>\n",
       "      <td>as wort</td>\n",
       "      <td>positive</td>\n",
       "      <td>worth</td>\n",
       "      <td>0.00</td>\n",
       "    </tr>\n",
       "    <tr>\n",
       "      <th>7</th>\n",
       "      <td>db83ff224e</td>\n",
       "      <td>You`re still welcome - the door`s wide enough ...</td>\n",
       "      <td>You`re still welcome - the door`s wide enough ...</td>\n",
       "      <td>neutral</td>\n",
       "      <td>You`re still welcome - the door`s wide enough...</td>\n",
       "      <td>1.00</td>\n",
       "    </tr>\n",
       "    <tr>\n",
       "      <th>8</th>\n",
       "      <td>fdbaccd945</td>\n",
       "      <td>_nickj07 Um....Nicks Voice,Smile,Eyes,Laugh,an...</td>\n",
       "      <td>Great</td>\n",
       "      <td>positive</td>\n",
       "      <td>Great Rolemodel</td>\n",
       "      <td>0.50</td>\n",
       "    </tr>\n",
       "    <tr>\n",
       "      <th>9</th>\n",
       "      <td>1c82fa1e65</td>\n",
       "      <td>reminds me of the weather a month ago it was h...</td>\n",
       "      <td>reminds me of the weather a month ago it was h...</td>\n",
       "      <td>neutral</td>\n",
       "      <td>reminds me of the weather a month ago it was ...</td>\n",
       "      <td>1.00</td>\n",
       "    </tr>\n",
       "  </tbody>\n",
       "</table>\n",
       "</div>"
      ],
      "text/plain": [
       "       textID                                               text  \\\n",
       "0  197aa929a2                             misses driving already   \n",
       "1  7648a76c96  Name the rest? Let`s see. Mystery Jets are pre...   \n",
       "2  14fc34a4fb  anyways have a severe headache ryt now! i jst ...   \n",
       "3  50662e359b                           25-man Ulduar is hard...   \n",
       "4  b66219e011  Cried Like A Fukn Baby Today Durin Da Senior S...   \n",
       "5  6649f3558c                                     Not a prob hun   \n",
       "6  a54d3c2825              I know   It was worth a shot, though!   \n",
       "7  db83ff224e  You`re still welcome - the door`s wide enough ...   \n",
       "8  fdbaccd945  _nickj07 Um....Nicks Voice,Smile,Eyes,Laugh,an...   \n",
       "9  1c82fa1e65  reminds me of the weather a month ago it was h...   \n",
       "\n",
       "                                       selected_text sentiment  \\\n",
       "0                             misses driving already  negative   \n",
       "1                                              cool.  positive   \n",
       "2  anyways have a severe headache ryt now! i jst ...   neutral   \n",
       "3                           25-man Ulduar is hard...   neutral   \n",
       "4                                               Miss  negative   \n",
       "5                                         Not a prob  positive   \n",
       "6                                            as wort  positive   \n",
       "7  You`re still welcome - the door`s wide enough ...   neutral   \n",
       "8                                              Great  positive   \n",
       "9  reminds me of the weather a month ago it was h...   neutral   \n",
       "\n",
       "                                      predicted_text  jaccard  \n",
       "0                             misses driving already     1.00  \n",
       "1                                              cool.     1.00  \n",
       "2   anyways have a severe headache ryt now! i jst...     1.00  \n",
       "3                           25-man Ulduar is hard...     1.00  \n",
       "4                                              Cried     0.00  \n",
       "5                                     Not a prob hun     0.75  \n",
       "6                                              worth     0.00  \n",
       "7   You`re still welcome - the door`s wide enough...     1.00  \n",
       "8                                    Great Rolemodel     0.50  \n",
       "9   reminds me of the weather a month ago it was ...     1.00  "
      ]
     },
     "execution_count": 26,
     "metadata": {},
     "output_type": "execute_result"
    }
   ],
   "source": [
    "selected_text=find_selected_text(X_test,tokenizer,start,end)\n",
    "X_test['predicted_text']=selected_text\n",
    "\n",
    "for i,(_,row) in enumerate(X_test.iterrows()):\n",
    "    X_test.loc[i,'jaccard']=jaccard(row.selected_text,row.predicted_text)\n",
    "\n",
    "X_test.head(10)"
   ]
  },
  {
   "cell_type": "code",
   "execution_count": 27,
   "metadata": {
    "execution": {
     "iopub.execute_input": "2020-11-13T23:20:22.110826Z",
     "iopub.status.busy": "2020-11-13T23:20:22.107029Z",
     "iopub.status.idle": "2020-11-13T23:20:22.114642Z",
     "shell.execute_reply": "2020-11-13T23:20:22.115071Z"
    },
    "papermill": {
     "duration": 0.793722,
     "end_time": "2020-11-13T23:20:22.115228",
     "exception": false,
     "start_time": "2020-11-13T23:20:21.321506",
     "status": "completed"
    },
    "tags": []
   },
   "outputs": [
    {
     "name": "stdout",
     "output_type": "stream",
     "text": [
      "Promedio del indice de jaccard para los sentimientos positivos   0.5289434462306142\n",
      "Promedio del indice de jaccard para los sentimientos negativos   0.5208676731585206\n",
      "Promedio del indice de jaccard para los sentimientos neutrales   0.9771012749095533\n"
     ]
    }
   ],
   "source": [
    "# Promedio del indice de Jaccard\n",
    "\n",
    "pos_average=np.mean(X_test['jaccard'][X_test['sentiment']=='positive'])\n",
    "print('Promedio del indice de jaccard para los sentimientos positivos  ',pos_average)\n",
    "\n",
    "neg_average=np.mean(X_test['jaccard'][X_test['sentiment']=='negative'])\n",
    "print('Promedio del indice de jaccard para los sentimientos negativos  ',neg_average)\n",
    "\n",
    "neu_average=np.mean(X_test['jaccard'][X_test['sentiment']=='neutral'])\n",
    "print('Promedio del indice de jaccard para los sentimientos neutrales  ',neu_average)"
   ]
  },
  {
   "cell_type": "code",
   "execution_count": 28,
   "metadata": {
    "execution": {
     "iopub.execute_input": "2020-11-13T23:20:23.719438Z",
     "iopub.status.busy": "2020-11-13T23:20:23.718665Z",
     "iopub.status.idle": "2020-11-13T23:20:23.721911Z",
     "shell.execute_reply": "2020-11-13T23:20:23.722778Z"
    },
    "papermill": {
     "duration": 0.804331,
     "end_time": "2020-11-13T23:20:23.722913",
     "exception": false,
     "start_time": "2020-11-13T23:20:22.918582",
     "status": "completed"
    },
    "tags": []
   },
   "outputs": [
    {
     "name": "stdout",
     "output_type": "stream",
     "text": [
      "0.7079787975485758\n"
     ]
    }
   ],
   "source": [
    "# Rendimiento general para el modelo de RoBERTa\n",
    "print(np.mean(X_test['jaccard']))"
   ]
  }
 ],
 "metadata": {
  "kernelspec": {
   "display_name": "Python 3",
   "language": "python",
   "name": "python3"
  },
  "language_info": {
   "codemirror_mode": {
    "name": "ipython",
    "version": 3
   },
   "file_extension": ".py",
   "mimetype": "text/x-python",
   "name": "python",
   "nbconvert_exporter": "python",
   "pygments_lexer": "ipython3",
   "version": "3.7.6"
  },
  "papermill": {
   "duration": 1358.386518,
   "end_time": "2020-11-13T23:20:26.019655",
   "environment_variables": {},
   "exception": null,
   "input_path": "__notebook__.ipynb",
   "output_path": "__notebook__.ipynb",
   "parameters": {},
   "start_time": "2020-11-13T22:57:47.633137",
   "version": "2.1.0"
  },
  "widgets": {
   "application/vnd.jupyter.widget-state+json": {
    "state": {
     "0ff9e73823704b298f41870df0d9af56": {
      "model_module": "@jupyter-widgets/controls",
      "model_module_version": "1.5.0",
      "model_name": "FloatProgressModel",
      "state": {
       "_dom_classes": [],
       "_model_module": "@jupyter-widgets/controls",
       "_model_module_version": "1.5.0",
       "_model_name": "FloatProgressModel",
       "_view_count": null,
       "_view_module": "@jupyter-widgets/controls",
       "_view_module_version": "1.5.0",
       "_view_name": "ProgressView",
       "bar_style": "success",
       "description": "Downloading: 100%",
       "description_tooltip": null,
       "layout": "IPY_MODEL_c71ccd73fd674d6aa831ec5e79a9009c",
       "max": 657434796.0,
       "min": 0.0,
       "orientation": "horizontal",
       "style": "IPY_MODEL_cdee3e93a65145719ff82556f914f4dc",
       "value": 657434796.0
      }
     },
     "29e3525715e0448f83355c40016b275f": {
      "model_module": "@jupyter-widgets/controls",
      "model_module_version": "1.5.0",
      "model_name": "DescriptionStyleModel",
      "state": {
       "_model_module": "@jupyter-widgets/controls",
       "_model_module_version": "1.5.0",
       "_model_name": "DescriptionStyleModel",
       "_view_count": null,
       "_view_module": "@jupyter-widgets/base",
       "_view_module_version": "1.2.0",
       "_view_name": "StyleView",
       "description_width": ""
      }
     },
     "365ab3c4fa7247bfa1bd204c255a67a8": {
      "model_module": "@jupyter-widgets/base",
      "model_module_version": "1.2.0",
      "model_name": "LayoutModel",
      "state": {
       "_model_module": "@jupyter-widgets/base",
       "_model_module_version": "1.2.0",
       "_model_name": "LayoutModel",
       "_view_count": null,
       "_view_module": "@jupyter-widgets/base",
       "_view_module_version": "1.2.0",
       "_view_name": "LayoutView",
       "align_content": null,
       "align_items": null,
       "align_self": null,
       "border": null,
       "bottom": null,
       "display": null,
       "flex": null,
       "flex_flow": null,
       "grid_area": null,
       "grid_auto_columns": null,
       "grid_auto_flow": null,
       "grid_auto_rows": null,
       "grid_column": null,
       "grid_gap": null,
       "grid_row": null,
       "grid_template_areas": null,
       "grid_template_columns": null,
       "grid_template_rows": null,
       "height": null,
       "justify_content": null,
       "justify_items": null,
       "left": null,
       "margin": null,
       "max_height": null,
       "max_width": null,
       "min_height": null,
       "min_width": null,
       "object_fit": null,
       "object_position": null,
       "order": null,
       "overflow": null,
       "overflow_x": null,
       "overflow_y": null,
       "padding": null,
       "right": null,
       "top": null,
       "visibility": null,
       "width": null
      }
     },
     "536efbaac5d74fd3a2824e587ad5e482": {
      "model_module": "@jupyter-widgets/base",
      "model_module_version": "1.2.0",
      "model_name": "LayoutModel",
      "state": {
       "_model_module": "@jupyter-widgets/base",
       "_model_module_version": "1.2.0",
       "_model_name": "LayoutModel",
       "_view_count": null,
       "_view_module": "@jupyter-widgets/base",
       "_view_module_version": "1.2.0",
       "_view_name": "LayoutView",
       "align_content": null,
       "align_items": null,
       "align_self": null,
       "border": null,
       "bottom": null,
       "display": null,
       "flex": null,
       "flex_flow": null,
       "grid_area": null,
       "grid_auto_columns": null,
       "grid_auto_flow": null,
       "grid_auto_rows": null,
       "grid_column": null,
       "grid_gap": null,
       "grid_row": null,
       "grid_template_areas": null,
       "grid_template_columns": null,
       "grid_template_rows": null,
       "height": null,
       "justify_content": null,
       "justify_items": null,
       "left": null,
       "margin": null,
       "max_height": null,
       "max_width": null,
       "min_height": null,
       "min_width": null,
       "object_fit": null,
       "object_position": null,
       "order": null,
       "overflow": null,
       "overflow_x": null,
       "overflow_y": null,
       "padding": null,
       "right": null,
       "top": null,
       "visibility": null,
       "width": null
      }
     },
     "689f2a1598a74592b15fefa341fc36a0": {
      "model_module": "@jupyter-widgets/controls",
      "model_module_version": "1.5.0",
      "model_name": "FloatProgressModel",
      "state": {
       "_dom_classes": [],
       "_model_module": "@jupyter-widgets/controls",
       "_model_module_version": "1.5.0",
       "_model_name": "FloatProgressModel",
       "_view_count": null,
       "_view_module": "@jupyter-widgets/controls",
       "_view_module_version": "1.5.0",
       "_view_name": "ProgressView",
       "bar_style": "success",
       "description": "Downloading: 100%",
       "description_tooltip": null,
       "layout": "IPY_MODEL_365ab3c4fa7247bfa1bd204c255a67a8",
       "max": 481.0,
       "min": 0.0,
       "orientation": "horizontal",
       "style": "IPY_MODEL_8bf72305f937425f9fed2f047f2aadaa",
       "value": 481.0
      }
     },
     "68cbca42412d452e8227f2d366ac8723": {
      "model_module": "@jupyter-widgets/base",
      "model_module_version": "1.2.0",
      "model_name": "LayoutModel",
      "state": {
       "_model_module": "@jupyter-widgets/base",
       "_model_module_version": "1.2.0",
       "_model_name": "LayoutModel",
       "_view_count": null,
       "_view_module": "@jupyter-widgets/base",
       "_view_module_version": "1.2.0",
       "_view_name": "LayoutView",
       "align_content": null,
       "align_items": null,
       "align_self": null,
       "border": null,
       "bottom": null,
       "display": null,
       "flex": null,
       "flex_flow": null,
       "grid_area": null,
       "grid_auto_columns": null,
       "grid_auto_flow": null,
       "grid_auto_rows": null,
       "grid_column": null,
       "grid_gap": null,
       "grid_row": null,
       "grid_template_areas": null,
       "grid_template_columns": null,
       "grid_template_rows": null,
       "height": null,
       "justify_content": null,
       "justify_items": null,
       "left": null,
       "margin": null,
       "max_height": null,
       "max_width": null,
       "min_height": null,
       "min_width": null,
       "object_fit": null,
       "object_position": null,
       "order": null,
       "overflow": null,
       "overflow_x": null,
       "overflow_y": null,
       "padding": null,
       "right": null,
       "top": null,
       "visibility": null,
       "width": null
      }
     },
     "6e5196ea2b2a422b87ed7afdcb596849": {
      "model_module": "@jupyter-widgets/base",
      "model_module_version": "1.2.0",
      "model_name": "LayoutModel",
      "state": {
       "_model_module": "@jupyter-widgets/base",
       "_model_module_version": "1.2.0",
       "_model_name": "LayoutModel",
       "_view_count": null,
       "_view_module": "@jupyter-widgets/base",
       "_view_module_version": "1.2.0",
       "_view_name": "LayoutView",
       "align_content": null,
       "align_items": null,
       "align_self": null,
       "border": null,
       "bottom": null,
       "display": null,
       "flex": null,
       "flex_flow": null,
       "grid_area": null,
       "grid_auto_columns": null,
       "grid_auto_flow": null,
       "grid_auto_rows": null,
       "grid_column": null,
       "grid_gap": null,
       "grid_row": null,
       "grid_template_areas": null,
       "grid_template_columns": null,
       "grid_template_rows": null,
       "height": null,
       "justify_content": null,
       "justify_items": null,
       "left": null,
       "margin": null,
       "max_height": null,
       "max_width": null,
       "min_height": null,
       "min_width": null,
       "object_fit": null,
       "object_position": null,
       "order": null,
       "overflow": null,
       "overflow_x": null,
       "overflow_y": null,
       "padding": null,
       "right": null,
       "top": null,
       "visibility": null,
       "width": null
      }
     },
     "87b5cc6f144b4dfb96e40b28e162f58b": {
      "model_module": "@jupyter-widgets/base",
      "model_module_version": "1.2.0",
      "model_name": "LayoutModel",
      "state": {
       "_model_module": "@jupyter-widgets/base",
       "_model_module_version": "1.2.0",
       "_model_name": "LayoutModel",
       "_view_count": null,
       "_view_module": "@jupyter-widgets/base",
       "_view_module_version": "1.2.0",
       "_view_name": "LayoutView",
       "align_content": null,
       "align_items": null,
       "align_self": null,
       "border": null,
       "bottom": null,
       "display": null,
       "flex": null,
       "flex_flow": null,
       "grid_area": null,
       "grid_auto_columns": null,
       "grid_auto_flow": null,
       "grid_auto_rows": null,
       "grid_column": null,
       "grid_gap": null,
       "grid_row": null,
       "grid_template_areas": null,
       "grid_template_columns": null,
       "grid_template_rows": null,
       "height": null,
       "justify_content": null,
       "justify_items": null,
       "left": null,
       "margin": null,
       "max_height": null,
       "max_width": null,
       "min_height": null,
       "min_width": null,
       "object_fit": null,
       "object_position": null,
       "order": null,
       "overflow": null,
       "overflow_x": null,
       "overflow_y": null,
       "padding": null,
       "right": null,
       "top": null,
       "visibility": null,
       "width": null
      }
     },
     "8bf72305f937425f9fed2f047f2aadaa": {
      "model_module": "@jupyter-widgets/controls",
      "model_module_version": "1.5.0",
      "model_name": "ProgressStyleModel",
      "state": {
       "_model_module": "@jupyter-widgets/controls",
       "_model_module_version": "1.5.0",
       "_model_name": "ProgressStyleModel",
       "_view_count": null,
       "_view_module": "@jupyter-widgets/base",
       "_view_module_version": "1.2.0",
       "_view_name": "StyleView",
       "bar_color": null,
       "description_width": "initial"
      }
     },
     "a4de0b27d7b8454c850f94eb6170ef7a": {
      "model_module": "@jupyter-widgets/controls",
      "model_module_version": "1.5.0",
      "model_name": "HTMLModel",
      "state": {
       "_dom_classes": [],
       "_model_module": "@jupyter-widgets/controls",
       "_model_module_version": "1.5.0",
       "_model_name": "HTMLModel",
       "_view_count": null,
       "_view_module": "@jupyter-widgets/controls",
       "_view_module_version": "1.5.0",
       "_view_name": "HTMLView",
       "description": "",
       "description_tooltip": null,
       "layout": "IPY_MODEL_68cbca42412d452e8227f2d366ac8723",
       "placeholder": "​",
       "style": "IPY_MODEL_ebebb8bc54984458ab5cf8e40ce719fa",
       "value": " 657M/657M [00:36&lt;00:00, 18.2MB/s]"
      }
     },
     "a7a7bb89c6534c03bcd459b3ae5d0422": {
      "model_module": "@jupyter-widgets/controls",
      "model_module_version": "1.5.0",
      "model_name": "HBoxModel",
      "state": {
       "_dom_classes": [],
       "_model_module": "@jupyter-widgets/controls",
       "_model_module_version": "1.5.0",
       "_model_name": "HBoxModel",
       "_view_count": null,
       "_view_module": "@jupyter-widgets/controls",
       "_view_module_version": "1.5.0",
       "_view_name": "HBoxView",
       "box_style": "",
       "children": [
        "IPY_MODEL_0ff9e73823704b298f41870df0d9af56",
        "IPY_MODEL_a4de0b27d7b8454c850f94eb6170ef7a"
       ],
       "layout": "IPY_MODEL_6e5196ea2b2a422b87ed7afdcb596849"
      }
     },
     "bbcf448ec2774324991191af1cde959c": {
      "model_module": "@jupyter-widgets/controls",
      "model_module_version": "1.5.0",
      "model_name": "HTMLModel",
      "state": {
       "_dom_classes": [],
       "_model_module": "@jupyter-widgets/controls",
       "_model_module_version": "1.5.0",
       "_model_name": "HTMLModel",
       "_view_count": null,
       "_view_module": "@jupyter-widgets/controls",
       "_view_module_version": "1.5.0",
       "_view_name": "HTMLView",
       "description": "",
       "description_tooltip": null,
       "layout": "IPY_MODEL_536efbaac5d74fd3a2824e587ad5e482",
       "placeholder": "​",
       "style": "IPY_MODEL_29e3525715e0448f83355c40016b275f",
       "value": " 481/481 [00:00&lt;00:00, 2.02kB/s]"
      }
     },
     "c71ccd73fd674d6aa831ec5e79a9009c": {
      "model_module": "@jupyter-widgets/base",
      "model_module_version": "1.2.0",
      "model_name": "LayoutModel",
      "state": {
       "_model_module": "@jupyter-widgets/base",
       "_model_module_version": "1.2.0",
       "_model_name": "LayoutModel",
       "_view_count": null,
       "_view_module": "@jupyter-widgets/base",
       "_view_module_version": "1.2.0",
       "_view_name": "LayoutView",
       "align_content": null,
       "align_items": null,
       "align_self": null,
       "border": null,
       "bottom": null,
       "display": null,
       "flex": null,
       "flex_flow": null,
       "grid_area": null,
       "grid_auto_columns": null,
       "grid_auto_flow": null,
       "grid_auto_rows": null,
       "grid_column": null,
       "grid_gap": null,
       "grid_row": null,
       "grid_template_areas": null,
       "grid_template_columns": null,
       "grid_template_rows": null,
       "height": null,
       "justify_content": null,
       "justify_items": null,
       "left": null,
       "margin": null,
       "max_height": null,
       "max_width": null,
       "min_height": null,
       "min_width": null,
       "object_fit": null,
       "object_position": null,
       "order": null,
       "overflow": null,
       "overflow_x": null,
       "overflow_y": null,
       "padding": null,
       "right": null,
       "top": null,
       "visibility": null,
       "width": null
      }
     },
     "c9d011b01585452095737c5f296c8efe": {
      "model_module": "@jupyter-widgets/controls",
      "model_module_version": "1.5.0",
      "model_name": "HBoxModel",
      "state": {
       "_dom_classes": [],
       "_model_module": "@jupyter-widgets/controls",
       "_model_module_version": "1.5.0",
       "_model_name": "HBoxModel",
       "_view_count": null,
       "_view_module": "@jupyter-widgets/controls",
       "_view_module_version": "1.5.0",
       "_view_name": "HBoxView",
       "box_style": "",
       "children": [
        "IPY_MODEL_689f2a1598a74592b15fefa341fc36a0",
        "IPY_MODEL_bbcf448ec2774324991191af1cde959c"
       ],
       "layout": "IPY_MODEL_87b5cc6f144b4dfb96e40b28e162f58b"
      }
     },
     "cdee3e93a65145719ff82556f914f4dc": {
      "model_module": "@jupyter-widgets/controls",
      "model_module_version": "1.5.0",
      "model_name": "ProgressStyleModel",
      "state": {
       "_model_module": "@jupyter-widgets/controls",
       "_model_module_version": "1.5.0",
       "_model_name": "ProgressStyleModel",
       "_view_count": null,
       "_view_module": "@jupyter-widgets/base",
       "_view_module_version": "1.2.0",
       "_view_name": "StyleView",
       "bar_color": null,
       "description_width": "initial"
      }
     },
     "ebebb8bc54984458ab5cf8e40ce719fa": {
      "model_module": "@jupyter-widgets/controls",
      "model_module_version": "1.5.0",
      "model_name": "DescriptionStyleModel",
      "state": {
       "_model_module": "@jupyter-widgets/controls",
       "_model_module_version": "1.5.0",
       "_model_name": "DescriptionStyleModel",
       "_view_count": null,
       "_view_module": "@jupyter-widgets/base",
       "_view_module_version": "1.2.0",
       "_view_name": "StyleView",
       "description_width": ""
      }
     }
    },
    "version_major": 2,
    "version_minor": 0
   }
  }
 },
 "nbformat": 4,
 "nbformat_minor": 4
}
