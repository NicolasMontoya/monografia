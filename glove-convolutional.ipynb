{
 "cells": [
  {
   "cell_type": "markdown",
   "metadata": {
    "papermill": {
     "duration": 0.033092,
     "end_time": "2021-04-15T02:51:47.989024",
     "exception": false,
     "start_time": "2021-04-15T02:51:47.955932",
     "status": "completed"
    },
    "tags": []
   },
   "source": [
    "# Glove + RN"
   ]
  },
  {
   "cell_type": "markdown",
   "metadata": {
    "papermill": {
     "duration": 0.033105,
     "end_time": "2021-04-15T02:51:48.055738",
     "exception": false,
     "start_time": "2021-04-15T02:51:48.022633",
     "status": "completed"
    },
    "tags": []
   },
   "source": [
    "En esta etapa del proceso comenzaremos a implementar una serie de modelos para analizar su comportamiento ante la misma base de datos. De tal manera, que podamos identificar las diferencias y capacidades de cada uno."
   ]
  },
  {
   "cell_type": "code",
   "execution_count": 1,
   "metadata": {
    "execution": {
     "iopub.execute_input": "2021-04-15T02:51:48.128931Z",
     "iopub.status.busy": "2021-04-15T02:51:48.128025Z",
     "iopub.status.idle": "2021-04-15T02:51:48.134317Z",
     "shell.execute_reply": "2021-04-15T02:51:48.133572Z"
    },
    "papermill": {
     "duration": 0.045704,
     "end_time": "2021-04-15T02:51:48.134434",
     "exception": false,
     "start_time": "2021-04-15T02:51:48.088730",
     "status": "completed"
    },
    "tags": []
   },
   "outputs": [],
   "source": [
    "NB_START_EPOCHS = 10  # Número de iteraciones de entrenamiento\n",
    "BATCH_SIZE = 512  # Tamaño de grupos usados en entrenamiento\n",
    "GLOVE_DIM = 100  # Número de dimensiones los embeddings GloVe\n",
    "seq_length = 33"
   ]
  },
  {
   "cell_type": "code",
   "execution_count": 2,
   "metadata": {
    "execution": {
     "iopub.execute_input": "2021-04-15T02:51:48.186862Z",
     "iopub.status.busy": "2021-04-15T02:51:48.186223Z",
     "iopub.status.idle": "2021-04-15T02:51:58.276330Z",
     "shell.execute_reply": "2021-04-15T02:51:58.274335Z"
    },
    "papermill": {
     "duration": 10.11964,
     "end_time": "2021-04-15T02:51:58.276496",
     "exception": false,
     "start_time": "2021-04-15T02:51:48.156856",
     "status": "completed"
    },
    "tags": []
   },
   "outputs": [],
   "source": [
    "import tensorflow as tf\n",
    "from tensorflow.keras.layers import Dense,Input,Activation,Flatten,Embedding,GlobalAveragePooling1D,Dropout,LSTM,Conv1D\n",
    "from tensorflow.keras.models import Model"
   ]
  },
  {
   "cell_type": "code",
   "execution_count": 3,
   "metadata": {
    "execution": {
     "iopub.execute_input": "2021-04-15T02:51:58.325083Z",
     "iopub.status.busy": "2021-04-15T02:51:58.323923Z",
     "iopub.status.idle": "2021-04-15T02:52:01.025372Z",
     "shell.execute_reply": "2021-04-15T02:52:01.026210Z"
    },
    "papermill": {
     "duration": 2.727664,
     "end_time": "2021-04-15T02:52:01.026394",
     "exception": false,
     "start_time": "2021-04-15T02:51:58.298730",
     "status": "completed"
    },
    "tags": []
   },
   "outputs": [
    {
     "name": "stderr",
     "output_type": "stream",
     "text": [
      "/opt/conda/lib/python3.7/site-packages/nltk/twitter/__init__.py:20: UserWarning: The twython library has not been installed. Some functionality from the twitter package will not be available.\n",
      "  warnings.warn(\"The twython library has not been installed. \"\n"
     ]
    }
   ],
   "source": [
    "import pandas as pd\n",
    "import numpy as np\n",
    "import matplotlib.pyplot as plt\n",
    "import seaborn as sns\n",
    "import re\n",
    "import string\n",
    "from wordcloud import WordCloud, STOPWORDS\n",
    "import tensorflow as tf\n",
    "import missingno as msno\n",
    "from collections import defaultdict\n",
    "import nltk\n",
    "from nltk.sentiment.vader import SentimentIntensityAnalyzer\n",
    "import json\n",
    "\n",
    "%matplotlib inline"
   ]
  },
  {
   "cell_type": "code",
   "execution_count": 4,
   "metadata": {
    "execution": {
     "iopub.execute_input": "2021-04-15T02:52:01.100379Z",
     "iopub.status.busy": "2021-04-15T02:52:01.099498Z",
     "iopub.status.idle": "2021-04-15T02:52:01.114640Z",
     "shell.execute_reply": "2021-04-15T02:52:01.113925Z"
    },
    "papermill": {
     "duration": 0.053525,
     "end_time": "2021-04-15T02:52:01.114768",
     "exception": false,
     "start_time": "2021-04-15T02:52:01.061243",
     "status": "completed"
    },
    "tags": []
   },
   "outputs": [],
   "source": [
    "#Reference https://www.kaggle.com/parulpandey/eda-and-preprocessing-for-bert\n",
    "\n",
    "def clean(tweet):\n",
    "    tweet = str(tweet)\n",
    "\n",
    "    tweet=tweet.lower()\n",
    "\n",
    "    #Remove html tags\n",
    "    tweet=re.sub('<.*?>','',tweet)\n",
    "\n",
    "    #Remove text in square brackets\n",
    "    tweet=re.sub('\\[.*?\\]','',tweet)\n",
    "\n",
    "    #Remove hyperlinks\n",
    "    tweet=re.sub('https?://\\S+|www\\.\\S+','',tweet)\n",
    "\n",
    "\n",
    "    return tweet"
   ]
  },
  {
   "cell_type": "code",
   "execution_count": 5,
   "metadata": {
    "execution": {
     "iopub.execute_input": "2021-04-15T02:52:01.158239Z",
     "iopub.status.busy": "2021-04-15T02:52:01.157310Z",
     "iopub.status.idle": "2021-04-15T02:52:01.353959Z",
     "shell.execute_reply": "2021-04-15T02:52:01.353042Z"
    },
    "papermill": {
     "duration": 0.221528,
     "end_time": "2021-04-15T02:52:01.354109",
     "exception": false,
     "start_time": "2021-04-15T02:52:01.132581",
     "status": "completed"
    },
    "tags": []
   },
   "outputs": [],
   "source": [
    "train = pd.read_csv(\"/kaggle/input/tweet-sentiment-extraction/train.csv\")\n",
    "test = pd.read_csv(\"/kaggle/input/tweet-sentiment-extraction/test.csv\")\n",
    "target = train['sentiment']"
   ]
  },
  {
   "cell_type": "code",
   "execution_count": 6,
   "metadata": {
    "_cell_guid": "b1076dfc-b9ad-4769-8c92-a6c4dae69d19",
    "_uuid": "8f2839f25d086af736a60e9eeb907d3b93b6e0e5",
    "execution": {
     "iopub.execute_input": "2021-04-15T02:52:01.438331Z",
     "iopub.status.busy": "2021-04-15T02:52:01.430660Z",
     "iopub.status.idle": "2021-04-15T02:52:01.794019Z",
     "shell.execute_reply": "2021-04-15T02:52:01.793379Z"
    },
    "papermill": {
     "duration": 0.405834,
     "end_time": "2021-04-15T02:52:01.794145",
     "exception": false,
     "start_time": "2021-04-15T02:52:01.388311",
     "status": "completed"
    },
    "tags": []
   },
   "outputs": [
    {
     "data": {
      "text/html": [
       "<div>\n",
       "<style scoped>\n",
       "    .dataframe tbody tr th:only-of-type {\n",
       "        vertical-align: middle;\n",
       "    }\n",
       "\n",
       "    .dataframe tbody tr th {\n",
       "        vertical-align: top;\n",
       "    }\n",
       "\n",
       "    .dataframe thead th {\n",
       "        text-align: right;\n",
       "    }\n",
       "</style>\n",
       "<table border=\"1\" class=\"dataframe\">\n",
       "  <thead>\n",
       "    <tr style=\"text-align: right;\">\n",
       "      <th></th>\n",
       "      <th>index</th>\n",
       "      <th>textID</th>\n",
       "      <th>text</th>\n",
       "      <th>selected_text</th>\n",
       "      <th>sentiment</th>\n",
       "      <th>clean_text</th>\n",
       "      <th>clean_selected_text</th>\n",
       "    </tr>\n",
       "  </thead>\n",
       "  <tbody>\n",
       "    <tr>\n",
       "      <th>0</th>\n",
       "      <td>0</td>\n",
       "      <td>cb774db0d1</td>\n",
       "      <td>I`d have responded, if I were going</td>\n",
       "      <td>I`d have responded, if I were going</td>\n",
       "      <td>neutral</td>\n",
       "      <td>i`d have responded, if i were going</td>\n",
       "      <td>i`d have responded, if i were going</td>\n",
       "    </tr>\n",
       "    <tr>\n",
       "      <th>1</th>\n",
       "      <td>1</td>\n",
       "      <td>549e992a42</td>\n",
       "      <td>Sooo SAD I will miss you here in San Diego!!!</td>\n",
       "      <td>Sooo SAD</td>\n",
       "      <td>negative</td>\n",
       "      <td>sooo sad i will miss you here in san diego!!!</td>\n",
       "      <td>sooo sad</td>\n",
       "    </tr>\n",
       "    <tr>\n",
       "      <th>2</th>\n",
       "      <td>2</td>\n",
       "      <td>088c60f138</td>\n",
       "      <td>my boss is bullying me...</td>\n",
       "      <td>bullying me</td>\n",
       "      <td>negative</td>\n",
       "      <td>my boss is bullying me...</td>\n",
       "      <td>bullying me</td>\n",
       "    </tr>\n",
       "    <tr>\n",
       "      <th>3</th>\n",
       "      <td>3</td>\n",
       "      <td>9642c003ef</td>\n",
       "      <td>what interview! leave me alone</td>\n",
       "      <td>leave me alone</td>\n",
       "      <td>negative</td>\n",
       "      <td>what interview! leave me alone</td>\n",
       "      <td>leave me alone</td>\n",
       "    </tr>\n",
       "    <tr>\n",
       "      <th>4</th>\n",
       "      <td>4</td>\n",
       "      <td>358bd9e861</td>\n",
       "      <td>Sons of ****, why couldn`t they put them on t...</td>\n",
       "      <td>Sons of ****,</td>\n",
       "      <td>negative</td>\n",
       "      <td>sons of ****, why couldn`t they put them on t...</td>\n",
       "      <td>sons of ****,</td>\n",
       "    </tr>\n",
       "  </tbody>\n",
       "</table>\n",
       "</div>"
      ],
      "text/plain": [
       "   index      textID                                               text  \\\n",
       "0      0  cb774db0d1                I`d have responded, if I were going   \n",
       "1      1  549e992a42      Sooo SAD I will miss you here in San Diego!!!   \n",
       "2      2  088c60f138                          my boss is bullying me...   \n",
       "3      3  9642c003ef                     what interview! leave me alone   \n",
       "4      4  358bd9e861   Sons of ****, why couldn`t they put them on t...   \n",
       "\n",
       "                         selected_text sentiment  \\\n",
       "0  I`d have responded, if I were going   neutral   \n",
       "1                             Sooo SAD  negative   \n",
       "2                          bullying me  negative   \n",
       "3                       leave me alone  negative   \n",
       "4                        Sons of ****,  negative   \n",
       "\n",
       "                                          clean_text  \\\n",
       "0                i`d have responded, if i were going   \n",
       "1      sooo sad i will miss you here in san diego!!!   \n",
       "2                          my boss is bullying me...   \n",
       "3                     what interview! leave me alone   \n",
       "4   sons of ****, why couldn`t they put them on t...   \n",
       "\n",
       "                   clean_selected_text  \n",
       "0  i`d have responded, if i were going  \n",
       "1                             sooo sad  \n",
       "2                          bullying me  \n",
       "3                       leave me alone  \n",
       "4                        sons of ****,  "
      ]
     },
     "execution_count": 6,
     "metadata": {},
     "output_type": "execute_result"
    }
   ],
   "source": [
    "train_model = train.copy()\n",
    "train_model.dropna(inplace=True)\n",
    "train_model['clean_text']=train_model['text'].apply(clean)\n",
    "train_model['clean_selected_text']=train_model['selected_text'].apply(clean)\n",
    "train_model = train_model.reset_index()\n",
    "train_model.head()"
   ]
  },
  {
   "cell_type": "code",
   "execution_count": 7,
   "metadata": {
    "_cell_guid": "79c7e3d0-c299-4dcb-8224-4455121ee9b0",
    "_uuid": "d629ff2d2480ee46fbb7e2d37f6b5fab8052498a",
    "execution": {
     "iopub.execute_input": "2021-04-15T02:52:01.855076Z",
     "iopub.status.busy": "2021-04-15T02:52:01.854153Z",
     "iopub.status.idle": "2021-04-15T02:52:01.949269Z",
     "shell.execute_reply": "2021-04-15T02:52:01.949746Z"
    },
    "papermill": {
     "duration": 0.131076,
     "end_time": "2021-04-15T02:52:01.949926",
     "exception": false,
     "start_time": "2021-04-15T02:52:01.818850",
     "status": "completed"
    },
    "tags": []
   },
   "outputs": [
    {
     "name": "stdout",
     "output_type": "stream",
     "text": [
      "X_train Forma (17587, 3)  Y_train Forma  (17587,)\n",
      "X_val Forma (5496, 3)  Y_val Forma  (5496,)\n",
      "X_test Forma (4397, 3)  Y_test Forma  (4397,)\n"
     ]
    }
   ],
   "source": [
    "from sklearn.model_selection import train_test_split\n",
    "\n",
    "X_train,X_val,Y_train,Y_val=train_test_split(train_model[['sentiment','clean_text','textID']],train_model['clean_selected_text'],\n",
    "                                               test_size=0.2,random_state=42,stratify=train_model['sentiment'])\n",
    "\n",
    "X_train,X_test,Y_train,Y_test=train_test_split(X_train,Y_train,\n",
    "                                               test_size=0.2,random_state=42,stratify=X_train['sentiment'])\n",
    "\n",
    "X_train.reset_index(inplace=True,drop=True)\n",
    "X_val.reset_index(inplace=True,drop=True)\n",
    "X_test.reset_index(inplace=True,drop=True)\n",
    "\n",
    "Y_train=Y_train.reset_index(drop=True)\n",
    "Y_val=Y_val.reset_index(drop=True)\n",
    "Y_test=Y_test.reset_index(drop=True)\n",
    "\n",
    "print('X_train Forma',X_train.shape,' Y_train Forma ',Y_train.shape)\n",
    "print('X_val Forma',X_val.shape,' Y_val Forma ',Y_val.shape)\n",
    "print('X_test Forma',X_test.shape,' Y_test Forma ',Y_test.shape)"
   ]
  },
  {
   "cell_type": "code",
   "execution_count": 8,
   "metadata": {
    "execution": {
     "iopub.execute_input": "2021-04-15T02:52:02.036694Z",
     "iopub.status.busy": "2021-04-15T02:52:02.023014Z",
     "iopub.status.idle": "2021-04-15T02:52:03.638705Z",
     "shell.execute_reply": "2021-04-15T02:52:03.636114Z"
    },
    "papermill": {
     "duration": 1.663125,
     "end_time": "2021-04-15T02:52:03.638918",
     "exception": false,
     "start_time": "2021-04-15T02:52:01.975793",
     "status": "completed"
    },
    "tags": []
   },
   "outputs": [
    {
     "name": "stdout",
     "output_type": "stream",
     "text": [
      "The shape of X_train_tokens  (17587, 33)\n",
      "The shape of X_val_tokens  (5496, 33)\n",
      "The shape of X_test_tokens  (4397, 33)\n"
     ]
    }
   ],
   "source": [
    "tokenizer = tf.keras.preprocessing.text.Tokenizer(oov_token='UNK',filters='')\n",
    "tokenizer.fit_on_texts(X_train['clean_text'].values+' '+X_train['sentiment'].values)\n",
    "\n",
    "X_train_clean_text = tokenizer.texts_to_sequences(X_train['sentiment'].values+' '+X_train['clean_text'].values)\n",
    "X_val_clean_text = tokenizer.texts_to_sequences(X_val['sentiment'].values+' '+X_val['clean_text'].values)\n",
    "X_test_clean_text = tokenizer.texts_to_sequences(X_test['sentiment'].values+' '+X_test['clean_text'].values)\n",
    "\n",
    "X_train_tokens = tf.keras.preprocessing.sequence.pad_sequences(X_train_clean_text,maxlen=seq_length,padding='post')\n",
    "X_val_tokens = tf.keras.preprocessing.sequence.pad_sequences(X_val_clean_text,maxlen=seq_length,padding='post')\n",
    "X_test_tokens = tf.keras.preprocessing.sequence.pad_sequences(X_test_clean_text,maxlen=seq_length,padding='post')\n",
    "\n",
    "print('The shape of X_train_tokens ',X_train_tokens.shape)\n",
    "print('The shape of X_val_tokens ',X_val_tokens.shape)\n",
    "print('The shape of X_test_tokens ',X_test_tokens.shape)"
   ]
  },
  {
   "cell_type": "markdown",
   "metadata": {
    "papermill": {
     "duration": 0.02474,
     "end_time": "2021-04-15T02:52:03.688990",
     "exception": false,
     "start_time": "2021-04-15T02:52:03.664250",
     "status": "completed"
    },
    "tags": []
   },
   "source": [
    "Una vez tokenizados los datos, es necesario identificar el entero asignado a cada sentimiento"
   ]
  },
  {
   "cell_type": "code",
   "execution_count": 9,
   "metadata": {
    "execution": {
     "iopub.execute_input": "2021-04-15T02:52:03.750169Z",
     "iopub.status.busy": "2021-04-15T02:52:03.749314Z",
     "iopub.status.idle": "2021-04-15T02:52:03.756043Z",
     "shell.execute_reply": "2021-04-15T02:52:03.755252Z"
    },
    "papermill": {
     "duration": 0.041867,
     "end_time": "2021-04-15T02:52:03.756175",
     "exception": false,
     "start_time": "2021-04-15T02:52:03.714308",
     "status": "completed"
    },
    "tags": []
   },
   "outputs": [
    {
     "name": "stdout",
     "output_type": "stream",
     "text": [
      "[3 6 7]\n",
      "['neutral' 'positive' 'negative']\n"
     ]
    }
   ],
   "source": [
    "print(X_train_tokens.T[0][0:3])\n",
    "print(X_train['sentiment'].values[0:3])"
   ]
  },
  {
   "cell_type": "markdown",
   "metadata": {
    "papermill": {
     "duration": 0.025395,
     "end_time": "2021-04-15T02:52:03.807967",
     "exception": false,
     "start_time": "2021-04-15T02:52:03.782572",
     "status": "completed"
    },
    "tags": []
   },
   "source": [
    "Con los posibles sentimiento identificados, es necesario crear un diccionario para poder reperarlos o procesarlos en un futuro"
   ]
  },
  {
   "cell_type": "code",
   "execution_count": 10,
   "metadata": {
    "execution": {
     "iopub.execute_input": "2021-04-15T02:52:03.873955Z",
     "iopub.status.busy": "2021-04-15T02:52:03.867479Z",
     "iopub.status.idle": "2021-04-15T02:52:03.877560Z",
     "shell.execute_reply": "2021-04-15T02:52:03.878121Z"
    },
    "papermill": {
     "duration": 0.045254,
     "end_time": "2021-04-15T02:52:03.878284",
     "exception": false,
     "start_time": "2021-04-15T02:52:03.833030",
     "status": "completed"
    },
    "tags": []
   },
   "outputs": [],
   "source": [
    "# Creación de indices\n",
    "\n",
    "def get_start_end_index(X_data,Y_data):\n",
    "    start_index=np.zeros((X_data.shape[0],32),dtype='int32')\n",
    "    end_index=np.zeros((X_data.shape[0],32),dtype='int32')\n",
    "\n",
    "    for k in range(X_data.shape[0]):\n",
    "        tx1=\" \".join(X_data['clean_text'][k].split())\n",
    "        tx2=\" \".join(Y_data[k].split())\n",
    "        # Se encuentra en indice de inicio y el de finalización\n",
    "        idx=tx1.find(tx2)\n",
    "\n",
    "        # Se insertan unos por cada caracter presente\n",
    "        chars=np.zeros(len(tx1))\n",
    "        chars[idx:idx+len(tx2)]=1\n",
    "\n",
    "        # Creación de offsets con (inicio, fin) para cada palabra \n",
    "        offsets=[]\n",
    "        j=0\n",
    "        for i in tx1.split():\n",
    "            offsets.append((j,j+len(i)+1))\n",
    "            j+=len(i)+1\n",
    "\n",
    "        vals=[]\n",
    "        for i,(o1,o2) in enumerate(offsets):\n",
    "            if(sum(chars[o1:o2])>0):\n",
    "                vals.append(i)\n",
    "\n",
    "        if(len(vals)>0 and len(vals)<=32):\n",
    "            start_index[k,vals[0]]=1\n",
    "            end_index[k,vals[-1]]=1\n",
    "        else:\n",
    "            start_index[k,0]=1\n",
    "            end_index[k,-1]=1\n",
    "    return start_index,end_index"
   ]
  },
  {
   "cell_type": "code",
   "execution_count": 11,
   "metadata": {
    "execution": {
     "iopub.execute_input": "2021-04-15T02:52:03.934477Z",
     "iopub.status.busy": "2021-04-15T02:52:03.933676Z",
     "iopub.status.idle": "2021-04-15T02:52:05.991127Z",
     "shell.execute_reply": "2021-04-15T02:52:05.990500Z"
    },
    "papermill": {
     "duration": 2.08774,
     "end_time": "2021-04-15T02:52:05.991246",
     "exception": false,
     "start_time": "2021-04-15T02:52:03.903506",
     "status": "completed"
    },
    "tags": []
   },
   "outputs": [],
   "source": [
    "Y_tr_1,Y_tr_2=get_start_end_index(X_train,Y_train)\n",
    "Y_val_1,Y_val_2=get_start_end_index(X_val,Y_val)\n",
    "Y_te_1,Y_te_2=get_start_end_index(X_test,Y_test)"
   ]
  },
  {
   "cell_type": "code",
   "execution_count": 12,
   "metadata": {
    "execution": {
     "iopub.execute_input": "2021-04-15T02:52:06.046219Z",
     "iopub.status.busy": "2021-04-15T02:52:06.045598Z",
     "iopub.status.idle": "2021-04-15T02:52:06.051397Z",
     "shell.execute_reply": "2021-04-15T02:52:06.050666Z"
    },
    "papermill": {
     "duration": 0.036548,
     "end_time": "2021-04-15T02:52:06.051520",
     "exception": false,
     "start_time": "2021-04-15T02:52:06.014972",
     "status": "completed"
    },
    "tags": []
   },
   "outputs": [
    {
     "data": {
      "text/plain": [
       "' i could act in most buffy eps  i have seen them so many times, but s1 was shaky (apart from eps 1,2,6,7 & 12)'"
      ]
     },
     "execution_count": 12,
     "metadata": {},
     "output_type": "execute_result"
    }
   ],
   "source": [
    "X_train['clean_text'][129]"
   ]
  },
  {
   "cell_type": "code",
   "execution_count": 13,
   "metadata": {
    "execution": {
     "iopub.execute_input": "2021-04-15T02:52:06.112253Z",
     "iopub.status.busy": "2021-04-15T02:52:06.111557Z",
     "iopub.status.idle": "2021-04-15T02:52:06.118794Z",
     "shell.execute_reply": "2021-04-15T02:52:06.117407Z"
    },
    "papermill": {
     "duration": 0.039261,
     "end_time": "2021-04-15T02:52:06.118944",
     "exception": false,
     "start_time": "2021-04-15T02:52:06.079683",
     "status": "completed"
    },
    "tags": []
   },
   "outputs": [
    {
     "data": {
      "text/plain": [
       "'i could act in most buffy eps  i have seen them so many times, but s1 was shaky (apart from eps 1,2,6,7 & 12)'"
      ]
     },
     "execution_count": 13,
     "metadata": {},
     "output_type": "execute_result"
    }
   ],
   "source": [
    "Y_train[129]"
   ]
  },
  {
   "cell_type": "code",
   "execution_count": 14,
   "metadata": {
    "execution": {
     "iopub.execute_input": "2021-04-15T02:52:06.172646Z",
     "iopub.status.busy": "2021-04-15T02:52:06.172200Z",
     "iopub.status.idle": "2021-04-15T02:52:06.179725Z",
     "shell.execute_reply": "2021-04-15T02:52:06.180275Z"
    },
    "papermill": {
     "duration": 0.035341,
     "end_time": "2021-04-15T02:52:06.180392",
     "exception": false,
     "start_time": "2021-04-15T02:52:06.145051",
     "status": "completed"
    },
    "tags": []
   },
   "outputs": [
    {
     "data": {
      "text/plain": [
       "array([   3,    2,  121, 2410,   14,  315, 9774, 4516,    2,   18,  392,\n",
       "        148,   19,  311, 3087,   21, 9775,   29, 6088, 9776,   49, 4516,\n",
       "       9777,   81, 9778,    0,    0,    0,    0,    0,    0,    0,    0],\n",
       "      dtype=int32)"
      ]
     },
     "execution_count": 14,
     "metadata": {},
     "output_type": "execute_result"
    }
   ],
   "source": [
    "X_train_tokens[129]"
   ]
  },
  {
   "cell_type": "code",
   "execution_count": 15,
   "metadata": {
    "execution": {
     "iopub.execute_input": "2021-04-15T02:52:06.229370Z",
     "iopub.status.busy": "2021-04-15T02:52:06.228653Z",
     "iopub.status.idle": "2021-04-15T02:52:06.240549Z",
     "shell.execute_reply": "2021-04-15T02:52:06.239985Z"
    },
    "papermill": {
     "duration": 0.041166,
     "end_time": "2021-04-15T02:52:06.240679",
     "exception": false,
     "start_time": "2021-04-15T02:52:06.199513",
     "status": "completed"
    },
    "tags": []
   },
   "outputs": [
    {
     "data": {
      "text/plain": [
       "array([1, 0, 0, 0, 0, 0, 0, 0, 0, 0, 0, 0, 0, 0, 0, 0, 0, 0, 0, 0, 0, 0,\n",
       "       0, 0, 0, 0, 0, 0, 0, 0, 0, 0], dtype=int32)"
      ]
     },
     "execution_count": 15,
     "metadata": {},
     "output_type": "execute_result"
    }
   ],
   "source": [
    "Y_tr_1[129]"
   ]
  },
  {
   "cell_type": "code",
   "execution_count": 16,
   "metadata": {
    "execution": {
     "iopub.execute_input": "2021-04-15T02:52:06.303074Z",
     "iopub.status.busy": "2021-04-15T02:52:06.302350Z",
     "iopub.status.idle": "2021-04-15T02:52:06.308580Z",
     "shell.execute_reply": "2021-04-15T02:52:06.308139Z"
    },
    "papermill": {
     "duration": 0.03936,
     "end_time": "2021-04-15T02:52:06.308668",
     "exception": false,
     "start_time": "2021-04-15T02:52:06.269308",
     "status": "completed"
    },
    "tags": []
   },
   "outputs": [
    {
     "data": {
      "text/plain": [
       "array([0, 0, 0, 0, 0, 0, 0, 0, 0, 0, 0, 0, 0, 0, 0, 0, 0, 0, 0, 0, 0, 0,\n",
       "       0, 1, 0, 0, 0, 0, 0, 0, 0, 0], dtype=int32)"
      ]
     },
     "execution_count": 16,
     "metadata": {},
     "output_type": "execute_result"
    }
   ],
   "source": [
    "Y_tr_2[129]"
   ]
  },
  {
   "cell_type": "code",
   "execution_count": 17,
   "metadata": {
    "execution": {
     "iopub.execute_input": "2021-04-15T02:52:06.370811Z",
     "iopub.status.busy": "2021-04-15T02:52:06.369827Z",
     "iopub.status.idle": "2021-04-15T02:53:31.764208Z",
     "shell.execute_reply": "2021-04-15T02:53:31.764737Z"
    },
    "papermill": {
     "duration": 85.430466,
     "end_time": "2021-04-15T02:53:31.764908",
     "exception": false,
     "start_time": "2021-04-15T02:52:06.334442",
     "status": "completed"
    },
    "tags": []
   },
   "outputs": [
    {
     "name": "stdout",
     "output_type": "stream",
     "text": [
      "1193514 Vectores de palabras encontrados.\n"
     ]
    }
   ],
   "source": [
    "embeddings_index = {}\n",
    "f = open('/kaggle/input/glove-global-vectors-for-word-representation/glove.twitter.27B.100d.txt', encoding='utf-8')\n",
    "for line in f:\n",
    "    values = line.split()\n",
    "    word = values[0]\n",
    "    coefs = np.asarray(values[1:], dtype='float32')\n",
    "    embeddings_index[word] = coefs\n",
    "f.close()\n",
    "\n",
    "print('%s Vectores de palabras encontrados.' % len(embeddings_index))"
   ]
  },
  {
   "cell_type": "code",
   "execution_count": 18,
   "metadata": {
    "execution": {
     "iopub.execute_input": "2021-04-15T02:53:31.829666Z",
     "iopub.status.busy": "2021-04-15T02:53:31.829001Z",
     "iopub.status.idle": "2021-04-15T02:53:31.832468Z",
     "shell.execute_reply": "2021-04-15T02:53:31.831805Z"
    },
    "papermill": {
     "duration": 0.038952,
     "end_time": "2021-04-15T02:53:31.832592",
     "exception": false,
     "start_time": "2021-04-15T02:53:31.793640",
     "status": "completed"
    },
    "tags": []
   },
   "outputs": [
    {
     "name": "stdout",
     "output_type": "stream",
     "text": [
      "32146\n"
     ]
    }
   ],
   "source": [
    "vocab_size=len(tokenizer.word_index)+1\n",
    "print(vocab_size)"
   ]
  },
  {
   "cell_type": "code",
   "execution_count": 19,
   "metadata": {
    "execution": {
     "iopub.execute_input": "2021-04-15T02:53:31.898174Z",
     "iopub.status.busy": "2021-04-15T02:53:31.897275Z",
     "iopub.status.idle": "2021-04-15T02:53:31.951812Z",
     "shell.execute_reply": "2021-04-15T02:53:31.951135Z"
    },
    "papermill": {
     "duration": 0.088994,
     "end_time": "2021-04-15T02:53:31.951957",
     "exception": false,
     "start_time": "2021-04-15T02:53:31.862963",
     "status": "completed"
    },
    "tags": []
   },
   "outputs": [],
   "source": [
    "embedding_matrix = np.zeros((vocab_size, GLOVE_DIM ))\n",
    "for word, i in tokenizer.word_index.items():\n",
    "    embedding_vector = embeddings_index.get(word)\n",
    "    if embedding_vector is not None:    \n",
    "        embedding_matrix[i] = embedding_vector"
   ]
  },
  {
   "cell_type": "code",
   "execution_count": 20,
   "metadata": {
    "execution": {
     "iopub.execute_input": "2021-04-15T02:53:32.022479Z",
     "iopub.status.busy": "2021-04-15T02:53:32.021274Z",
     "iopub.status.idle": "2021-04-15T02:53:32.028356Z",
     "shell.execute_reply": "2021-04-15T02:53:32.027695Z"
    },
    "papermill": {
     "duration": 0.047453,
     "end_time": "2021-04-15T02:53:32.028489",
     "exception": false,
     "start_time": "2021-04-15T02:53:31.981036",
     "status": "completed"
    },
    "tags": []
   },
   "outputs": [],
   "source": [
    "import os\n",
    "if not os.path.exists('./model-glove'):\n",
    "    os.makedirs('./model-glove')"
   ]
  },
  {
   "cell_type": "code",
   "execution_count": 21,
   "metadata": {
    "execution": {
     "iopub.execute_input": "2021-04-15T02:53:32.098826Z",
     "iopub.status.busy": "2021-04-15T02:53:32.098147Z",
     "iopub.status.idle": "2021-04-15T02:53:32.379594Z",
     "shell.execute_reply": "2021-04-15T02:53:32.378694Z"
    },
    "papermill": {
     "duration": 0.321057,
     "end_time": "2021-04-15T02:53:32.379741",
     "exception": false,
     "start_time": "2021-04-15T02:53:32.058684",
     "status": "completed"
    },
    "tags": []
   },
   "outputs": [
    {
     "name": "stdout",
     "output_type": "stream",
     "text": [
      "Model: \"functional_1\"\n",
      "__________________________________________________________________________________________________\n",
      "Layer (type)                    Output Shape         Param #     Connected to                     \n",
      "==================================================================================================\n",
      "input (InputLayer)              [(None, 33)]         0                                            \n",
      "__________________________________________________________________________________________________\n",
      "embedding (Embedding)           (None, 33, 100)      3214600     input[0][0]                      \n",
      "__________________________________________________________________________________________________\n",
      "conv1d (Conv1D)                 (None, 32, 6)        1206        embedding[0][0]                  \n",
      "__________________________________________________________________________________________________\n",
      "drop_out (Dropout)              (None, 32, 6)        0           conv1d[0][0]                     \n",
      "__________________________________________________________________________________________________\n",
      "flatten (Flatten)               (None, 192)          0           drop_out[0][0]                   \n",
      "__________________________________________________________________________________________________\n",
      "output1 (Dense)                 (None, 32)           6176        flatten[0][0]                    \n",
      "__________________________________________________________________________________________________\n",
      "output2 (Dense)                 (None, 32)           6176        flatten[0][0]                    \n",
      "==================================================================================================\n",
      "Total params: 3,228,158\n",
      "Trainable params: 13,558\n",
      "Non-trainable params: 3,214,600\n",
      "__________________________________________________________________________________________________\n"
     ]
    }
   ],
   "source": [
    "# Red neuronal convolucional\n",
    "\n",
    "input_layer=Input((seq_length,),name='input')\n",
    "embedding_layer=Embedding(vocab_size,100,weights=[embedding_matrix],input_length=seq_length,trainable=False)(input_layer)\n",
    "\n",
    "conv1d=Conv1D(6,2,kernel_initializer=tf.keras.initializers.glorot_uniform(seed=20),name='conv1d')(embedding_layer)\n",
    "dropout=Dropout(0.2,name=\"drop_out\")(conv1d)\n",
    "flatten=Flatten(name='flatten')(dropout)\n",
    "\n",
    "output1=Dense(32,activation='softmax',kernel_initializer=tf.keras.initializers.glorot_uniform(seed=45),name='output1')(flatten)\n",
    "\n",
    "output2=Dense(32,activation='softmax',kernel_initializer=tf.keras.initializers.glorot_uniform(seed=45),name='output2')(flatten)\n",
    "\n",
    "simpleNeural=Model(inputs=[input_layer],outputs=[output1,output2])\n",
    "\n",
    "simpleNeural.summary()"
   ]
  },
  {
   "cell_type": "code",
   "execution_count": 22,
   "metadata": {
    "execution": {
     "iopub.execute_input": "2021-04-15T02:53:32.484052Z",
     "iopub.status.busy": "2021-04-15T02:53:32.483172Z",
     "iopub.status.idle": "2021-04-15T02:53:32.499709Z",
     "shell.execute_reply": "2021-04-15T02:53:32.498955Z"
    },
    "papermill": {
     "duration": 0.07559,
     "end_time": "2021-04-15T02:53:32.499862",
     "exception": false,
     "start_time": "2021-04-15T02:53:32.424272",
     "status": "completed"
    },
    "tags": []
   },
   "outputs": [],
   "source": [
    "from tensorflow.keras.callbacks import TensorBoard\n",
    "%load_ext tensorboard\n",
    "\n",
    "log_dir='./model-glove/logs'\n",
    "tensorboard_callback = TensorBoard(log_dir=log_dir,histogram_freq=1, write_graph=True)"
   ]
  },
  {
   "cell_type": "code",
   "execution_count": 23,
   "metadata": {
    "execution": {
     "iopub.execute_input": "2021-04-15T02:53:32.600538Z",
     "iopub.status.busy": "2021-04-15T02:53:32.599455Z",
     "iopub.status.idle": "2021-04-15T02:53:32.602217Z",
     "shell.execute_reply": "2021-04-15T02:53:32.602706Z"
    },
    "papermill": {
     "duration": 0.059244,
     "end_time": "2021-04-15T02:53:32.602895",
     "exception": false,
     "start_time": "2021-04-15T02:53:32.543651",
     "status": "completed"
    },
    "tags": []
   },
   "outputs": [],
   "source": [
    "from tensorflow.keras.callbacks import ModelCheckpoint\n",
    "\n",
    "filepath=\"./model-glove/weights-{epoch:02d}-{val_loss:.4f}.hdf5\"\n",
    "checkpoint = ModelCheckpoint(filepath=filepath, monitor='val_loss', verbose=1, save_best_only=True, mode='auto')"
   ]
  },
  {
   "cell_type": "code",
   "execution_count": 24,
   "metadata": {
    "execution": {
     "iopub.execute_input": "2021-04-15T02:53:32.668380Z",
     "iopub.status.busy": "2021-04-15T02:53:32.666850Z",
     "iopub.status.idle": "2021-04-15T02:53:32.683267Z",
     "shell.execute_reply": "2021-04-15T02:53:32.683758Z"
    },
    "papermill": {
     "duration": 0.050732,
     "end_time": "2021-04-15T02:53:32.683932",
     "exception": false,
     "start_time": "2021-04-15T02:53:32.633200",
     "status": "completed"
    },
    "tags": []
   },
   "outputs": [],
   "source": [
    "simpleNeural.compile(optimizer=tf.keras.optimizers.Adam(learning_rate=0.001),\n",
    "              loss=tf.keras.losses.CategoricalCrossentropy())"
   ]
  },
  {
   "cell_type": "code",
   "execution_count": 25,
   "metadata": {
    "execution": {
     "iopub.execute_input": "2021-04-15T02:53:32.749501Z",
     "iopub.status.busy": "2021-04-15T02:53:32.748543Z",
     "iopub.status.idle": "2021-04-15T02:54:36.860970Z",
     "shell.execute_reply": "2021-04-15T02:54:36.860040Z"
    },
    "papermill": {
     "duration": 64.146928,
     "end_time": "2021-04-15T02:54:36.861133",
     "exception": false,
     "start_time": "2021-04-15T02:53:32.714205",
     "status": "completed"
    },
    "tags": []
   },
   "outputs": [
    {
     "name": "stdout",
     "output_type": "stream",
     "text": [
      "Epoch 1/20\n",
      "549/550 [============================>.] - ETA: 0s - loss: 4.6367 - output1_loss: 1.8426 - output2_loss: 2.7942\n",
      "Epoch 00001: val_loss improved from inf to 3.75577, saving model to ./model-glove/weights-01-3.7558.hdf5\n",
      "550/550 [==============================] - 3s 6ms/step - loss: 4.6350 - output1_loss: 1.8414 - output2_loss: 2.7935 - val_loss: 3.7558 - val_output1_loss: 1.4873 - val_output2_loss: 2.2685\n",
      "Epoch 2/20\n",
      "542/550 [============================>.] - ETA: 0s - loss: 3.5560 - output1_loss: 1.4347 - output2_loss: 2.1213\n",
      "Epoch 00002: val_loss improved from 3.75577 to 3.34162, saving model to ./model-glove/weights-02-3.3416.hdf5\n",
      "550/550 [==============================] - 3s 6ms/step - loss: 3.5570 - output1_loss: 1.4356 - output2_loss: 2.1214 - val_loss: 3.3416 - val_output1_loss: 1.3504 - val_output2_loss: 1.9912\n",
      "Epoch 3/20\n",
      "548/550 [============================>.] - ETA: 0s - loss: 3.2828 - output1_loss: 1.3283 - output2_loss: 1.9545\n",
      "Epoch 00003: val_loss improved from 3.34162 to 3.20405, saving model to ./model-glove/weights-03-3.2040.hdf5\n",
      "550/550 [==============================] - 3s 6ms/step - loss: 3.2834 - output1_loss: 1.3284 - output2_loss: 1.9550 - val_loss: 3.2040 - val_output1_loss: 1.2880 - val_output2_loss: 1.9160\n",
      "Epoch 4/20\n",
      "548/550 [============================>.] - ETA: 0s - loss: 3.1736 - output1_loss: 1.2771 - output2_loss: 1.8965\n",
      "Epoch 00004: val_loss improved from 3.20405 to 3.16708, saving model to ./model-glove/weights-04-3.1671.hdf5\n",
      "550/550 [==============================] - 3s 5ms/step - loss: 3.1748 - output1_loss: 1.2781 - output2_loss: 1.8966 - val_loss: 3.1671 - val_output1_loss: 1.2688 - val_output2_loss: 1.8983\n",
      "Epoch 5/20\n",
      "549/550 [============================>.] - ETA: 0s - loss: 3.1147 - output1_loss: 1.2530 - output2_loss: 1.8617\n",
      "Epoch 00005: val_loss improved from 3.16708 to 3.11693, saving model to ./model-glove/weights-05-3.1169.hdf5\n",
      "550/550 [==============================] - 3s 6ms/step - loss: 3.1145 - output1_loss: 1.2528 - output2_loss: 1.8616 - val_loss: 3.1169 - val_output1_loss: 1.2504 - val_output2_loss: 1.8666\n",
      "Epoch 6/20\n",
      "543/550 [============================>.] - ETA: 0s - loss: 3.0739 - output1_loss: 1.2288 - output2_loss: 1.8450\n",
      "Epoch 00006: val_loss improved from 3.11693 to 3.11526, saving model to ./model-glove/weights-06-3.1153.hdf5\n",
      "550/550 [==============================] - 3s 6ms/step - loss: 3.0738 - output1_loss: 1.2297 - output2_loss: 1.8440 - val_loss: 3.1153 - val_output1_loss: 1.2503 - val_output2_loss: 1.8650\n",
      "Epoch 7/20\n",
      "542/550 [============================>.] - ETA: 0s - loss: 3.0457 - output1_loss: 1.2169 - output2_loss: 1.8288\n",
      "Epoch 00007: val_loss improved from 3.11526 to 3.10801, saving model to ./model-glove/weights-07-3.1080.hdf5\n",
      "550/550 [==============================] - 3s 5ms/step - loss: 3.0457 - output1_loss: 1.2175 - output2_loss: 1.8282 - val_loss: 3.1080 - val_output1_loss: 1.2418 - val_output2_loss: 1.8662\n",
      "Epoch 8/20\n",
      "538/550 [============================>.] - ETA: 0s - loss: 3.0227 - output1_loss: 1.2060 - output2_loss: 1.8168\n",
      "Epoch 00008: val_loss improved from 3.10801 to 3.09839, saving model to ./model-glove/weights-08-3.0984.hdf5\n",
      "550/550 [==============================] - 3s 6ms/step - loss: 3.0224 - output1_loss: 1.2059 - output2_loss: 1.8165 - val_loss: 3.0984 - val_output1_loss: 1.2337 - val_output2_loss: 1.8646\n",
      "Epoch 9/20\n",
      "538/550 [============================>.] - ETA: 0s - loss: 3.0061 - output1_loss: 1.1979 - output2_loss: 1.8082\n",
      "Epoch 00009: val_loss improved from 3.09839 to 3.08701, saving model to ./model-glove/weights-09-3.0870.hdf5\n",
      "550/550 [==============================] - 3s 5ms/step - loss: 3.0092 - output1_loss: 1.2002 - output2_loss: 1.8090 - val_loss: 3.0870 - val_output1_loss: 1.2344 - val_output2_loss: 1.8526\n",
      "Epoch 10/20\n",
      "550/550 [==============================] - ETA: 0s - loss: 2.9870 - output1_loss: 1.1865 - output2_loss: 1.8005\n",
      "Epoch 00010: val_loss did not improve from 3.08701\n",
      "550/550 [==============================] - 3s 5ms/step - loss: 2.9870 - output1_loss: 1.1865 - output2_loss: 1.8005 - val_loss: 3.0895 - val_output1_loss: 1.2343 - val_output2_loss: 1.8551\n",
      "Epoch 11/20\n",
      "539/550 [============================>.] - ETA: 0s - loss: 2.9765 - output1_loss: 1.1785 - output2_loss: 1.7980\n",
      "Epoch 00011: val_loss did not improve from 3.08701\n",
      "550/550 [==============================] - 3s 5ms/step - loss: 2.9791 - output1_loss: 1.1806 - output2_loss: 1.7985 - val_loss: 3.0955 - val_output1_loss: 1.2323 - val_output2_loss: 1.8632\n",
      "Epoch 12/20\n",
      "547/550 [============================>.] - ETA: 0s - loss: 2.9617 - output1_loss: 1.1789 - output2_loss: 1.7828\n",
      "Epoch 00012: val_loss did not improve from 3.08701\n",
      "550/550 [==============================] - 3s 6ms/step - loss: 2.9610 - output1_loss: 1.1786 - output2_loss: 1.7825 - val_loss: 3.0942 - val_output1_loss: 1.2348 - val_output2_loss: 1.8594\n",
      "Epoch 13/20\n",
      "541/550 [============================>.] - ETA: 0s - loss: 2.9574 - output1_loss: 1.1704 - output2_loss: 1.7869\n",
      "Epoch 00013: val_loss did not improve from 3.08701\n",
      "550/550 [==============================] - 3s 6ms/step - loss: 2.9580 - output1_loss: 1.1719 - output2_loss: 1.7860 - val_loss: 3.0937 - val_output1_loss: 1.2334 - val_output2_loss: 1.8603\n",
      "Epoch 14/20\n",
      "543/550 [============================>.] - ETA: 0s - loss: 2.9294 - output1_loss: 1.1619 - output2_loss: 1.7676\n",
      "Epoch 00014: val_loss did not improve from 3.08701\n",
      "550/550 [==============================] - 3s 6ms/step - loss: 2.9301 - output1_loss: 1.1625 - output2_loss: 1.7676 - val_loss: 3.0988 - val_output1_loss: 1.2375 - val_output2_loss: 1.8613\n",
      "Epoch 15/20\n",
      "547/550 [============================>.] - ETA: 0s - loss: 2.9394 - output1_loss: 1.1650 - output2_loss: 1.7744\n",
      "Epoch 00015: val_loss did not improve from 3.08701\n",
      "550/550 [==============================] - 3s 6ms/step - loss: 2.9374 - output1_loss: 1.1643 - output2_loss: 1.7730 - val_loss: 3.1138 - val_output1_loss: 1.2367 - val_output2_loss: 1.8771\n",
      "Epoch 16/20\n",
      "549/550 [============================>.] - ETA: 0s - loss: 2.9375 - output1_loss: 1.1597 - output2_loss: 1.7778\n",
      "Epoch 00016: val_loss did not improve from 3.08701\n",
      "550/550 [==============================] - 3s 6ms/step - loss: 2.9373 - output1_loss: 1.1597 - output2_loss: 1.7776 - val_loss: 3.1013 - val_output1_loss: 1.2368 - val_output2_loss: 1.8645\n",
      "Epoch 17/20\n",
      "546/550 [============================>.] - ETA: 0s - loss: 2.9299 - output1_loss: 1.1593 - output2_loss: 1.7706\n",
      "Epoch 00017: val_loss did not improve from 3.08701\n",
      "550/550 [==============================] - 3s 5ms/step - loss: 2.9305 - output1_loss: 1.1591 - output2_loss: 1.7714 - val_loss: 3.0958 - val_output1_loss: 1.2362 - val_output2_loss: 1.8596\n",
      "Epoch 18/20\n",
      "542/550 [============================>.] - ETA: 0s - loss: 2.9323 - output1_loss: 1.1583 - output2_loss: 1.7740\n",
      "Epoch 00018: val_loss did not improve from 3.08701\n",
      "550/550 [==============================] - 3s 6ms/step - loss: 2.9302 - output1_loss: 1.1568 - output2_loss: 1.7734 - val_loss: 3.1077 - val_output1_loss: 1.2413 - val_output2_loss: 1.8665\n",
      "Epoch 19/20\n",
      "544/550 [============================>.] - ETA: 0s - loss: 2.9198 - output1_loss: 1.1553 - output2_loss: 1.7645\n",
      "Epoch 00019: val_loss did not improve from 3.08701\n",
      "550/550 [==============================] - 3s 6ms/step - loss: 2.9195 - output1_loss: 1.1548 - output2_loss: 1.7647 - val_loss: 3.1064 - val_output1_loss: 1.2408 - val_output2_loss: 1.8655\n",
      "Epoch 20/20\n",
      "543/550 [============================>.] - ETA: 0s - loss: 2.9073 - output1_loss: 1.1523 - output2_loss: 1.7550\n",
      "Epoch 00020: val_loss did not improve from 3.08701\n",
      "550/550 [==============================] - 3s 6ms/step - loss: 2.9090 - output1_loss: 1.1539 - output2_loss: 1.7551 - val_loss: 3.1179 - val_output1_loss: 1.2431 - val_output2_loss: 1.8748\n"
     ]
    },
    {
     "data": {
      "text/plain": [
       "<tensorflow.python.keras.callbacks.History at 0x7f395463ca90>"
      ]
     },
     "execution_count": 25,
     "metadata": {},
     "output_type": "execute_result"
    }
   ],
   "source": [
    "callback=[tensorboard_callback,checkpoint]\n",
    "simpleNeural.fit(X_train_tokens,[Y_tr_1,Y_tr_2],batch_size=32,epochs=20,callbacks=callback,\n",
    "           validation_data=(X_val_tokens,[Y_val_1,Y_val_2]))"
   ]
  },
  {
   "cell_type": "code",
   "execution_count": 26,
   "metadata": {
    "execution": {
     "iopub.execute_input": "2021-04-15T02:54:37.924110Z",
     "iopub.status.busy": "2021-04-15T02:54:37.922994Z",
     "iopub.status.idle": "2021-04-15T02:54:38.874059Z",
     "shell.execute_reply": "2021-04-15T02:54:38.873035Z"
    },
    "papermill": {
     "duration": 1.465635,
     "end_time": "2021-04-15T02:54:38.874221",
     "exception": false,
     "start_time": "2021-04-15T02:54:37.408586",
     "status": "completed"
    },
    "tags": []
   },
   "outputs": [
    {
     "data": {
      "image/png": "[encoded data removed]",
      "text/plain": [
       "<IPython.core.display.Image object>"
      ]
     },
     "execution_count": 26,
     "metadata": {},
     "output_type": "execute_result"
    }
   ],
   "source": [
    "tf.keras.utils.plot_model(simpleNeural, './model-glove/model.png',show_shapes=True)"
   ]
  },
  {
   "cell_type": "code",
   "execution_count": 27,
   "metadata": {
    "execution": {
     "iopub.execute_input": "2021-04-15T02:54:39.962354Z",
     "iopub.status.busy": "2021-04-15T02:54:39.961397Z",
     "iopub.status.idle": "2021-04-15T02:54:39.971667Z",
     "shell.execute_reply": "2021-04-15T02:54:39.970761Z"
    },
    "papermill": {
     "duration": 0.549882,
     "end_time": "2021-04-15T02:54:39.971807",
     "exception": false,
     "start_time": "2021-04-15T02:54:39.421925",
     "status": "completed"
    },
    "tags": []
   },
   "outputs": [],
   "source": [
    "# Metrica definida\n",
    "\n",
    "def jaccard(str1, str2):\n",
    "  a = set(str1.lower().split()) \n",
    "  b = set(str2.lower().split())\n",
    "  c = a.intersection(b)\n",
    "  return float(len(c)) / (len(a) + len(b) - len(c))"
   ]
  },
  {
   "cell_type": "code",
   "execution_count": 28,
   "metadata": {
    "execution": {
     "iopub.execute_input": "2021-04-15T02:54:41.077385Z",
     "iopub.status.busy": "2021-04-15T02:54:41.076492Z",
     "iopub.status.idle": "2021-04-15T02:54:41.600493Z",
     "shell.execute_reply": "2021-04-15T02:54:41.599338Z"
    },
    "papermill": {
     "duration": 1.084974,
     "end_time": "2021-04-15T02:54:41.600631",
     "exception": false,
     "start_time": "2021-04-15T02:54:40.515657",
     "status": "completed"
    },
    "tags": []
   },
   "outputs": [
    {
     "name": "stdout",
     "output_type": "stream",
     "text": [
      "138/138 [==============================] - 0s 3ms/step\n"
     ]
    }
   ],
   "source": [
    "st_idx,end_idx=simpleNeural.predict(X_test_tokens,batch_size=32,verbose=1)"
   ]
  },
  {
   "cell_type": "code",
   "execution_count": 29,
   "metadata": {
    "execution": {
     "iopub.execute_input": "2021-04-15T02:54:42.351598Z",
     "iopub.status.busy": "2021-04-15T02:54:42.343973Z",
     "iopub.status.idle": "2021-04-15T02:54:42.356190Z",
     "shell.execute_reply": "2021-04-15T02:54:42.355496Z"
    },
    "papermill": {
     "duration": 0.388945,
     "end_time": "2021-04-15T02:54:42.356313",
     "exception": false,
     "start_time": "2021-04-15T02:54:41.967368",
     "status": "completed"
    },
    "tags": []
   },
   "outputs": [],
   "source": [
    "def compute_jaccard(st_idx,end_idx,X,Y):\n",
    "    all_jaccard=[]\n",
    "    df=pd.DataFrame(columns=['clean_text','selected_text','predicted','jaccard','sentiment'])\n",
    "    for i in range(len(st_idx)):\n",
    "        initial=np.argmax(st_idx[i])\n",
    "        final=np.argmax(end_idx[i])\n",
    "        sent2=\" \".join(X['clean_text'][i].split()[initial:final+1])\n",
    "        sent1=Y[i] \n",
    "        df.loc[i,'clean_text']=X['clean_text'][i]   \n",
    "        df.loc[i,'selected_text']=sent1\n",
    "        df.loc[i,'predicted']=sent2\n",
    "        df.loc[i,'sentiment']=X['sentiment'][i]\n",
    "        jaccard_score=jaccard(sent1,sent2)\n",
    "        df.loc[i,'jaccard']=jaccard_score\n",
    "        all_jaccard.append(jaccard_score)\n",
    "    return np.mean(np.array(all_jaccard)),df"
   ]
  },
  {
   "cell_type": "code",
   "execution_count": 30,
   "metadata": {
    "execution": {
     "iopub.execute_input": "2021-04-15T02:54:43.258114Z",
     "iopub.status.busy": "2021-04-15T02:54:43.189471Z",
     "iopub.status.idle": "2021-04-15T02:54:50.243130Z",
     "shell.execute_reply": "2021-04-15T02:54:50.242134Z"
    },
    "papermill": {
     "duration": 7.518407,
     "end_time": "2021-04-15T02:54:50.243272",
     "exception": false,
     "start_time": "2021-04-15T02:54:42.724865",
     "status": "completed"
    },
    "tags": []
   },
   "outputs": [
    {
     "name": "stdout",
     "output_type": "stream",
     "text": [
      "0.589016819998208\n"
     ]
    }
   ],
   "source": [
    "score,df=compute_jaccard(st_idx,end_idx,X_test,Y_test)\n",
    "print(score)"
   ]
  }
 ],
 "metadata": {
  "kernelspec": {
   "display_name": "Python 3",
   "language": "python",
   "name": "python3"
  },
  "language_info": {
   "codemirror_mode": {
    "name": "ipython",
    "version": 3
   },
   "file_extension": ".py",
   "mimetype": "text/x-python",
   "name": "python",
   "nbconvert_exporter": "python",
   "pygments_lexer": "ipython3",
   "version": "3.7.6"
  },
  "papermill": {
   "duration": 189.422403,
   "end_time": "2021-04-15T02:54:50.767905",
   "environment_variables": {},
   "exception": null,
   "input_path": "__notebook__.ipynb",
   "output_path": "__notebook__.ipynb",
   "parameters": {},
   "start_time": "2021-04-15T02:51:41.345502",
   "version": "2.1.0"
  }
 },
 "nbformat": 4,
 "nbformat_minor": 4
}
