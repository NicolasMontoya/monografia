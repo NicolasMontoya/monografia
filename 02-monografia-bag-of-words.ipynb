{
 "cells": [
  {
   "cell_type": "code",
   "execution_count": 1,
   "metadata": {
    "execution": {
     "iopub.execute_input": "2021-04-08T22:11:00.652336Z",
     "iopub.status.busy": "2021-04-08T22:11:00.651596Z",
     "iopub.status.idle": "2021-04-08T22:11:02.853778Z",
     "shell.execute_reply": "2021-04-08T22:11:02.854309Z"
    },
    "papermill": {
     "duration": 2.222524,
     "end_time": "2021-04-08T22:11:02.854758",
     "exception": false,
     "start_time": "2021-04-08T22:11:00.632234",
     "status": "completed"
    },
    "tags": []
   },
   "outputs": [
    {
     "name": "stdout",
     "output_type": "stream",
     "text": [
      "[nltk_data] Downloading package stopwords to /usr/share/nltk_data...\n",
      "[nltk_data]   Package stopwords is already up-to-date!\n"
     ]
    }
   ],
   "source": [
    "from nltk.corpus import stopwords\n",
    "from nltk.stem import WordNetLemmatizer, PorterStemmer\n",
    "lemmatizer = WordNetLemmatizer()\n",
    "import pandas as pd\n",
    "import numpy as np\n",
    "import nltk\n",
    "import re\n",
    "import string\n",
    "ps = PorterStemmer()\n",
    "nltk.download('stopwords')\n",
    "\n",
    "from sklearn.feature_extraction.text import CountVectorizer\n",
    "from sklearn.model_selection import train_test_split"
   ]
  },
  {
   "cell_type": "code",
   "execution_count": 2,
   "metadata": {
    "execution": {
     "iopub.execute_input": "2021-04-08T22:11:02.892211Z",
     "iopub.status.busy": "2021-04-08T22:11:02.891420Z",
     "iopub.status.idle": "2021-04-08T22:11:02.894969Z",
     "shell.execute_reply": "2021-04-08T22:11:02.894289Z"
    },
    "papermill": {
     "duration": 0.027996,
     "end_time": "2021-04-08T22:11:02.895150",
     "exception": false,
     "start_time": "2021-04-08T22:11:02.867154",
     "status": "completed"
    },
    "tags": []
   },
   "outputs": [],
   "source": [
    "#Reference https://www.kaggle.com/parulpandey/eda-and-preprocessing-for-bert\n",
    "\n",
    "def clean(tweet):\n",
    "    tweet = str(tweet)\n",
    "\n",
    "    tweet=tweet.lower()\n",
    "\n",
    "    #Remove html tags\n",
    "    tweet=re.sub('<.*?>','',tweet)\n",
    "\n",
    "    #Remove text in square brackets\n",
    "    tweet=re.sub('\\[.*?\\]','',tweet)\n",
    "\n",
    "    #Remove hyperlinks\n",
    "    tweet=re.sub('https?://\\S+|www\\.\\S+','',tweet)\n",
    "    \n",
    "    #Remove puntuation\n",
    "    tweet = re.sub('[%s]' % re.escape(string.punctuation), '', tweet)\n",
    "\n",
    "    return tweet"
   ]
  },
  {
   "cell_type": "code",
   "execution_count": 3,
   "metadata": {
    "execution": {
     "iopub.execute_input": "2021-04-08T22:11:02.925600Z",
     "iopub.status.busy": "2021-04-08T22:11:02.924896Z",
     "iopub.status.idle": "2021-04-08T22:11:03.168405Z",
     "shell.execute_reply": "2021-04-08T22:11:03.168896Z"
    },
    "papermill": {
     "duration": 0.26138,
     "end_time": "2021-04-08T22:11:03.169106",
     "exception": false,
     "start_time": "2021-04-08T22:11:02.907726",
     "status": "completed"
    },
    "tags": []
   },
   "outputs": [],
   "source": [
    "train = pd.read_csv(\"/kaggle/input/tweet-sentiment-extraction/train.csv\")\n",
    "test = pd.read_csv(\"/kaggle/input/tweet-sentiment-extraction/test.csv\")\n",
    "target = train['sentiment']"
   ]
  },
  {
   "cell_type": "code",
   "execution_count": 4,
   "metadata": {
    "execution": {
     "iopub.execute_input": "2021-04-08T22:11:03.197343Z",
     "iopub.status.busy": "2021-04-08T22:11:03.196551Z",
     "iopub.status.idle": "2021-04-08T22:11:03.903256Z",
     "shell.execute_reply": "2021-04-08T22:11:03.902675Z"
    },
    "papermill": {
     "duration": 0.722576,
     "end_time": "2021-04-08T22:11:03.903400",
     "exception": false,
     "start_time": "2021-04-08T22:11:03.180824",
     "status": "completed"
    },
    "tags": []
   },
   "outputs": [],
   "source": [
    "train_clean = train.copy()\n",
    "\n",
    "train_clean['text'] = train_clean['text'].apply(lambda x:clean(x))\n",
    "train_clean['selected_text'] = train_clean['selected_text'].apply(lambda x:clean(x))"
   ]
  },
  {
   "cell_type": "code",
   "execution_count": 5,
   "metadata": {
    "execution": {
     "iopub.execute_input": "2021-04-08T22:11:03.936737Z",
     "iopub.status.busy": "2021-04-08T22:11:03.936020Z",
     "iopub.status.idle": "2021-04-08T22:11:03.958938Z",
     "shell.execute_reply": "2021-04-08T22:11:03.958192Z"
    },
    "papermill": {
     "duration": 0.044107,
     "end_time": "2021-04-08T22:11:03.959087",
     "exception": false,
     "start_time": "2021-04-08T22:11:03.914980",
     "status": "completed"
    },
    "tags": []
   },
   "outputs": [
    {
     "data": {
      "text/html": [
       "<div>\n",
       "<style scoped>\n",
       "    .dataframe tbody tr th:only-of-type {\n",
       "        vertical-align: middle;\n",
       "    }\n",
       "\n",
       "    .dataframe tbody tr th {\n",
       "        vertical-align: top;\n",
       "    }\n",
       "\n",
       "    .dataframe thead th {\n",
       "        text-align: right;\n",
       "    }\n",
       "</style>\n",
       "<table border=\"1\" class=\"dataframe\">\n",
       "  <thead>\n",
       "    <tr style=\"text-align: right;\">\n",
       "      <th></th>\n",
       "      <th>textID</th>\n",
       "      <th>text</th>\n",
       "      <th>selected_text</th>\n",
       "      <th>sentiment</th>\n",
       "    </tr>\n",
       "  </thead>\n",
       "  <tbody>\n",
       "    <tr>\n",
       "      <th>0</th>\n",
       "      <td>cb774db0d1</td>\n",
       "      <td>id have responded if i were going</td>\n",
       "      <td>id have responded if i were going</td>\n",
       "      <td>neutral</td>\n",
       "    </tr>\n",
       "    <tr>\n",
       "      <th>1</th>\n",
       "      <td>549e992a42</td>\n",
       "      <td>sooo sad i will miss you here in san diego</td>\n",
       "      <td>sooo sad</td>\n",
       "      <td>negative</td>\n",
       "    </tr>\n",
       "    <tr>\n",
       "      <th>2</th>\n",
       "      <td>088c60f138</td>\n",
       "      <td>my boss is bullying me</td>\n",
       "      <td>bullying me</td>\n",
       "      <td>negative</td>\n",
       "    </tr>\n",
       "    <tr>\n",
       "      <th>3</th>\n",
       "      <td>9642c003ef</td>\n",
       "      <td>what interview leave me alone</td>\n",
       "      <td>leave me alone</td>\n",
       "      <td>negative</td>\n",
       "    </tr>\n",
       "    <tr>\n",
       "      <th>4</th>\n",
       "      <td>358bd9e861</td>\n",
       "      <td>sons of  why couldnt they put them on the rel...</td>\n",
       "      <td>sons of</td>\n",
       "      <td>negative</td>\n",
       "    </tr>\n",
       "    <tr>\n",
       "      <th>...</th>\n",
       "      <td>...</td>\n",
       "      <td>...</td>\n",
       "      <td>...</td>\n",
       "      <td>...</td>\n",
       "    </tr>\n",
       "    <tr>\n",
       "      <th>27476</th>\n",
       "      <td>4eac33d1c0</td>\n",
       "      <td>wish we could come see u on denver  husband l...</td>\n",
       "      <td>d lost</td>\n",
       "      <td>negative</td>\n",
       "    </tr>\n",
       "    <tr>\n",
       "      <th>27477</th>\n",
       "      <td>4f4c4fc327</td>\n",
       "      <td>ive wondered about rake to  the client has ma...</td>\n",
       "      <td>dont force</td>\n",
       "      <td>negative</td>\n",
       "    </tr>\n",
       "    <tr>\n",
       "      <th>27478</th>\n",
       "      <td>f67aae2310</td>\n",
       "      <td>yay good for both of you enjoy the break  you...</td>\n",
       "      <td>yay good for both of you</td>\n",
       "      <td>positive</td>\n",
       "    </tr>\n",
       "    <tr>\n",
       "      <th>27479</th>\n",
       "      <td>ed167662a5</td>\n",
       "      <td>but it was worth it</td>\n",
       "      <td>but it was worth it</td>\n",
       "      <td>positive</td>\n",
       "    </tr>\n",
       "    <tr>\n",
       "      <th>27480</th>\n",
       "      <td>6f7127d9d7</td>\n",
       "      <td>all this flirting going on  the atg smiles ...</td>\n",
       "      <td>all this flirting going on  the atg smiles yay...</td>\n",
       "      <td>neutral</td>\n",
       "    </tr>\n",
       "  </tbody>\n",
       "</table>\n",
       "<p>27481 rows × 4 columns</p>\n",
       "</div>"
      ],
      "text/plain": [
       "           textID                                               text  \\\n",
       "0      cb774db0d1                  id have responded if i were going   \n",
       "1      549e992a42         sooo sad i will miss you here in san diego   \n",
       "2      088c60f138                             my boss is bullying me   \n",
       "3      9642c003ef                      what interview leave me alone   \n",
       "4      358bd9e861   sons of  why couldnt they put them on the rel...   \n",
       "...           ...                                                ...   \n",
       "27476  4eac33d1c0   wish we could come see u on denver  husband l...   \n",
       "27477  4f4c4fc327   ive wondered about rake to  the client has ma...   \n",
       "27478  f67aae2310   yay good for both of you enjoy the break  you...   \n",
       "27479  ed167662a5                              but it was worth it     \n",
       "27480  6f7127d9d7     all this flirting going on  the atg smiles ...   \n",
       "\n",
       "                                           selected_text sentiment  \n",
       "0                      id have responded if i were going   neutral  \n",
       "1                                               sooo sad  negative  \n",
       "2                                            bullying me  negative  \n",
       "3                                         leave me alone  negative  \n",
       "4                                               sons of   negative  \n",
       "...                                                  ...       ...  \n",
       "27476                                             d lost  negative  \n",
       "27477                                         dont force  negative  \n",
       "27478                           yay good for both of you  positive  \n",
       "27479                              but it was worth it    positive  \n",
       "27480  all this flirting going on  the atg smiles yay...   neutral  \n",
       "\n",
       "[27481 rows x 4 columns]"
      ]
     },
     "execution_count": 5,
     "metadata": {},
     "output_type": "execute_result"
    }
   ],
   "source": [
    "train_clean"
   ]
  },
  {
   "cell_type": "code",
   "execution_count": 6,
   "metadata": {
    "execution": {
     "iopub.execute_input": "2021-04-08T22:11:04.003278Z",
     "iopub.status.busy": "2021-04-08T22:11:04.002515Z",
     "iopub.status.idle": "2021-04-08T22:11:04.033651Z",
     "shell.execute_reply": "2021-04-08T22:11:04.032301Z"
    },
    "papermill": {
     "duration": 0.062474,
     "end_time": "2021-04-08T22:11:04.033812",
     "exception": false,
     "start_time": "2021-04-08T22:11:03.971338",
     "status": "completed"
    },
    "tags": []
   },
   "outputs": [],
   "source": [
    "train_clean = train_clean.dropna()"
   ]
  },
  {
   "cell_type": "code",
   "execution_count": 7,
   "metadata": {
    "execution": {
     "iopub.execute_input": "2021-04-08T22:11:04.070075Z",
     "iopub.status.busy": "2021-04-08T22:11:04.066257Z",
     "iopub.status.idle": "2021-04-08T22:11:04.075288Z",
     "shell.execute_reply": "2021-04-08T22:11:04.074689Z"
    },
    "papermill": {
     "duration": 0.029084,
     "end_time": "2021-04-08T22:11:04.075447",
     "exception": false,
     "start_time": "2021-04-08T22:11:04.046363",
     "status": "completed"
    },
    "tags": []
   },
   "outputs": [],
   "source": [
    "X_train, X_val = train_test_split(train_clean, test_size = 0.3, random_state = 17)"
   ]
  },
  {
   "cell_type": "code",
   "execution_count": 8,
   "metadata": {
    "execution": {
     "iopub.execute_input": "2021-04-08T22:11:04.112497Z",
     "iopub.status.busy": "2021-04-08T22:11:04.111811Z",
     "iopub.status.idle": "2021-04-08T22:11:04.128745Z",
     "shell.execute_reply": "2021-04-08T22:11:04.129470Z"
    },
    "papermill": {
     "duration": 0.041761,
     "end_time": "2021-04-08T22:11:04.129683",
     "exception": false,
     "start_time": "2021-04-08T22:11:04.087922",
     "status": "completed"
    },
    "tags": []
   },
   "outputs": [],
   "source": [
    "pos_train = train_clean[train_clean['sentiment'] == 'positive']\n",
    "neutral_train = train_clean[train_clean['sentiment'] == 'neutral']\n",
    "neg_train = train_clean[train_clean['sentiment'] == 'negative']"
   ]
  },
  {
   "cell_type": "code",
   "execution_count": 9,
   "metadata": {
    "execution": {
     "iopub.execute_input": "2021-04-08T22:11:04.160718Z",
     "iopub.status.busy": "2021-04-08T22:11:04.159965Z",
     "iopub.status.idle": "2021-04-08T22:11:16.654792Z",
     "shell.execute_reply": "2021-04-08T22:11:16.655336Z"
    },
    "papermill": {
     "duration": 12.512344,
     "end_time": "2021-04-08T22:11:16.655568",
     "exception": false,
     "start_time": "2021-04-08T22:11:04.143224",
     "status": "completed"
    },
    "tags": []
   },
   "outputs": [],
   "source": [
    "# https://www.kaggle.com/nkoprowicz/a-simple-solution-using-only-word-counts/notebook\n",
    "# Se usa CountVectorizer para encontrar el conteo de palabras (Bag of words)\n",
    "\n",
    "cv = CountVectorizer(max_df=0.95, min_df=2,\n",
    "                                     max_features=10000,\n",
    "                                     stop_words='english')\n",
    "\n",
    "X_train_cv = cv.fit_transform(train_clean['text'])\n",
    "\n",
    "X_pos = cv.transform(pos_train['text'])\n",
    "X_neutral = cv.transform(neutral_train['text'])\n",
    "X_neg = cv.transform(neg_train['text'])\n",
    "\n",
    "pos_count_df = pd.DataFrame(X_pos.toarray(), columns=cv.get_feature_names())\n",
    "neutral_count_df = pd.DataFrame(X_neutral.toarray(), columns=cv.get_feature_names())\n",
    "neg_count_df = pd.DataFrame(X_neg.toarray(), columns=cv.get_feature_names())\n",
    "\n",
    "# Se crea un diccionario por sentimiento con el valor de cada palabras \n",
    "\n",
    "pos_words = {}\n",
    "neutral_words = {}\n",
    "neg_words = {}\n",
    "\n",
    "for k in cv.get_feature_names():\n",
    "    pos = pos_count_df[k].sum()\n",
    "    neutral = neutral_count_df[k].sum()\n",
    "    neg = neg_count_df[k].sum()\n",
    "    \n",
    "    pos_words[k] = pos/pos_train.shape[0]\n",
    "    neutral_words[k] = neutral/neutral_train.shape[0]\n",
    "    neg_words[k] = neg/neg_train.shape[0]\n",
    "\n",
    "neg_words_adj = {}\n",
    "pos_words_adj = {}\n",
    "neutral_words_adj = {}\n",
    "\n",
    "for key, value in neg_words.items():\n",
    "    neg_words_adj[key] = neg_words[key] - (neutral_words[key] + pos_words[key])\n",
    "for key, value in pos_words.items():\n",
    "    pos_words_adj[key] = pos_words[key] - (neutral_words[key] + neg_words[key])\n",
    "for key, value in neutral_words.items():\n",
    "    neutral_words_adj[key] = neutral_words[key] - (neg_words[key] + pos_words[key])"
   ]
  },
  {
   "cell_type": "code",
   "execution_count": 10,
   "metadata": {
    "execution": {
     "iopub.execute_input": "2021-04-08T22:11:16.692931Z",
     "iopub.status.busy": "2021-04-08T22:11:16.691843Z",
     "iopub.status.idle": "2021-04-08T22:11:16.695452Z",
     "shell.execute_reply": "2021-04-08T22:11:16.694892Z"
    },
    "papermill": {
     "duration": 0.027064,
     "end_time": "2021-04-08T22:11:16.695616",
     "exception": false,
     "start_time": "2021-04-08T22:11:16.668552",
     "status": "completed"
    },
    "tags": []
   },
   "outputs": [],
   "source": [
    "def calculate_selected_text(df_row, tol = 0):\n",
    "    \n",
    "    tweet = df_row['text']\n",
    "    sentiment = df_row['sentiment']\n",
    "    \n",
    "    if(sentiment == 'neutral'):\n",
    "        return tweet\n",
    "    \n",
    "    elif(sentiment == 'positive'):\n",
    "        dict_to_use = pos_words_adj\n",
    "    elif(sentiment == 'negative'):\n",
    "        dict_to_use = neg_words_adj\n",
    "        \n",
    "    words = tweet.split()\n",
    "    words_len = len(words)\n",
    "    subsets = [words[i:j+1] for i in range(words_len) for j in range(i,words_len)]\n",
    "    \n",
    "    score = 0\n",
    "    selection_str = ''\n",
    "    lst = sorted(subsets, key = len)\n",
    "    \n",
    "    \n",
    "    for i in range(len(subsets)):\n",
    "        \n",
    "        new_sum = 0 \n",
    "        \n",
    "        for p in range(len(lst[i])):\n",
    "            if(lst[i][p] in dict_to_use.keys()):\n",
    "                new_sum += dict_to_use[lst[i][p].translate(str.maketrans('','',string.punctuation))]\n",
    "            \n",
    "        if(new_sum > score + tol):\n",
    "            score = new_sum\n",
    "            selection_str = lst[i]\n",
    "\n",
    "    if(len(selection_str) == 0):\n",
    "        selection_str = words\n",
    "        \n",
    "    return ' '.join(selection_str)"
   ]
  },
  {
   "cell_type": "code",
   "execution_count": 11,
   "metadata": {
    "execution": {
     "iopub.execute_input": "2021-04-08T22:11:16.741859Z",
     "iopub.status.busy": "2021-04-08T22:11:16.741039Z",
     "iopub.status.idle": "2021-04-08T22:13:12.363388Z",
     "shell.execute_reply": "2021-04-08T22:13:12.362685Z"
    },
    "papermill": {
     "duration": 115.653554,
     "end_time": "2021-04-08T22:13:12.363559",
     "exception": false,
     "start_time": "2021-04-08T22:11:16.710005",
     "status": "completed"
    },
    "tags": []
   },
   "outputs": [
    {
     "name": "stderr",
     "output_type": "stream",
     "text": [
      "/opt/conda/lib/python3.7/site-packages/ipykernel_launcher.py:3: SettingWithCopyWarning: \n",
      "A value is trying to be set on a copy of a slice from a DataFrame.\n",
      "Try using .loc[row_indexer,col_indexer] = value instead\n",
      "\n",
      "See the caveats in the documentation: https://pandas.pydata.org/pandas-docs/stable/user_guide/indexing.html#returning-a-view-versus-a-copy\n",
      "  This is separate from the ipykernel package so we can avoid doing imports until\n",
      "/opt/conda/lib/python3.7/site-packages/pandas/core/indexing.py:1636: SettingWithCopyWarning: \n",
      "A value is trying to be set on a copy of a slice from a DataFrame\n",
      "\n",
      "See the caveats in the documentation: https://pandas.pydata.org/pandas-docs/stable/user_guide/indexing.html#returning-a-view-versus-a-copy\n",
      "  self._setitem_single_block(indexer, value, name)\n",
      "/opt/conda/lib/python3.7/site-packages/pandas/core/indexing.py:691: SettingWithCopyWarning: \n",
      "A value is trying to be set on a copy of a slice from a DataFrame\n",
      "\n",
      "See the caveats in the documentation: https://pandas.pydata.org/pandas-docs/stable/user_guide/indexing.html#returning-a-view-versus-a-copy\n",
      "  iloc._setitem_with_indexer(indexer, value, self.name)\n"
     ]
    }
   ],
   "source": [
    "tol = 0.001\n",
    "\n",
    "X_train['predicted_selection'] = ''\n",
    "\n",
    "for index, row in X_train.iterrows():\n",
    "    \n",
    "    selected_text = calculate_selected_text(row, tol)\n",
    "    \n",
    "    X_train.loc[X_train['textID'] == row['textID'], ['predicted_selection']] = selected_text"
   ]
  },
  {
   "cell_type": "code",
   "execution_count": 12,
   "metadata": {
    "execution": {
     "iopub.execute_input": "2021-04-08T22:13:12.397730Z",
     "iopub.status.busy": "2021-04-08T22:13:12.397038Z",
     "iopub.status.idle": "2021-04-08T22:13:12.400683Z",
     "shell.execute_reply": "2021-04-08T22:13:12.401166Z"
    },
    "papermill": {
     "duration": 0.024181,
     "end_time": "2021-04-08T22:13:12.401353",
     "exception": false,
     "start_time": "2021-04-08T22:13:12.377172",
     "status": "completed"
    },
    "tags": []
   },
   "outputs": [],
   "source": [
    "def jaccard(str1, str2): \n",
    "    a = set(str1.lower().split()) \n",
    "    b = set(str2.lower().split())\n",
    "    c = a.intersection(b)\n",
    "    if ((len(a) + len(b) - len(c)) == 0):\n",
    "        print(str1)\n",
    "        print(str2)\n",
    "    return float(len(c)) / (len(a) + len(b) - len(c))"
   ]
  },
  {
   "cell_type": "code",
   "execution_count": 13,
   "metadata": {
    "execution": {
     "iopub.execute_input": "2021-04-08T22:13:12.438544Z",
     "iopub.status.busy": "2021-04-08T22:13:12.437611Z",
     "iopub.status.idle": "2021-04-08T22:13:12.444587Z",
     "shell.execute_reply": "2021-04-08T22:13:12.445142Z"
    },
    "papermill": {
     "duration": 0.030361,
     "end_time": "2021-04-08T22:13:12.445335",
     "exception": false,
     "start_time": "2021-04-08T22:13:12.414974",
     "status": "completed"
    },
    "tags": []
   },
   "outputs": [],
   "source": [
    "X_train = X_train[X_train['selected_text'] != '']"
   ]
  },
  {
   "cell_type": "code",
   "execution_count": 14,
   "metadata": {
    "execution": {
     "iopub.execute_input": "2021-04-08T22:13:12.483927Z",
     "iopub.status.busy": "2021-04-08T22:13:12.483217Z",
     "iopub.status.idle": "2021-04-08T22:13:12.948675Z",
     "shell.execute_reply": "2021-04-08T22:13:12.949170Z"
    },
    "papermill": {
     "duration": 0.490154,
     "end_time": "2021-04-08T22:13:12.949487",
     "exception": false,
     "start_time": "2021-04-08T22:13:12.459333",
     "status": "completed"
    },
    "tags": []
   },
   "outputs": [
    {
     "name": "stdout",
     "output_type": "stream",
     "text": [
      "The jaccard score for the train set is: 0.6697657991769344\n"
     ]
    }
   ],
   "source": [
    "X_train['jaccard'] = X_train[X_train['selected_text'] != ''].apply(lambda x: jaccard(x['selected_text'], x['predicted_selection']), axis = 1)\n",
    "\n",
    "print('The jaccard score for the train set is:', np.mean(X_train['jaccard']))"
   ]
  },
  {
   "cell_type": "code",
   "execution_count": 15,
   "metadata": {
    "execution": {
     "iopub.execute_input": "2021-04-08T22:13:13.014480Z",
     "iopub.status.busy": "2021-04-08T22:13:13.013724Z",
     "iopub.status.idle": "2021-04-08T22:13:49.206689Z",
     "shell.execute_reply": "2021-04-08T22:13:49.207231Z"
    },
    "papermill": {
     "duration": 36.244219,
     "end_time": "2021-04-08T22:13:49.207644",
     "exception": false,
     "start_time": "2021-04-08T22:13:12.963425",
     "status": "completed"
    },
    "tags": []
   },
   "outputs": [
    {
     "name": "stderr",
     "output_type": "stream",
     "text": [
      "/opt/conda/lib/python3.7/site-packages/pandas/core/indexing.py:1719: SettingWithCopyWarning: \n",
      "A value is trying to be set on a copy of a slice from a DataFrame.\n",
      "Try using .loc[row_indexer,col_indexer] = value instead\n",
      "\n",
      "See the caveats in the documentation: https://pandas.pydata.org/pandas-docs/stable/user_guide/indexing.html#returning-a-view-versus-a-copy\n",
      "  self._setitem_single_column(loc, value, pi)\n"
     ]
    }
   ],
   "source": [
    "tol = 0.001\n",
    "\n",
    "X_train['predicted_selection'] = ''\n",
    "\n",
    "for index, row in X_val.iterrows():\n",
    "    \n",
    "    selected_text = calculate_selected_text(row, tol)\n",
    "    \n",
    "    X_val.loc[X_val['textID'] == row['textID'], ['predicted_selection']] = selected_text"
   ]
  },
  {
   "cell_type": "code",
   "execution_count": 16,
   "metadata": {
    "execution": {
     "iopub.execute_input": "2021-04-08T22:13:49.255373Z",
     "iopub.status.busy": "2021-04-08T22:13:49.249760Z",
     "iopub.status.idle": "2021-04-08T22:13:49.460413Z",
     "shell.execute_reply": "2021-04-08T22:13:49.460985Z"
    },
    "papermill": {
     "duration": 0.237183,
     "end_time": "2021-04-08T22:13:49.461165",
     "exception": false,
     "start_time": "2021-04-08T22:13:49.223982",
     "status": "completed"
    },
    "tags": []
   },
   "outputs": [
    {
     "name": "stdout",
     "output_type": "stream",
     "text": [
      "The jaccard score for the test set is: 0.6682965308314733\n"
     ]
    },
    {
     "name": "stderr",
     "output_type": "stream",
     "text": [
      "/opt/conda/lib/python3.7/site-packages/ipykernel_launcher.py:1: SettingWithCopyWarning: \n",
      "A value is trying to be set on a copy of a slice from a DataFrame.\n",
      "Try using .loc[row_indexer,col_indexer] = value instead\n",
      "\n",
      "See the caveats in the documentation: https://pandas.pydata.org/pandas-docs/stable/user_guide/indexing.html#returning-a-view-versus-a-copy\n",
      "  \"\"\"Entry point for launching an IPython kernel.\n"
     ]
    }
   ],
   "source": [
    "X_val['jaccard'] = X_val[X_val['selected_text'] != ''].apply(lambda x: jaccard(x['selected_text'], x['predicted_selection']), axis = 1)\n",
    "print('The jaccard score for the test set is:', np.mean(X_val['jaccard']))"
   ]
  }
 ],
 "metadata": {
  "kernelspec": {
   "display_name": "Python 3",
   "language": "python",
   "name": "python3"
  },
  "language_info": {
   "codemirror_mode": {
    "name": "ipython",
    "version": 3
   },
   "file_extension": ".py",
   "mimetype": "text/x-python",
   "name": "python",
   "nbconvert_exporter": "python",
   "pygments_lexer": "ipython3",
   "version": "3.7.9"
  },
  "papermill": {
   "default_parameters": {},
   "duration": 176.501099,
   "end_time": "2021-04-08T22:13:50.391930",
   "environment_variables": {},
   "exception": null,
   "input_path": "__notebook__.ipynb",
   "output_path": "__notebook__.ipynb",
   "parameters": {},
   "start_time": "2021-04-08T22:10:53.890831",
   "version": "2.2.2"
  }
 },
 "nbformat": 4,
 "nbformat_minor": 4
}
