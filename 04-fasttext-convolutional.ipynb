{
 "cells": [
  {
   "cell_type": "markdown",
   "metadata": {
    "papermill": {
     "duration": 0.022972,
     "end_time": "2021-04-15T03:26:58.051949",
     "exception": false,
     "start_time": "2021-04-15T03:26:58.028977",
     "status": "completed"
    },
    "tags": []
   },
   "source": [
    "# FastText  + Convolutional"
   ]
  },
  {
   "cell_type": "markdown",
   "metadata": {
    "papermill": {
     "duration": 0.021002,
     "end_time": "2021-04-15T03:26:58.094817",
     "exception": false,
     "start_time": "2021-04-15T03:26:58.073815",
     "status": "completed"
    },
    "tags": []
   },
   "source": [
    "En esta etapa del proceso comenzaremos a implementar una serie de modelos para analizar su comportamiento ante la misma base de datos. De tal manera, que podamos identificar las diferencias y capacidades de cada uno."
   ]
  },
  {
   "cell_type": "code",
   "execution_count": 1,
   "metadata": {
    "execution": {
     "iopub.execute_input": "2021-04-15T03:26:58.146897Z",
     "iopub.status.busy": "2021-04-15T03:26:58.145817Z",
     "iopub.status.idle": "2021-04-15T03:26:58.149887Z",
     "shell.execute_reply": "2021-04-15T03:26:58.149224Z"
    },
    "papermill": {
     "duration": 0.030943,
     "end_time": "2021-04-15T03:26:58.150021",
     "exception": false,
     "start_time": "2021-04-15T03:26:58.119078",
     "status": "completed"
    },
    "tags": []
   },
   "outputs": [],
   "source": [
    "NB_START_EPOCHS = 10  # Número de iteraciones de entrenamiento\n",
    "BATCH_SIZE = 512  # Tamaño de grupos usados en entrenamiento\n",
    "FAST_DIM = 300  # Número de dimensiones los embeddings GloVe\n",
    "seq_length = 33"
   ]
  },
  {
   "cell_type": "code",
   "execution_count": 2,
   "metadata": {
    "execution": {
     "iopub.execute_input": "2021-04-15T03:26:58.199122Z",
     "iopub.status.busy": "2021-04-15T03:26:58.198351Z",
     "iopub.status.idle": "2021-04-15T03:27:05.209969Z",
     "shell.execute_reply": "2021-04-15T03:27:05.209161Z"
    },
    "papermill": {
     "duration": 7.038476,
     "end_time": "2021-04-15T03:27:05.210107",
     "exception": false,
     "start_time": "2021-04-15T03:26:58.171631",
     "status": "completed"
    },
    "tags": []
   },
   "outputs": [],
   "source": [
    "import tensorflow as tf\n",
    "from tensorflow.keras.layers import Dense,Input,Activation,Flatten,Embedding,GlobalAveragePooling1D,Dropout,LSTM,Conv1D\n",
    "from tensorflow.keras.models import Model"
   ]
  },
  {
   "cell_type": "code",
   "execution_count": 3,
   "metadata": {
    "execution": {
     "iopub.execute_input": "2021-04-15T03:27:05.263073Z",
     "iopub.status.busy": "2021-04-15T03:27:05.261844Z",
     "iopub.status.idle": "2021-04-15T03:27:07.133945Z",
     "shell.execute_reply": "2021-04-15T03:27:07.133198Z"
    },
    "papermill": {
     "duration": 1.902476,
     "end_time": "2021-04-15T03:27:07.134078",
     "exception": false,
     "start_time": "2021-04-15T03:27:05.231602",
     "status": "completed"
    },
    "tags": []
   },
   "outputs": [
    {
     "name": "stderr",
     "output_type": "stream",
     "text": [
      "/opt/conda/lib/python3.7/site-packages/nltk/twitter/__init__.py:20: UserWarning: The twython library has not been installed. Some functionality from the twitter package will not be available.\n",
      "  warnings.warn(\"The twython library has not been installed. \"\n"
     ]
    }
   ],
   "source": [
    "import pandas as pd\n",
    "import numpy as np\n",
    "import matplotlib.pyplot as plt\n",
    "import seaborn as sns\n",
    "import re\n",
    "import string\n",
    "from wordcloud import WordCloud, STOPWORDS\n",
    "import tensorflow as tf\n",
    "import missingno as msno\n",
    "from collections import defaultdict\n",
    "import codecs\n",
    "import nltk\n",
    "from tqdm import tqdm\n",
    "from nltk.sentiment.vader import SentimentIntensityAnalyzer\n",
    "import json\n",
    "\n",
    "%matplotlib inline"
   ]
  },
  {
   "cell_type": "code",
   "execution_count": 4,
   "metadata": {
    "execution": {
     "iopub.execute_input": "2021-04-15T03:27:07.192163Z",
     "iopub.status.busy": "2021-04-15T03:27:07.191085Z",
     "iopub.status.idle": "2021-04-15T03:27:07.194634Z",
     "shell.execute_reply": "2021-04-15T03:27:07.193934Z"
    },
    "papermill": {
     "duration": 0.038393,
     "end_time": "2021-04-15T03:27:07.194795",
     "exception": false,
     "start_time": "2021-04-15T03:27:07.156402",
     "status": "completed"
    },
    "tags": []
   },
   "outputs": [],
   "source": [
    "#Reference https://www.kaggle.com/parulpandey/eda-and-preprocessing-for-bert\n",
    "\n",
    "def clean(tweet):\n",
    "    tweet = str(tweet)\n",
    "\n",
    "    tweet=tweet.lower()\n",
    "\n",
    "    #Remove html tags\n",
    "    tweet=re.sub('<.*?>','',tweet)\n",
    "\n",
    "    #Remove text in square brackets\n",
    "    tweet=re.sub('\\[.*?\\]','',tweet)\n",
    "\n",
    "    #Remove hyperlinks\n",
    "    tweet=re.sub('https?://\\S+|www\\.\\S+','',tweet)\n",
    "\n",
    "\n",
    "    return tweet"
   ]
  },
  {
   "cell_type": "code",
   "execution_count": 5,
   "metadata": {
    "execution": {
     "iopub.execute_input": "2021-04-15T03:27:07.249527Z",
     "iopub.status.busy": "2021-04-15T03:27:07.248766Z",
     "iopub.status.idle": "2021-04-15T03:27:07.431124Z",
     "shell.execute_reply": "2021-04-15T03:27:07.430393Z"
    },
    "papermill": {
     "duration": 0.214387,
     "end_time": "2021-04-15T03:27:07.431267",
     "exception": false,
     "start_time": "2021-04-15T03:27:07.216880",
     "status": "completed"
    },
    "tags": []
   },
   "outputs": [],
   "source": [
    "train = pd.read_csv(\"/kaggle/input/tweet-sentiment-extraction/train.csv\")\n",
    "test = pd.read_csv(\"/kaggle/input/tweet-sentiment-extraction/test.csv\")\n",
    "target = train['sentiment']"
   ]
  },
  {
   "cell_type": "code",
   "execution_count": 6,
   "metadata": {
    "_cell_guid": "b1076dfc-b9ad-4769-8c92-a6c4dae69d19",
    "_uuid": "8f2839f25d086af736a60e9eeb907d3b93b6e0e5",
    "execution": {
     "iopub.execute_input": "2021-04-15T03:27:07.498395Z",
     "iopub.status.busy": "2021-04-15T03:27:07.484582Z",
     "iopub.status.idle": "2021-04-15T03:27:07.920077Z",
     "shell.execute_reply": "2021-04-15T03:27:07.919496Z"
    },
    "papermill": {
     "duration": 0.465371,
     "end_time": "2021-04-15T03:27:07.920209",
     "exception": false,
     "start_time": "2021-04-15T03:27:07.454838",
     "status": "completed"
    },
    "tags": []
   },
   "outputs": [
    {
     "data": {
      "text/html": [
       "<div>\n",
       "<style scoped>\n",
       "    .dataframe tbody tr th:only-of-type {\n",
       "        vertical-align: middle;\n",
       "    }\n",
       "\n",
       "    .dataframe tbody tr th {\n",
       "        vertical-align: top;\n",
       "    }\n",
       "\n",
       "    .dataframe thead th {\n",
       "        text-align: right;\n",
       "    }\n",
       "</style>\n",
       "<table border=\"1\" class=\"dataframe\">\n",
       "  <thead>\n",
       "    <tr style=\"text-align: right;\">\n",
       "      <th></th>\n",
       "      <th>index</th>\n",
       "      <th>textID</th>\n",
       "      <th>text</th>\n",
       "      <th>selected_text</th>\n",
       "      <th>sentiment</th>\n",
       "      <th>clean_text</th>\n",
       "      <th>clean_selected_text</th>\n",
       "    </tr>\n",
       "  </thead>\n",
       "  <tbody>\n",
       "    <tr>\n",
       "      <th>0</th>\n",
       "      <td>0</td>\n",
       "      <td>cb774db0d1</td>\n",
       "      <td>I`d have responded, if I were going</td>\n",
       "      <td>I`d have responded, if I were going</td>\n",
       "      <td>neutral</td>\n",
       "      <td>i`d have responded, if i were going</td>\n",
       "      <td>i`d have responded, if i were going</td>\n",
       "    </tr>\n",
       "    <tr>\n",
       "      <th>1</th>\n",
       "      <td>1</td>\n",
       "      <td>549e992a42</td>\n",
       "      <td>Sooo SAD I will miss you here in San Diego!!!</td>\n",
       "      <td>Sooo SAD</td>\n",
       "      <td>negative</td>\n",
       "      <td>sooo sad i will miss you here in san diego!!!</td>\n",
       "      <td>sooo sad</td>\n",
       "    </tr>\n",
       "    <tr>\n",
       "      <th>2</th>\n",
       "      <td>2</td>\n",
       "      <td>088c60f138</td>\n",
       "      <td>my boss is bullying me...</td>\n",
       "      <td>bullying me</td>\n",
       "      <td>negative</td>\n",
       "      <td>my boss is bullying me...</td>\n",
       "      <td>bullying me</td>\n",
       "    </tr>\n",
       "    <tr>\n",
       "      <th>3</th>\n",
       "      <td>3</td>\n",
       "      <td>9642c003ef</td>\n",
       "      <td>what interview! leave me alone</td>\n",
       "      <td>leave me alone</td>\n",
       "      <td>negative</td>\n",
       "      <td>what interview! leave me alone</td>\n",
       "      <td>leave me alone</td>\n",
       "    </tr>\n",
       "    <tr>\n",
       "      <th>4</th>\n",
       "      <td>4</td>\n",
       "      <td>358bd9e861</td>\n",
       "      <td>Sons of ****, why couldn`t they put them on t...</td>\n",
       "      <td>Sons of ****,</td>\n",
       "      <td>negative</td>\n",
       "      <td>sons of ****, why couldn`t they put them on t...</td>\n",
       "      <td>sons of ****,</td>\n",
       "    </tr>\n",
       "  </tbody>\n",
       "</table>\n",
       "</div>"
      ],
      "text/plain": [
       "   index      textID                                               text  \\\n",
       "0      0  cb774db0d1                I`d have responded, if I were going   \n",
       "1      1  549e992a42      Sooo SAD I will miss you here in San Diego!!!   \n",
       "2      2  088c60f138                          my boss is bullying me...   \n",
       "3      3  9642c003ef                     what interview! leave me alone   \n",
       "4      4  358bd9e861   Sons of ****, why couldn`t they put them on t...   \n",
       "\n",
       "                         selected_text sentiment  \\\n",
       "0  I`d have responded, if I were going   neutral   \n",
       "1                             Sooo SAD  negative   \n",
       "2                          bullying me  negative   \n",
       "3                       leave me alone  negative   \n",
       "4                        Sons of ****,  negative   \n",
       "\n",
       "                                          clean_text  \\\n",
       "0                i`d have responded, if i were going   \n",
       "1      sooo sad i will miss you here in san diego!!!   \n",
       "2                          my boss is bullying me...   \n",
       "3                     what interview! leave me alone   \n",
       "4   sons of ****, why couldn`t they put them on t...   \n",
       "\n",
       "                   clean_selected_text  \n",
       "0  i`d have responded, if i were going  \n",
       "1                             sooo sad  \n",
       "2                          bullying me  \n",
       "3                       leave me alone  \n",
       "4                        sons of ****,  "
      ]
     },
     "execution_count": 6,
     "metadata": {},
     "output_type": "execute_result"
    }
   ],
   "source": [
    "train_model = train.copy()\n",
    "train_model.dropna(inplace=True)\n",
    "train_model['clean_text']=train_model['text'].apply(clean)\n",
    "train_model['clean_selected_text']=train_model['selected_text'].apply(clean)\n",
    "train_model = train_model.reset_index()\n",
    "train_model.head()"
   ]
  },
  {
   "cell_type": "code",
   "execution_count": 7,
   "metadata": {
    "_cell_guid": "79c7e3d0-c299-4dcb-8224-4455121ee9b0",
    "_uuid": "d629ff2d2480ee46fbb7e2d37f6b5fab8052498a",
    "execution": {
     "iopub.execute_input": "2021-04-15T03:27:07.980632Z",
     "iopub.status.busy": "2021-04-15T03:27:07.979018Z",
     "iopub.status.idle": "2021-04-15T03:27:08.103036Z",
     "shell.execute_reply": "2021-04-15T03:27:08.103919Z"
    },
    "papermill": {
     "duration": 0.160428,
     "end_time": "2021-04-15T03:27:08.104145",
     "exception": false,
     "start_time": "2021-04-15T03:27:07.943717",
     "status": "completed"
    },
    "tags": []
   },
   "outputs": [
    {
     "name": "stdout",
     "output_type": "stream",
     "text": [
      "X_train Forma (17587, 3)  Y_train Forma  (17587,)\n",
      "X_val Forma (5496, 3)  Y_val Forma  (5496,)\n",
      "X_test Forma (4397, 3)  Y_test Forma  (4397,)\n"
     ]
    }
   ],
   "source": [
    "from sklearn.model_selection import train_test_split\n",
    "\n",
    "X_train,X_val,Y_train,Y_val=train_test_split(train_model[['sentiment','clean_text','textID']],train_model['clean_selected_text'],\n",
    "                                               test_size=0.2,random_state=42,stratify=train_model['sentiment'])\n",
    "\n",
    "X_train,X_test,Y_train,Y_test=train_test_split(X_train,Y_train,\n",
    "                                               test_size=0.2,random_state=42,stratify=X_train['sentiment'])\n",
    "\n",
    "X_train.reset_index(inplace=True,drop=True)\n",
    "X_val.reset_index(inplace=True,drop=True)\n",
    "X_test.reset_index(inplace=True,drop=True)\n",
    "\n",
    "Y_train=Y_train.reset_index(drop=True)\n",
    "Y_val=Y_val.reset_index(drop=True)\n",
    "Y_test=Y_test.reset_index(drop=True)\n",
    "\n",
    "print('X_train Forma',X_train.shape,' Y_train Forma ',Y_train.shape)\n",
    "print('X_val Forma',X_val.shape,' Y_val Forma ',Y_val.shape)\n",
    "print('X_test Forma',X_test.shape,' Y_test Forma ',Y_test.shape)"
   ]
  },
  {
   "cell_type": "code",
   "execution_count": 8,
   "metadata": {
    "execution": {
     "iopub.execute_input": "2021-04-15T03:27:08.181667Z",
     "iopub.status.busy": "2021-04-15T03:27:08.176200Z",
     "iopub.status.idle": "2021-04-15T03:27:09.174980Z",
     "shell.execute_reply": "2021-04-15T03:27:09.175776Z"
    },
    "papermill": {
     "duration": 1.044954,
     "end_time": "2021-04-15T03:27:09.176023",
     "exception": false,
     "start_time": "2021-04-15T03:27:08.131069",
     "status": "completed"
    },
    "tags": []
   },
   "outputs": [
    {
     "name": "stdout",
     "output_type": "stream",
     "text": [
      "The shape of X_train_tokens  (17587, 33)\n",
      "The shape of X_val_tokens  (5496, 33)\n",
      "The shape of X_test_tokens  (4397, 33)\n"
     ]
    }
   ],
   "source": [
    "tokenizer = tf.keras.preprocessing.text.Tokenizer(oov_token='UNK',filters='')\n",
    "tokenizer.fit_on_texts(X_train['clean_text'].values+' '+X_train['sentiment'].values)\n",
    "\n",
    "X_train_clean_text = tokenizer.texts_to_sequences(X_train['sentiment'].values+' '+X_train['clean_text'].values)\n",
    "X_val_clean_text = tokenizer.texts_to_sequences(X_val['sentiment'].values+' '+X_val['clean_text'].values)\n",
    "X_test_clean_text = tokenizer.texts_to_sequences(X_test['sentiment'].values+' '+X_test['clean_text'].values)\n",
    "\n",
    "X_train_tokens = tf.keras.preprocessing.sequence.pad_sequences(X_train_clean_text,maxlen=seq_length,padding='post')\n",
    "X_val_tokens = tf.keras.preprocessing.sequence.pad_sequences(X_val_clean_text,maxlen=seq_length,padding='post')\n",
    "X_test_tokens = tf.keras.preprocessing.sequence.pad_sequences(X_test_clean_text,maxlen=seq_length,padding='post')\n",
    "\n",
    "print('The shape of X_train_tokens ',X_train_tokens.shape)\n",
    "print('The shape of X_val_tokens ',X_val_tokens.shape)\n",
    "print('The shape of X_test_tokens ',X_test_tokens.shape)"
   ]
  },
  {
   "cell_type": "markdown",
   "metadata": {
    "papermill": {
     "duration": 0.023594,
     "end_time": "2021-04-15T03:27:09.224259",
     "exception": false,
     "start_time": "2021-04-15T03:27:09.200665",
     "status": "completed"
    },
    "tags": []
   },
   "source": [
    "Una vez tokenizados los datos, es necesario identificar el entero asignado a cada sentimiento"
   ]
  },
  {
   "cell_type": "code",
   "execution_count": 9,
   "metadata": {
    "execution": {
     "iopub.execute_input": "2021-04-15T03:27:09.281221Z",
     "iopub.status.busy": "2021-04-15T03:27:09.280346Z",
     "iopub.status.idle": "2021-04-15T03:27:09.284888Z",
     "shell.execute_reply": "2021-04-15T03:27:09.284308Z"
    },
    "papermill": {
     "duration": 0.036657,
     "end_time": "2021-04-15T03:27:09.285017",
     "exception": false,
     "start_time": "2021-04-15T03:27:09.248360",
     "status": "completed"
    },
    "tags": []
   },
   "outputs": [
    {
     "name": "stdout",
     "output_type": "stream",
     "text": [
      "[3 6 7]\n",
      "['neutral' 'positive' 'negative']\n"
     ]
    }
   ],
   "source": [
    "print(X_train_tokens.T[0][0:3])\n",
    "print(X_train['sentiment'].values[0:3])"
   ]
  },
  {
   "cell_type": "markdown",
   "metadata": {
    "papermill": {
     "duration": 0.02398,
     "end_time": "2021-04-15T03:27:09.333474",
     "exception": false,
     "start_time": "2021-04-15T03:27:09.309494",
     "status": "completed"
    },
    "tags": []
   },
   "source": [
    "Con los posibles sentimiento identificados, es necesario crear un diccionario para poder reperarlos o procesarlos en un futuro"
   ]
  },
  {
   "cell_type": "code",
   "execution_count": 10,
   "metadata": {
    "execution": {
     "iopub.execute_input": "2021-04-15T03:27:09.397433Z",
     "iopub.status.busy": "2021-04-15T03:27:09.396407Z",
     "iopub.status.idle": "2021-04-15T03:27:09.401414Z",
     "shell.execute_reply": "2021-04-15T03:27:09.400720Z"
    },
    "papermill": {
     "duration": 0.043959,
     "end_time": "2021-04-15T03:27:09.401538",
     "exception": false,
     "start_time": "2021-04-15T03:27:09.357579",
     "status": "completed"
    },
    "tags": []
   },
   "outputs": [],
   "source": [
    "# Creación de indices\n",
    "\n",
    "def get_start_end_index(X_data,Y_data):\n",
    "    start_index=np.zeros((X_data.shape[0],32),dtype='int32')\n",
    "    end_index=np.zeros((X_data.shape[0],32),dtype='int32')\n",
    "\n",
    "    for k in range(X_data.shape[0]):\n",
    "        tx1=\" \".join(X_data['clean_text'][k].split())\n",
    "        tx2=\" \".join(Y_data[k].split())\n",
    "        # Se encuentra en indice de inicio y el de finalización\n",
    "        idx=tx1.find(tx2)\n",
    "\n",
    "        # Se insertan unos por cada caracter presente\n",
    "        chars=np.zeros(len(tx1))\n",
    "        chars[idx:idx+len(tx2)]=1\n",
    "\n",
    "        # Creación de offsets con (inicio, fin) para cada palabra \n",
    "        offsets=[]\n",
    "        j=0\n",
    "        for i in tx1.split():\n",
    "            offsets.append((j,j+len(i)+1))\n",
    "            j+=len(i)+1\n",
    "\n",
    "        vals=[]\n",
    "        for i,(o1,o2) in enumerate(offsets):\n",
    "            if(sum(chars[o1:o2])>0):\n",
    "                vals.append(i)\n",
    "\n",
    "        if(len(vals)>0 and len(vals)<=32):\n",
    "            start_index[k,vals[0]]=1\n",
    "            end_index[k,vals[-1]]=1\n",
    "        else:\n",
    "            start_index[k,0]=1\n",
    "            end_index[k,-1]=1\n",
    "    return start_index,end_index"
   ]
  },
  {
   "cell_type": "code",
   "execution_count": 11,
   "metadata": {
    "execution": {
     "iopub.execute_input": "2021-04-15T03:27:09.473165Z",
     "iopub.status.busy": "2021-04-15T03:27:09.456493Z",
     "iopub.status.idle": "2021-04-15T03:27:11.981802Z",
     "shell.execute_reply": "2021-04-15T03:27:11.982373Z"
    },
    "papermill": {
     "duration": 2.556358,
     "end_time": "2021-04-15T03:27:11.982526",
     "exception": false,
     "start_time": "2021-04-15T03:27:09.426168",
     "status": "completed"
    },
    "tags": []
   },
   "outputs": [],
   "source": [
    "Y_tr_1,Y_tr_2=get_start_end_index(X_train,Y_train)\n",
    "Y_val_1,Y_val_2=get_start_end_index(X_val,Y_val)\n",
    "Y_te_1,Y_te_2=get_start_end_index(X_test,Y_test)"
   ]
  },
  {
   "cell_type": "code",
   "execution_count": 12,
   "metadata": {
    "execution": {
     "iopub.execute_input": "2021-04-15T03:27:12.036053Z",
     "iopub.status.busy": "2021-04-15T03:27:12.035342Z",
     "iopub.status.idle": "2021-04-15T03:27:12.040835Z",
     "shell.execute_reply": "2021-04-15T03:27:12.041401Z"
    },
    "papermill": {
     "duration": 0.034101,
     "end_time": "2021-04-15T03:27:12.041552",
     "exception": false,
     "start_time": "2021-04-15T03:27:12.007451",
     "status": "completed"
    },
    "tags": []
   },
   "outputs": [
    {
     "data": {
      "text/plain": [
       "' i could act in most buffy eps  i have seen them so many times, but s1 was shaky (apart from eps 1,2,6,7 & 12)'"
      ]
     },
     "execution_count": 12,
     "metadata": {},
     "output_type": "execute_result"
    }
   ],
   "source": [
    "X_train['clean_text'][129]"
   ]
  },
  {
   "cell_type": "code",
   "execution_count": 13,
   "metadata": {
    "execution": {
     "iopub.execute_input": "2021-04-15T03:27:12.095635Z",
     "iopub.status.busy": "2021-04-15T03:27:12.094968Z",
     "iopub.status.idle": "2021-04-15T03:27:12.101163Z",
     "shell.execute_reply": "2021-04-15T03:27:12.101669Z"
    },
    "papermill": {
     "duration": 0.034944,
     "end_time": "2021-04-15T03:27:12.101854",
     "exception": false,
     "start_time": "2021-04-15T03:27:12.066910",
     "status": "completed"
    },
    "tags": []
   },
   "outputs": [
    {
     "data": {
      "text/plain": [
       "'i could act in most buffy eps  i have seen them so many times, but s1 was shaky (apart from eps 1,2,6,7 & 12)'"
      ]
     },
     "execution_count": 13,
     "metadata": {},
     "output_type": "execute_result"
    }
   ],
   "source": [
    "Y_train[129]"
   ]
  },
  {
   "cell_type": "code",
   "execution_count": 14,
   "metadata": {
    "execution": {
     "iopub.execute_input": "2021-04-15T03:27:12.160290Z",
     "iopub.status.busy": "2021-04-15T03:27:12.159183Z",
     "iopub.status.idle": "2021-04-15T03:27:12.164297Z",
     "shell.execute_reply": "2021-04-15T03:27:12.163618Z"
    },
    "papermill": {
     "duration": 0.036253,
     "end_time": "2021-04-15T03:27:12.164435",
     "exception": false,
     "start_time": "2021-04-15T03:27:12.128182",
     "status": "completed"
    },
    "tags": []
   },
   "outputs": [
    {
     "data": {
      "text/plain": [
       "array([   3,    2,  121, 2410,   14,  315, 9774, 4516,    2,   18,  392,\n",
       "        148,   19,  311, 3087,   21, 9775,   29, 6088, 9776,   49, 4516,\n",
       "       9777,   81, 9778,    0,    0,    0,    0,    0,    0,    0,    0],\n",
       "      dtype=int32)"
      ]
     },
     "execution_count": 14,
     "metadata": {},
     "output_type": "execute_result"
    }
   ],
   "source": [
    "X_train_tokens[129]"
   ]
  },
  {
   "cell_type": "code",
   "execution_count": 15,
   "metadata": {
    "execution": {
     "iopub.execute_input": "2021-04-15T03:27:12.223544Z",
     "iopub.status.busy": "2021-04-15T03:27:12.222423Z",
     "iopub.status.idle": "2021-04-15T03:27:12.227593Z",
     "shell.execute_reply": "2021-04-15T03:27:12.226936Z"
    },
    "papermill": {
     "duration": 0.03695,
     "end_time": "2021-04-15T03:27:12.227732",
     "exception": false,
     "start_time": "2021-04-15T03:27:12.190782",
     "status": "completed"
    },
    "tags": []
   },
   "outputs": [
    {
     "data": {
      "text/plain": [
       "array([1, 0, 0, 0, 0, 0, 0, 0, 0, 0, 0, 0, 0, 0, 0, 0, 0, 0, 0, 0, 0, 0,\n",
       "       0, 0, 0, 0, 0, 0, 0, 0, 0, 0], dtype=int32)"
      ]
     },
     "execution_count": 15,
     "metadata": {},
     "output_type": "execute_result"
    }
   ],
   "source": [
    "Y_tr_1[129]"
   ]
  },
  {
   "cell_type": "code",
   "execution_count": 16,
   "metadata": {
    "execution": {
     "iopub.execute_input": "2021-04-15T03:27:12.287939Z",
     "iopub.status.busy": "2021-04-15T03:27:12.286568Z",
     "iopub.status.idle": "2021-04-15T03:27:12.291069Z",
     "shell.execute_reply": "2021-04-15T03:27:12.290398Z"
    },
    "papermill": {
     "duration": 0.036753,
     "end_time": "2021-04-15T03:27:12.291194",
     "exception": false,
     "start_time": "2021-04-15T03:27:12.254441",
     "status": "completed"
    },
    "tags": []
   },
   "outputs": [
    {
     "data": {
      "text/plain": [
       "array([0, 0, 0, 0, 0, 0, 0, 0, 0, 0, 0, 0, 0, 0, 0, 0, 0, 0, 0, 0, 0, 0,\n",
       "       0, 1, 0, 0, 0, 0, 0, 0, 0, 0], dtype=int32)"
      ]
     },
     "execution_count": 16,
     "metadata": {},
     "output_type": "execute_result"
    }
   ],
   "source": [
    "Y_tr_2[129]"
   ]
  },
  {
   "cell_type": "code",
   "execution_count": 17,
   "metadata": {
    "execution": {
     "iopub.execute_input": "2021-04-15T03:27:12.353409Z",
     "iopub.status.busy": "2021-04-15T03:27:12.352669Z",
     "iopub.status.idle": "2021-04-15T03:33:47.866201Z",
     "shell.execute_reply": "2021-04-15T03:33:47.866812Z"
    },
    "papermill": {
     "duration": 395.548521,
     "end_time": "2021-04-15T03:33:47.867003",
     "exception": false,
     "start_time": "2021-04-15T03:27:12.318482",
     "status": "completed"
    },
    "tags": []
   },
   "outputs": [
    {
     "name": "stderr",
     "output_type": "stream",
     "text": [
      "498it [00:00, 4971.48it/s]"
     ]
    },
    {
     "name": "stdout",
     "output_type": "stream",
     "text": [
      "loading word embeddings...\n"
     ]
    },
    {
     "name": "stderr",
     "output_type": "stream",
     "text": [
      "2000005it [06:35, 5056.92it/s]"
     ]
    },
    {
     "name": "stdout",
     "output_type": "stream",
     "text": [
      "found 1999997 word vectors\n"
     ]
    },
    {
     "name": "stderr",
     "output_type": "stream",
     "text": [
      "\n"
     ]
    }
   ],
   "source": [
    "#load embeddings\n",
    "print('loading word embeddings...')\n",
    "embeddings_index = {}\n",
    "f = codecs.open('../input/fasttext-crawl-300d-2m/crawl-300d-2M.vec', encoding='utf-8')\n",
    "for line in tqdm(f):\n",
    "    values = line.rstrip().rsplit(' ')\n",
    "    word = values[0]\n",
    "    coefs = np.asarray(values[1:], dtype='float32')\n",
    "    embeddings_index[word] = coefs\n",
    "f.close()\n",
    "print('found %s word vectors' % len(embeddings_index))"
   ]
  },
  {
   "cell_type": "code",
   "execution_count": 18,
   "metadata": {
    "execution": {
     "iopub.execute_input": "2021-04-15T03:33:50.438794Z",
     "iopub.status.busy": "2021-04-15T03:33:50.438071Z",
     "iopub.status.idle": "2021-04-15T03:33:50.441008Z",
     "shell.execute_reply": "2021-04-15T03:33:50.441938Z"
    },
    "papermill": {
     "duration": 1.285666,
     "end_time": "2021-04-15T03:33:50.442142",
     "exception": false,
     "start_time": "2021-04-15T03:33:49.156476",
     "status": "completed"
    },
    "tags": []
   },
   "outputs": [
    {
     "name": "stdout",
     "output_type": "stream",
     "text": [
      "32146\n"
     ]
    }
   ],
   "source": [
    "vocab_size=len(tokenizer.word_index)+1\n",
    "print(vocab_size)"
   ]
  },
  {
   "cell_type": "code",
   "execution_count": 19,
   "metadata": {
    "execution": {
     "iopub.execute_input": "2021-04-15T03:33:53.061259Z",
     "iopub.status.busy": "2021-04-15T03:33:53.060414Z",
     "iopub.status.idle": "2021-04-15T03:33:53.245475Z",
     "shell.execute_reply": "2021-04-15T03:33:53.246100Z"
    },
    "papermill": {
     "duration": 1.474186,
     "end_time": "2021-04-15T03:33:53.246262",
     "exception": false,
     "start_time": "2021-04-15T03:33:51.772076",
     "status": "completed"
    },
    "tags": []
   },
   "outputs": [],
   "source": [
    "embedding_matrix = np.zeros((vocab_size, FAST_DIM ))\n",
    "for word, i in tokenizer.word_index.items():\n",
    "    embedding_vector = embeddings_index.get(word)\n",
    "    if embedding_vector is not None:    \n",
    "        embedding_matrix[i] = embedding_vector"
   ]
  },
  {
   "cell_type": "code",
   "execution_count": 20,
   "metadata": {
    "execution": {
     "iopub.execute_input": "2021-04-15T03:33:55.971634Z",
     "iopub.status.busy": "2021-04-15T03:33:55.970547Z",
     "iopub.status.idle": "2021-04-15T03:33:55.977898Z",
     "shell.execute_reply": "2021-04-15T03:33:55.977044Z"
    },
    "papermill": {
     "duration": 1.452956,
     "end_time": "2021-04-15T03:33:55.978035",
     "exception": false,
     "start_time": "2021-04-15T03:33:54.525079",
     "status": "completed"
    },
    "tags": []
   },
   "outputs": [],
   "source": [
    "import os\n",
    "if not os.path.exists('./model-glove'):\n",
    "    os.makedirs('./model-glove')"
   ]
  },
  {
   "cell_type": "code",
   "execution_count": 21,
   "metadata": {
    "execution": {
     "iopub.execute_input": "2021-04-15T03:33:58.683985Z",
     "iopub.status.busy": "2021-04-15T03:33:58.675260Z",
     "iopub.status.idle": "2021-04-15T03:33:59.610289Z",
     "shell.execute_reply": "2021-04-15T03:33:59.611376Z"
    },
    "papermill": {
     "duration": 2.326912,
     "end_time": "2021-04-15T03:33:59.611642",
     "exception": false,
     "start_time": "2021-04-15T03:33:57.284730",
     "status": "completed"
    },
    "tags": []
   },
   "outputs": [
    {
     "name": "stdout",
     "output_type": "stream",
     "text": [
      "Model: \"functional_1\"\n",
      "__________________________________________________________________________________________________\n",
      "Layer (type)                    Output Shape         Param #     Connected to                     \n",
      "==================================================================================================\n",
      "input (InputLayer)              [(None, 33)]         0                                            \n",
      "__________________________________________________________________________________________________\n",
      "embedding (Embedding)           (None, 33, 300)      9643800     input[0][0]                      \n",
      "__________________________________________________________________________________________________\n",
      "conv1d (Conv1D)                 (None, 32, 6)        3606        embedding[0][0]                  \n",
      "__________________________________________________________________________________________________\n",
      "drop_out (Dropout)              (None, 32, 6)        0           conv1d[0][0]                     \n",
      "__________________________________________________________________________________________________\n",
      "flatten (Flatten)               (None, 192)          0           drop_out[0][0]                   \n",
      "__________________________________________________________________________________________________\n",
      "output1 (Dense)                 (None, 32)           6176        flatten[0][0]                    \n",
      "__________________________________________________________________________________________________\n",
      "output2 (Dense)                 (None, 32)           6176        flatten[0][0]                    \n",
      "==================================================================================================\n",
      "Total params: 9,659,758\n",
      "Trainable params: 15,958\n",
      "Non-trainable params: 9,643,800\n",
      "__________________________________________________________________________________________________\n"
     ]
    }
   ],
   "source": [
    "# Red neuronal convolucional\n",
    "\n",
    "input_layer=Input((seq_length,),name='input')\n",
    "embedding_layer=Embedding(vocab_size, FAST_DIM,weights=[embedding_matrix],input_length=seq_length,trainable=False)(input_layer)\n",
    "\n",
    "conv1d=Conv1D(6,2,kernel_initializer=tf.keras.initializers.glorot_uniform(seed=20),name='conv1d')(embedding_layer)\n",
    "dropout=Dropout(0.2,name=\"drop_out\")(conv1d)\n",
    "flatten=Flatten(name='flatten')(dropout)\n",
    "\n",
    "output1=Dense(32,activation='softmax',kernel_initializer=tf.keras.initializers.glorot_uniform(seed=45),name='output1')(flatten)\n",
    "\n",
    "output2=Dense(32,activation='softmax',kernel_initializer=tf.keras.initializers.glorot_uniform(seed=45),name='output2')(flatten)\n",
    "\n",
    "simpleNeural=Model(inputs=[input_layer],outputs=[output1,output2])\n",
    "\n",
    "simpleNeural.summary()"
   ]
  },
  {
   "cell_type": "code",
   "execution_count": 22,
   "metadata": {
    "execution": {
     "iopub.execute_input": "2021-04-15T03:34:03.081590Z",
     "iopub.status.busy": "2021-04-15T03:34:03.080371Z",
     "iopub.status.idle": "2021-04-15T03:34:03.100980Z",
     "shell.execute_reply": "2021-04-15T03:34:03.102058Z"
    },
    "papermill": {
     "duration": 1.957686,
     "end_time": "2021-04-15T03:34:03.102687",
     "exception": false,
     "start_time": "2021-04-15T03:34:01.145001",
     "status": "completed"
    },
    "tags": []
   },
   "outputs": [],
   "source": [
    "from tensorflow.keras.callbacks import TensorBoard\n",
    "%load_ext tensorboard\n",
    "\n",
    "log_dir='./model-glove/logs'\n",
    "tensorboard_callback = TensorBoard(log_dir=log_dir,histogram_freq=1, write_graph=True)"
   ]
  },
  {
   "cell_type": "code",
   "execution_count": 23,
   "metadata": {
    "execution": {
     "iopub.execute_input": "2021-04-15T03:34:06.568272Z",
     "iopub.status.busy": "2021-04-15T03:34:06.567417Z",
     "iopub.status.idle": "2021-04-15T03:34:06.572228Z",
     "shell.execute_reply": "2021-04-15T03:34:06.571648Z"
    },
    "papermill": {
     "duration": 1.857342,
     "end_time": "2021-04-15T03:34:06.572352",
     "exception": false,
     "start_time": "2021-04-15T03:34:04.715010",
     "status": "completed"
    },
    "tags": []
   },
   "outputs": [],
   "source": [
    "from tensorflow.keras.callbacks import ModelCheckpoint\n",
    "\n",
    "filepath=\"./model-glove/weights-{epoch:02d}-{val_loss:.4f}.hdf5\"\n",
    "checkpoint = ModelCheckpoint(filepath=filepath, monitor='val_loss', verbose=1, save_best_only=True, mode='auto')"
   ]
  },
  {
   "cell_type": "code",
   "execution_count": 24,
   "metadata": {
    "execution": {
     "iopub.execute_input": "2021-04-15T03:34:10.601475Z",
     "iopub.status.busy": "2021-04-15T03:34:10.600784Z",
     "iopub.status.idle": "2021-04-15T03:34:10.609468Z",
     "shell.execute_reply": "2021-04-15T03:34:10.610209Z"
    },
    "papermill": {
     "duration": 2.013486,
     "end_time": "2021-04-15T03:34:10.610368",
     "exception": false,
     "start_time": "2021-04-15T03:34:08.596882",
     "status": "completed"
    },
    "tags": []
   },
   "outputs": [],
   "source": [
    "simpleNeural.compile(optimizer=tf.keras.optimizers.Adam(learning_rate=0.001),\n",
    "              loss=tf.keras.losses.CategoricalCrossentropy())"
   ]
  },
  {
   "cell_type": "code",
   "execution_count": 25,
   "metadata": {
    "execution": {
     "iopub.execute_input": "2021-04-15T03:34:13.229374Z",
     "iopub.status.busy": "2021-04-15T03:34:13.227222Z",
     "iopub.status.idle": "2021-04-15T03:35:27.045093Z",
     "shell.execute_reply": "2021-04-15T03:35:27.044250Z"
    },
    "papermill": {
     "duration": 75.143305,
     "end_time": "2021-04-15T03:35:27.045264",
     "exception": false,
     "start_time": "2021-04-15T03:34:11.901959",
     "status": "completed"
    },
    "tags": []
   },
   "outputs": [
    {
     "name": "stdout",
     "output_type": "stream",
     "text": [
      "Epoch 1/20\n",
      "547/550 [============================>.] - ETA: 0s - loss: 4.3001 - output1_loss: 1.7064 - output2_loss: 2.5937\n",
      "Epoch 00001: val_loss improved from inf to 3.42055, saving model to ./model-glove/weights-01-3.4205.hdf5\n",
      "550/550 [==============================] - 4s 7ms/step - loss: 4.2961 - output1_loss: 1.7052 - output2_loss: 2.5908 - val_loss: 3.4205 - val_output1_loss: 1.3671 - val_output2_loss: 2.0534\n",
      "Epoch 2/20\n",
      "540/550 [============================>.] - ETA: 0s - loss: 3.3044 - output1_loss: 1.3477 - output2_loss: 1.9567\n",
      "Epoch 00002: val_loss improved from 3.42055 to 3.03361, saving model to ./model-glove/weights-02-3.0336.hdf5\n",
      "550/550 [==============================] - 4s 7ms/step - loss: 3.3017 - output1_loss: 1.3460 - output2_loss: 1.9556 - val_loss: 3.0336 - val_output1_loss: 1.2735 - val_output2_loss: 1.7601\n",
      "Epoch 3/20\n",
      "544/550 [============================>.] - ETA: 0s - loss: 3.0498 - output1_loss: 1.2590 - output2_loss: 1.7908\n",
      "Epoch 00003: val_loss improved from 3.03361 to 2.89223, saving model to ./model-glove/weights-03-2.8922.hdf5\n",
      "550/550 [==============================] - 4s 7ms/step - loss: 3.0495 - output1_loss: 1.2594 - output2_loss: 1.7901 - val_loss: 2.8922 - val_output1_loss: 1.2374 - val_output2_loss: 1.6549\n",
      "Epoch 4/20\n",
      "543/550 [============================>.] - ETA: 0s - loss: 2.9122 - output1_loss: 1.2023 - output2_loss: 1.7099\n",
      "Epoch 00004: val_loss improved from 2.89223 to 2.81469, saving model to ./model-glove/weights-04-2.8147.hdf5\n",
      "550/550 [==============================] - 4s 7ms/step - loss: 2.9118 - output1_loss: 1.2026 - output2_loss: 1.7092 - val_loss: 2.8147 - val_output1_loss: 1.2111 - val_output2_loss: 1.6036\n",
      "Epoch 5/20\n",
      "541/550 [============================>.] - ETA: 0s - loss: 2.8324 - output1_loss: 1.1647 - output2_loss: 1.6676\n",
      "Epoch 00005: val_loss improved from 2.81469 to 2.77601, saving model to ./model-glove/weights-05-2.7760.hdf5\n",
      "550/550 [==============================] - 4s 7ms/step - loss: 2.8318 - output1_loss: 1.1645 - output2_loss: 1.6673 - val_loss: 2.7760 - val_output1_loss: 1.1963 - val_output2_loss: 1.5797\n",
      "Epoch 6/20\n",
      "541/550 [============================>.] - ETA: 0s - loss: 2.7791 - output1_loss: 1.1415 - output2_loss: 1.6376\n",
      "Epoch 00006: val_loss improved from 2.77601 to 2.73618, saving model to ./model-glove/weights-06-2.7362.hdf5\n",
      "550/550 [==============================] - 4s 7ms/step - loss: 2.7758 - output1_loss: 1.1397 - output2_loss: 1.6361 - val_loss: 2.7362 - val_output1_loss: 1.1865 - val_output2_loss: 1.5497\n",
      "Epoch 7/20\n",
      "540/550 [============================>.] - ETA: 0s - loss: 2.7317 - output1_loss: 1.1158 - output2_loss: 1.6159\n",
      "Epoch 00007: val_loss improved from 2.73618 to 2.72481, saving model to ./model-glove/weights-07-2.7248.hdf5\n",
      "550/550 [==============================] - 4s 7ms/step - loss: 2.7339 - output1_loss: 1.1165 - output2_loss: 1.6174 - val_loss: 2.7248 - val_output1_loss: 1.1844 - val_output2_loss: 1.5404\n",
      "Epoch 8/20\n",
      "549/550 [============================>.] - ETA: 0s - loss: 2.7042 - output1_loss: 1.1027 - output2_loss: 1.6015\n",
      "Epoch 00008: val_loss improved from 2.72481 to 2.71768, saving model to ./model-glove/weights-08-2.7177.hdf5\n",
      "550/550 [==============================] - 4s 7ms/step - loss: 2.7047 - output1_loss: 1.1031 - output2_loss: 1.6016 - val_loss: 2.7177 - val_output1_loss: 1.1794 - val_output2_loss: 1.5383\n",
      "Epoch 9/20\n",
      "543/550 [============================>.] - ETA: 0s - loss: 2.6768 - output1_loss: 1.0969 - output2_loss: 1.5799\n",
      "Epoch 00009: val_loss improved from 2.71768 to 2.71017, saving model to ./model-glove/weights-09-2.7102.hdf5\n",
      "550/550 [==============================] - 4s 7ms/step - loss: 2.6747 - output1_loss: 1.0952 - output2_loss: 1.5795 - val_loss: 2.7102 - val_output1_loss: 1.1787 - val_output2_loss: 1.5315\n",
      "Epoch 10/20\n",
      "550/550 [==============================] - ETA: 0s - loss: 2.6599 - output1_loss: 1.0846 - output2_loss: 1.5752\n",
      "Epoch 00010: val_loss did not improve from 2.71017\n",
      "550/550 [==============================] - 3s 6ms/step - loss: 2.6599 - output1_loss: 1.0846 - output2_loss: 1.5752 - val_loss: 2.7287 - val_output1_loss: 1.1761 - val_output2_loss: 1.5526\n",
      "Epoch 11/20\n",
      "548/550 [============================>.] - ETA: 0s - loss: 2.6379 - output1_loss: 1.0738 - output2_loss: 1.5641\n",
      "Epoch 00011: val_loss improved from 2.71017 to 2.70507, saving model to ./model-glove/weights-11-2.7051.hdf5\n",
      "550/550 [==============================] - 4s 6ms/step - loss: 2.6386 - output1_loss: 1.0738 - output2_loss: 1.5648 - val_loss: 2.7051 - val_output1_loss: 1.1798 - val_output2_loss: 1.5253\n",
      "Epoch 12/20\n",
      "541/550 [============================>.] - ETA: 0s - loss: 2.6191 - output1_loss: 1.0697 - output2_loss: 1.5495\n",
      "Epoch 00012: val_loss improved from 2.70507 to 2.69950, saving model to ./model-glove/weights-12-2.6995.hdf5\n",
      "550/550 [==============================] - 4s 7ms/step - loss: 2.6183 - output1_loss: 1.0687 - output2_loss: 1.5496 - val_loss: 2.6995 - val_output1_loss: 1.1789 - val_output2_loss: 1.5206\n",
      "Epoch 13/20\n",
      "541/550 [============================>.] - ETA: 0s - loss: 2.5972 - output1_loss: 1.0599 - output2_loss: 1.5373\n",
      "Epoch 00013: val_loss did not improve from 2.69950\n",
      "550/550 [==============================] - 4s 7ms/step - loss: 2.6003 - output1_loss: 1.0627 - output2_loss: 1.5376 - val_loss: 2.7088 - val_output1_loss: 1.1815 - val_output2_loss: 1.5273\n",
      "Epoch 14/20\n",
      "548/550 [============================>.] - ETA: 0s - loss: 2.5975 - output1_loss: 1.0562 - output2_loss: 1.5413\n",
      "Epoch 00014: val_loss did not improve from 2.69950\n",
      "550/550 [==============================] - 4s 6ms/step - loss: 2.5979 - output1_loss: 1.0560 - output2_loss: 1.5418 - val_loss: 2.7096 - val_output1_loss: 1.1845 - val_output2_loss: 1.5251\n",
      "Epoch 15/20\n",
      "549/550 [============================>.] - ETA: 0s - loss: 2.5939 - output1_loss: 1.0555 - output2_loss: 1.5384\n",
      "Epoch 00015: val_loss did not improve from 2.69950\n",
      "550/550 [==============================] - 3s 6ms/step - loss: 2.5935 - output1_loss: 1.0555 - output2_loss: 1.5381 - val_loss: 2.7061 - val_output1_loss: 1.1864 - val_output2_loss: 1.5197\n",
      "Epoch 16/20\n",
      "549/550 [============================>.] - ETA: 0s - loss: 2.5696 - output1_loss: 1.0441 - output2_loss: 1.5255\n",
      "Epoch 00016: val_loss did not improve from 2.69950\n",
      "550/550 [==============================] - 3s 6ms/step - loss: 2.5702 - output1_loss: 1.0446 - output2_loss: 1.5256 - val_loss: 2.7556 - val_output1_loss: 1.1979 - val_output2_loss: 1.5577\n",
      "Epoch 17/20\n",
      "550/550 [==============================] - ETA: 0s - loss: 2.5621 - output1_loss: 1.0417 - output2_loss: 1.5204\n",
      "Epoch 00017: val_loss did not improve from 2.69950\n",
      "550/550 [==============================] - 4s 6ms/step - loss: 2.5621 - output1_loss: 1.0417 - output2_loss: 1.5204 - val_loss: 2.7524 - val_output1_loss: 1.2052 - val_output2_loss: 1.5472\n",
      "Epoch 18/20\n",
      "548/550 [============================>.] - ETA: 0s - loss: 2.5638 - output1_loss: 1.0435 - output2_loss: 1.5203\n",
      "Epoch 00018: val_loss did not improve from 2.69950\n",
      "550/550 [==============================] - 4s 7ms/step - loss: 2.5639 - output1_loss: 1.0429 - output2_loss: 1.5211 - val_loss: 2.7509 - val_output1_loss: 1.1991 - val_output2_loss: 1.5519\n",
      "Epoch 19/20\n",
      "550/550 [==============================] - ETA: 0s - loss: 2.5531 - output1_loss: 1.0376 - output2_loss: 1.5155\n",
      "Epoch 00019: val_loss did not improve from 2.69950\n",
      "550/550 [==============================] - 3s 6ms/step - loss: 2.5531 - output1_loss: 1.0376 - output2_loss: 1.5155 - val_loss: 2.7559 - val_output1_loss: 1.2098 - val_output2_loss: 1.5461\n",
      "Epoch 20/20\n",
      "540/550 [============================>.] - ETA: 0s - loss: 2.5464 - output1_loss: 1.0400 - output2_loss: 1.5063\n",
      "Epoch 00020: val_loss did not improve from 2.69950\n",
      "550/550 [==============================] - 4s 7ms/step - loss: 2.5454 - output1_loss: 1.0380 - output2_loss: 1.5074 - val_loss: 2.7573 - val_output1_loss: 1.2089 - val_output2_loss: 1.5484\n"
     ]
    },
    {
     "data": {
      "text/plain": [
       "<tensorflow.python.keras.callbacks.History at 0x7f8fe41adc10>"
      ]
     },
     "execution_count": 25,
     "metadata": {},
     "output_type": "execute_result"
    }
   ],
   "source": [
    "callback=[tensorboard_callback,checkpoint]\n",
    "simpleNeural.fit(X_train_tokens,[Y_tr_1,Y_tr_2],batch_size=32,epochs=20,callbacks=callback,\n",
    "           validation_data=(X_val_tokens,[Y_val_1,Y_val_2]))"
   ]
  },
  {
   "cell_type": "code",
   "execution_count": 26,
   "metadata": {
    "execution": {
     "iopub.execute_input": "2021-04-15T03:35:30.408603Z",
     "iopub.status.busy": "2021-04-15T03:35:30.407667Z",
     "iopub.status.idle": "2021-04-15T03:35:31.308340Z",
     "shell.execute_reply": "2021-04-15T03:35:31.309217Z"
    },
    "papermill": {
     "duration": 2.594284,
     "end_time": "2021-04-15T03:35:31.309435",
     "exception": false,
     "start_time": "2021-04-15T03:35:28.715151",
     "status": "completed"
    },
    "tags": []
   },
   "outputs": [
    {
     "data": {
      "image/png": "[encoded data removed]",
      "text/plain": [
       "<IPython.core.display.Image object>"
      ]
     },
     "execution_count": 26,
     "metadata": {},
     "output_type": "execute_result"
    }
   ],
   "source": [
    "tf.keras.utils.plot_model(simpleNeural, './model-glove/model.png',show_shapes=True)"
   ]
  },
  {
   "cell_type": "code",
   "execution_count": 27,
   "metadata": {
    "execution": {
     "iopub.execute_input": "2021-04-15T03:35:34.649931Z",
     "iopub.status.busy": "2021-04-15T03:35:34.649146Z",
     "iopub.status.idle": "2021-04-15T03:35:34.652864Z",
     "shell.execute_reply": "2021-04-15T03:35:34.652288Z"
    },
    "papermill": {
     "duration": 1.652215,
     "end_time": "2021-04-15T03:35:34.653000",
     "exception": false,
     "start_time": "2021-04-15T03:35:33.000785",
     "status": "completed"
    },
    "tags": []
   },
   "outputs": [],
   "source": [
    "# Metrica definida\n",
    "\n",
    "def jaccard(str1, str2):\n",
    "  a = set(str1.lower().split()) \n",
    "  b = set(str2.lower().split())\n",
    "  c = a.intersection(b)\n",
    "  return float(len(c)) / (len(a) + len(b) - len(c))"
   ]
  },
  {
   "cell_type": "code",
   "execution_count": 28,
   "metadata": {
    "execution": {
     "iopub.execute_input": "2021-04-15T03:35:37.941790Z",
     "iopub.status.busy": "2021-04-15T03:35:37.934620Z",
     "iopub.status.idle": "2021-04-15T03:35:38.468401Z",
     "shell.execute_reply": "2021-04-15T03:35:38.467480Z"
    },
    "papermill": {
     "duration": 2.182475,
     "end_time": "2021-04-15T03:35:38.468560",
     "exception": false,
     "start_time": "2021-04-15T03:35:36.286085",
     "status": "completed"
    },
    "tags": []
   },
   "outputs": [
    {
     "name": "stdout",
     "output_type": "stream",
     "text": [
      "138/138 [==============================] - 0s 2ms/step\n"
     ]
    }
   ],
   "source": [
    "st_idx,end_idx=simpleNeural.predict(X_test_tokens,batch_size=32,verbose=1)"
   ]
  },
  {
   "cell_type": "code",
   "execution_count": 29,
   "metadata": {
    "execution": {
     "iopub.execute_input": "2021-04-15T03:35:41.760879Z",
     "iopub.status.busy": "2021-04-15T03:35:41.760012Z",
     "iopub.status.idle": "2021-04-15T03:35:41.763071Z",
     "shell.execute_reply": "2021-04-15T03:35:41.762507Z"
    },
    "papermill": {
     "duration": 1.625203,
     "end_time": "2021-04-15T03:35:41.763192",
     "exception": false,
     "start_time": "2021-04-15T03:35:40.137989",
     "status": "completed"
    },
    "tags": []
   },
   "outputs": [],
   "source": [
    "def compute_jaccard(st_idx,end_idx,X,Y):\n",
    "    all_jaccard=[]\n",
    "    df=pd.DataFrame(columns=['clean_text','selected_text','predicted','jaccard','sentiment'])\n",
    "    for i in range(len(st_idx)):\n",
    "        initial=np.argmax(st_idx[i])\n",
    "        final=np.argmax(end_idx[i])\n",
    "        sent2=\" \".join(X['clean_text'][i].split()[initial:final+1])\n",
    "        sent1=Y[i] \n",
    "        df.loc[i,'clean_text']=X['clean_text'][i]   \n",
    "        df.loc[i,'selected_text']=sent1\n",
    "        df.loc[i,'predicted']=sent2\n",
    "        df.loc[i,'sentiment']=X['sentiment'][i]\n",
    "        jaccard_score=jaccard(sent1,sent2)\n",
    "        df.loc[i,'jaccard']=jaccard_score\n",
    "        all_jaccard.append(jaccard_score)\n",
    "    return np.mean(np.array(all_jaccard)),df"
   ]
  },
  {
   "cell_type": "code",
   "execution_count": 30,
   "metadata": {
    "execution": {
     "iopub.execute_input": "2021-04-15T03:35:45.060258Z",
     "iopub.status.busy": "2021-04-15T03:35:45.039307Z",
     "iopub.status.idle": "2021-04-15T03:35:50.825537Z",
     "shell.execute_reply": "2021-04-15T03:35:50.824909Z"
    },
    "papermill": {
     "duration": 7.439484,
     "end_time": "2021-04-15T03:35:50.825662",
     "exception": false,
     "start_time": "2021-04-15T03:35:43.386178",
     "status": "completed"
    },
    "tags": []
   },
   "outputs": [
    {
     "name": "stdout",
     "output_type": "stream",
     "text": [
      "0.6182113373881123\n"
     ]
    }
   ],
   "source": [
    "score,df=compute_jaccard(st_idx,end_idx,X_test,Y_test)\n",
    "print(score)"
   ]
  }
 ],
 "metadata": {
  "kernelspec": {
   "display_name": "Python 3",
   "language": "python",
   "name": "python3"
  },
  "language_info": {
   "codemirror_mode": {
    "name": "ipython",
    "version": 3
   },
   "file_extension": ".py",
   "mimetype": "text/x-python",
   "name": "python",
   "nbconvert_exporter": "python",
   "pygments_lexer": "ipython3",
   "version": "3.7.6"
  },
  "papermill": {
   "duration": 540.025374,
   "end_time": "2021-04-15T03:35:52.667012",
   "environment_variables": {},
   "exception": null,
   "input_path": "__notebook__.ipynb",
   "output_path": "__notebook__.ipynb",
   "parameters": {},
   "start_time": "2021-04-15T03:26:52.641638",
   "version": "2.1.0"
  }
 },
 "nbformat": 4,
 "nbformat_minor": 4
}
