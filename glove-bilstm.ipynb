{
 "cells": [
  {
   "cell_type": "code",
   "execution_count": 1,
   "metadata": {
    "execution": {
     "iopub.execute_input": "2021-04-15T02:32:21.817561Z",
     "iopub.status.busy": "2021-04-15T02:32:21.816897Z",
     "iopub.status.idle": "2021-04-15T02:32:28.213111Z",
     "shell.execute_reply": "2021-04-15T02:32:28.212228Z"
    },
    "papermill": {
     "duration": 6.417211,
     "end_time": "2021-04-15T02:32:28.213356",
     "exception": false,
     "start_time": "2021-04-15T02:32:21.796145",
     "status": "completed"
    },
    "tags": []
   },
   "outputs": [],
   "source": [
    "import tensorflow as tf\n",
    "from tensorflow.keras.layers import Dense,Input,Activation,Flatten,Embedding,GlobalAveragePooling1D,Dropout,LSTM,Conv1D, Bidirectional, GlobalMaxPool1D\n",
    "from tensorflow.keras.models import Model"
   ]
  },
  {
   "cell_type": "code",
   "execution_count": 2,
   "metadata": {
    "execution": {
     "iopub.execute_input": "2021-04-15T02:32:28.251103Z",
     "iopub.status.busy": "2021-04-15T02:32:28.250114Z",
     "iopub.status.idle": "2021-04-15T02:32:28.253826Z",
     "shell.execute_reply": "2021-04-15T02:32:28.253206Z"
    },
    "papermill": {
     "duration": 0.024825,
     "end_time": "2021-04-15T02:32:28.253995",
     "exception": false,
     "start_time": "2021-04-15T02:32:28.229170",
     "status": "completed"
    },
    "tags": []
   },
   "outputs": [],
   "source": [
    "NB_START_EPOCHS = 10  # Número de iteraciones de entrenamiento\n",
    "BATCH_SIZE = 512  # Tamaño de grupos usados en entrenamiento\n",
    "FAST_TEXT_DIM = 300  # Número de dimensiones los embeddings GloVe\n",
    "seq_length = 33"
   ]
  },
  {
   "cell_type": "code",
   "execution_count": 3,
   "metadata": {
    "execution": {
     "iopub.execute_input": "2021-04-15T02:32:28.294817Z",
     "iopub.status.busy": "2021-04-15T02:32:28.294035Z",
     "iopub.status.idle": "2021-04-15T02:32:29.909793Z",
     "shell.execute_reply": "2021-04-15T02:32:29.910442Z"
    },
    "papermill": {
     "duration": 1.63907,
     "end_time": "2021-04-15T02:32:29.910629",
     "exception": false,
     "start_time": "2021-04-15T02:32:28.271559",
     "status": "completed"
    },
    "tags": []
   },
   "outputs": [
    {
     "name": "stderr",
     "output_type": "stream",
     "text": [
      "/opt/conda/lib/python3.7/site-packages/nltk/twitter/__init__.py:20: UserWarning: The twython library has not been installed. Some functionality from the twitter package will not be available.\n",
      "  warnings.warn(\"The twython library has not been installed. \"\n"
     ]
    }
   ],
   "source": [
    "import pandas as pd\n",
    "import numpy as np\n",
    "import matplotlib.pyplot as plt\n",
    "import seaborn as sns\n",
    "import re\n",
    "import pandas as pd\n",
    "import string\n",
    "from wordcloud import WordCloud, STOPWORDS\n",
    "import tensorflow as tf\n",
    "import missingno as msno\n",
    "from collections import defaultdict\n",
    "import nltk\n",
    "from nltk.sentiment.vader import SentimentIntensityAnalyzer\n",
    "import json\n",
    "import codecs\n",
    "\n",
    "from tqdm import tqdm\n",
    "\n",
    "%matplotlib inline"
   ]
  },
  {
   "cell_type": "code",
   "execution_count": 4,
   "metadata": {
    "execution": {
     "iopub.execute_input": "2021-04-15T02:32:29.946261Z",
     "iopub.status.busy": "2021-04-15T02:32:29.945578Z",
     "iopub.status.idle": "2021-04-15T02:32:29.954370Z",
     "shell.execute_reply": "2021-04-15T02:32:29.954848Z"
    },
    "papermill": {
     "duration": 0.028103,
     "end_time": "2021-04-15T02:32:29.955044",
     "exception": false,
     "start_time": "2021-04-15T02:32:29.926941",
     "status": "completed"
    },
    "tags": []
   },
   "outputs": [],
   "source": [
    "#Reference https://www.kaggle.com/parulpandey/eda-and-preprocessing-for-bert\n",
    "\n",
    "def clean(tweet):\n",
    "    tweet = str(tweet)\n",
    "\n",
    "    tweet=tweet.lower()\n",
    "\n",
    "    #Remove html tags\n",
    "    tweet=re.sub('<.*?>','',tweet)\n",
    "\n",
    "    #Remove text in square brackets\n",
    "    tweet=re.sub('\\[.*?\\]','',tweet)\n",
    "\n",
    "    #Remove hyperlinks\n",
    "    tweet=re.sub('https?://\\S+|www\\.\\S+','',tweet)\n",
    "\n",
    "\n",
    "    return tweet"
   ]
  },
  {
   "cell_type": "code",
   "execution_count": 5,
   "metadata": {
    "_cell_guid": "b1076dfc-b9ad-4769-8c92-a6c4dae69d19",
    "_uuid": "8f2839f25d086af736a60e9eeb907d3b93b6e0e5",
    "execution": {
     "iopub.execute_input": "2021-04-15T02:32:29.990109Z",
     "iopub.status.busy": "2021-04-15T02:32:29.989468Z",
     "iopub.status.idle": "2021-04-15T02:32:30.190122Z",
     "shell.execute_reply": "2021-04-15T02:32:30.189385Z"
    },
    "papermill": {
     "duration": 0.21934,
     "end_time": "2021-04-15T02:32:30.190268",
     "exception": false,
     "start_time": "2021-04-15T02:32:29.970928",
     "status": "completed"
    },
    "tags": []
   },
   "outputs": [],
   "source": [
    "train = pd.read_csv(\"/kaggle/input/tweet-sentiment-extraction/train.csv\")\n",
    "test = pd.read_csv(\"/kaggle/input/tweet-sentiment-extraction/test.csv\")\n",
    "target = train['sentiment']"
   ]
  },
  {
   "cell_type": "code",
   "execution_count": 6,
   "metadata": {
    "execution": {
     "iopub.execute_input": "2021-04-15T02:32:30.228258Z",
     "iopub.status.busy": "2021-04-15T02:32:30.227256Z",
     "iopub.status.idle": "2021-04-15T02:32:30.509322Z",
     "shell.execute_reply": "2021-04-15T02:32:30.508667Z"
    },
    "papermill": {
     "duration": 0.303531,
     "end_time": "2021-04-15T02:32:30.509463",
     "exception": false,
     "start_time": "2021-04-15T02:32:30.205932",
     "status": "completed"
    },
    "tags": []
   },
   "outputs": [
    {
     "data": {
      "text/html": [
       "<div>\n",
       "<style scoped>\n",
       "    .dataframe tbody tr th:only-of-type {\n",
       "        vertical-align: middle;\n",
       "    }\n",
       "\n",
       "    .dataframe tbody tr th {\n",
       "        vertical-align: top;\n",
       "    }\n",
       "\n",
       "    .dataframe thead th {\n",
       "        text-align: right;\n",
       "    }\n",
       "</style>\n",
       "<table border=\"1\" class=\"dataframe\">\n",
       "  <thead>\n",
       "    <tr style=\"text-align: right;\">\n",
       "      <th></th>\n",
       "      <th>index</th>\n",
       "      <th>textID</th>\n",
       "      <th>text</th>\n",
       "      <th>selected_text</th>\n",
       "      <th>sentiment</th>\n",
       "      <th>clean_text</th>\n",
       "      <th>clean_selected_text</th>\n",
       "    </tr>\n",
       "  </thead>\n",
       "  <tbody>\n",
       "    <tr>\n",
       "      <th>0</th>\n",
       "      <td>0</td>\n",
       "      <td>cb774db0d1</td>\n",
       "      <td>I`d have responded, if I were going</td>\n",
       "      <td>I`d have responded, if I were going</td>\n",
       "      <td>neutral</td>\n",
       "      <td>i`d have responded, if i were going</td>\n",
       "      <td>i`d have responded, if i were going</td>\n",
       "    </tr>\n",
       "    <tr>\n",
       "      <th>1</th>\n",
       "      <td>1</td>\n",
       "      <td>549e992a42</td>\n",
       "      <td>Sooo SAD I will miss you here in San Diego!!!</td>\n",
       "      <td>Sooo SAD</td>\n",
       "      <td>negative</td>\n",
       "      <td>sooo sad i will miss you here in san diego!!!</td>\n",
       "      <td>sooo sad</td>\n",
       "    </tr>\n",
       "    <tr>\n",
       "      <th>2</th>\n",
       "      <td>2</td>\n",
       "      <td>088c60f138</td>\n",
       "      <td>my boss is bullying me...</td>\n",
       "      <td>bullying me</td>\n",
       "      <td>negative</td>\n",
       "      <td>my boss is bullying me...</td>\n",
       "      <td>bullying me</td>\n",
       "    </tr>\n",
       "    <tr>\n",
       "      <th>3</th>\n",
       "      <td>3</td>\n",
       "      <td>9642c003ef</td>\n",
       "      <td>what interview! leave me alone</td>\n",
       "      <td>leave me alone</td>\n",
       "      <td>negative</td>\n",
       "      <td>what interview! leave me alone</td>\n",
       "      <td>leave me alone</td>\n",
       "    </tr>\n",
       "    <tr>\n",
       "      <th>4</th>\n",
       "      <td>4</td>\n",
       "      <td>358bd9e861</td>\n",
       "      <td>Sons of ****, why couldn`t they put them on t...</td>\n",
       "      <td>Sons of ****,</td>\n",
       "      <td>negative</td>\n",
       "      <td>sons of ****, why couldn`t they put them on t...</td>\n",
       "      <td>sons of ****,</td>\n",
       "    </tr>\n",
       "  </tbody>\n",
       "</table>\n",
       "</div>"
      ],
      "text/plain": [
       "   index      textID                                               text  \\\n",
       "0      0  cb774db0d1                I`d have responded, if I were going   \n",
       "1      1  549e992a42      Sooo SAD I will miss you here in San Diego!!!   \n",
       "2      2  088c60f138                          my boss is bullying me...   \n",
       "3      3  9642c003ef                     what interview! leave me alone   \n",
       "4      4  358bd9e861   Sons of ****, why couldn`t they put them on t...   \n",
       "\n",
       "                         selected_text sentiment  \\\n",
       "0  I`d have responded, if I were going   neutral   \n",
       "1                             Sooo SAD  negative   \n",
       "2                          bullying me  negative   \n",
       "3                       leave me alone  negative   \n",
       "4                        Sons of ****,  negative   \n",
       "\n",
       "                                          clean_text  \\\n",
       "0                i`d have responded, if i were going   \n",
       "1      sooo sad i will miss you here in san diego!!!   \n",
       "2                          my boss is bullying me...   \n",
       "3                     what interview! leave me alone   \n",
       "4   sons of ****, why couldn`t they put them on t...   \n",
       "\n",
       "                   clean_selected_text  \n",
       "0  i`d have responded, if i were going  \n",
       "1                             sooo sad  \n",
       "2                          bullying me  \n",
       "3                       leave me alone  \n",
       "4                        sons of ****,  "
      ]
     },
     "execution_count": 6,
     "metadata": {},
     "output_type": "execute_result"
    }
   ],
   "source": [
    "train_model = train.copy()\n",
    "train_model.dropna(inplace=True)\n",
    "train_model['clean_text']=train_model['text'].apply(clean)\n",
    "train_model['clean_selected_text']=train_model['selected_text'].apply(clean)\n",
    "train_model = train_model.reset_index()\n",
    "train_model.head()"
   ]
  },
  {
   "cell_type": "code",
   "execution_count": 7,
   "metadata": {
    "execution": {
     "iopub.execute_input": "2021-04-15T02:32:30.551347Z",
     "iopub.status.busy": "2021-04-15T02:32:30.550104Z",
     "iopub.status.idle": "2021-04-15T02:32:30.629289Z",
     "shell.execute_reply": "2021-04-15T02:32:30.628528Z"
    },
    "papermill": {
     "duration": 0.104417,
     "end_time": "2021-04-15T02:32:30.629499",
     "exception": false,
     "start_time": "2021-04-15T02:32:30.525082",
     "status": "completed"
    },
    "tags": []
   },
   "outputs": [
    {
     "name": "stdout",
     "output_type": "stream",
     "text": [
      "X_train Forma (17587, 3)  Y_train Forma  (17587,)\n",
      "X_val Forma (5496, 3)  Y_val Forma  (5496,)\n",
      "X_test Forma (4397, 3)  Y_test Forma  (4397,)\n"
     ]
    }
   ],
   "source": [
    "from sklearn.model_selection import train_test_split\n",
    "\n",
    "X_train,X_val,Y_train,Y_val=train_test_split(train_model[['sentiment','clean_text','textID']],train_model['clean_selected_text'],\n",
    "                                               test_size=0.2,random_state=42,stratify=train_model['sentiment'])\n",
    "\n",
    "X_train,X_test,Y_train,Y_test=train_test_split(X_train,Y_train,\n",
    "                                               test_size=0.2,random_state=42,stratify=X_train['sentiment'])\n",
    "\n",
    "X_train.reset_index(inplace=True,drop=True)\n",
    "X_val.reset_index(inplace=True,drop=True)\n",
    "X_test.reset_index(inplace=True,drop=True)\n",
    "\n",
    "Y_train=Y_train.reset_index(drop=True)\n",
    "Y_val=Y_val.reset_index(drop=True)\n",
    "Y_test=Y_test.reset_index(drop=True)\n",
    "\n",
    "print('X_train Forma',X_train.shape,' Y_train Forma ',Y_train.shape)\n",
    "print('X_val Forma',X_val.shape,' Y_val Forma ',Y_val.shape)\n",
    "print('X_test Forma',X_test.shape,' Y_test Forma ',Y_test.shape)"
   ]
  },
  {
   "cell_type": "code",
   "execution_count": 8,
   "metadata": {
    "execution": {
     "iopub.execute_input": "2021-04-15T02:32:30.685011Z",
     "iopub.status.busy": "2021-04-15T02:32:30.684025Z",
     "iopub.status.idle": "2021-04-15T02:32:30.739384Z",
     "shell.execute_reply": "2021-04-15T02:32:30.740032Z"
    },
    "papermill": {
     "duration": 0.094177,
     "end_time": "2021-04-15T02:32:30.740275",
     "exception": false,
     "start_time": "2021-04-15T02:32:30.646098",
     "status": "completed"
    },
    "tags": []
   },
   "outputs": [
    {
     "name": "stdout",
     "output_type": "stream",
     "text": [
      "X_train Forma (17587, 3)  Y_train Forma  (17587,)\n",
      "X_val Forma (5496, 3)  Y_val Forma  (5496,)\n",
      "X_test Forma (4397, 3)  Y_test Forma  (4397,)\n"
     ]
    }
   ],
   "source": [
    "from sklearn.model_selection import train_test_split\n",
    "\n",
    "X_train,X_val,Y_train,Y_val=train_test_split(train_model[['sentiment','clean_text','textID']],train_model['clean_selected_text'],\n",
    "                                               test_size=0.2,random_state=42,stratify=train_model['sentiment'])\n",
    "\n",
    "X_train,X_test,Y_train,Y_test=train_test_split(X_train,Y_train,\n",
    "                                               test_size=0.2,random_state=42,stratify=X_train['sentiment'])\n",
    "\n",
    "X_train.reset_index(inplace=True,drop=True)\n",
    "X_val.reset_index(inplace=True,drop=True)\n",
    "X_test.reset_index(inplace=True,drop=True)\n",
    "\n",
    "Y_train=Y_train.reset_index(drop=True)\n",
    "Y_val=Y_val.reset_index(drop=True)\n",
    "Y_test=Y_test.reset_index(drop=True)\n",
    "\n",
    "print('X_train Forma',X_train.shape,' Y_train Forma ',Y_train.shape)\n",
    "print('X_val Forma',X_val.shape,' Y_val Forma ',Y_val.shape)\n",
    "print('X_test Forma',X_test.shape,' Y_test Forma ',Y_test.shape)"
   ]
  },
  {
   "cell_type": "code",
   "execution_count": 9,
   "metadata": {
    "execution": {
     "iopub.execute_input": "2021-04-15T02:32:30.815694Z",
     "iopub.status.busy": "2021-04-15T02:32:30.805035Z",
     "iopub.status.idle": "2021-04-15T02:32:31.633881Z",
     "shell.execute_reply": "2021-04-15T02:32:31.633310Z"
    },
    "papermill": {
     "duration": 0.877369,
     "end_time": "2021-04-15T02:32:31.634048",
     "exception": false,
     "start_time": "2021-04-15T02:32:30.756679",
     "status": "completed"
    },
    "tags": []
   },
   "outputs": [
    {
     "name": "stdout",
     "output_type": "stream",
     "text": [
      "The shape of X_train_tokens  (17587, 33)\n",
      "The shape of X_val_tokens  (5496, 33)\n",
      "The shape of X_test_tokens  (4397, 33)\n"
     ]
    }
   ],
   "source": [
    "tokenizer = tf.keras.preprocessing.text.Tokenizer(oov_token='UNK',filters='')\n",
    "tokenizer.fit_on_texts(X_train['clean_text'].values+' '+X_train['sentiment'].values)\n",
    "\n",
    "X_train_clean_text = tokenizer.texts_to_sequences(X_train['sentiment'].values+' '+X_train['clean_text'].values)\n",
    "X_val_clean_text = tokenizer.texts_to_sequences(X_val['sentiment'].values+' '+X_val['clean_text'].values)\n",
    "X_test_clean_text = tokenizer.texts_to_sequences(X_test['sentiment'].values+' '+X_test['clean_text'].values)\n",
    "\n",
    "X_train_tokens = tf.keras.preprocessing.sequence.pad_sequences(X_train_clean_text,maxlen=seq_length,padding='post')\n",
    "X_val_tokens = tf.keras.preprocessing.sequence.pad_sequences(X_val_clean_text,maxlen=seq_length,padding='post')\n",
    "X_test_tokens = tf.keras.preprocessing.sequence.pad_sequences(X_test_clean_text,maxlen=seq_length,padding='post')\n",
    "\n",
    "print('The shape of X_train_tokens ',X_train_tokens.shape)\n",
    "print('The shape of X_val_tokens ',X_val_tokens.shape)\n",
    "print('The shape of X_test_tokens ',X_test_tokens.shape)"
   ]
  },
  {
   "cell_type": "code",
   "execution_count": 10,
   "metadata": {
    "execution": {
     "iopub.execute_input": "2021-04-15T02:32:31.673368Z",
     "iopub.status.busy": "2021-04-15T02:32:31.672604Z",
     "iopub.status.idle": "2021-04-15T02:33:13.608298Z",
     "shell.execute_reply": "2021-04-15T02:33:13.609101Z"
    },
    "papermill": {
     "duration": 41.958994,
     "end_time": "2021-04-15T02:33:13.609356",
     "exception": false,
     "start_time": "2021-04-15T02:32:31.650362",
     "status": "completed"
    },
    "tags": []
   },
   "outputs": [
    {
     "name": "stdout",
     "output_type": "stream",
     "text": [
      "1193514 Vectores de palabras encontrados.\n"
     ]
    }
   ],
   "source": [
    "#load embeddings\n",
    "embeddings_index = {}\n",
    "f = open('/kaggle/input/glove-global-vectors-for-word-representation/glove.twitter.27B.100d.txt', encoding='utf-8')\n",
    "for line in f:\n",
    "    values = line.split()\n",
    "    word = values[0]\n",
    "    coefs = np.asarray(values[1:], dtype='float32')\n",
    "    embeddings_index[word] = coefs\n",
    "f.close()\n",
    "\n",
    "print('%s Vectores de palabras encontrados.' % len(embeddings_index))"
   ]
  },
  {
   "cell_type": "code",
   "execution_count": 11,
   "metadata": {
    "execution": {
     "iopub.execute_input": "2021-04-15T02:33:13.651152Z",
     "iopub.status.busy": "2021-04-15T02:33:13.650480Z",
     "iopub.status.idle": "2021-04-15T02:33:13.654033Z",
     "shell.execute_reply": "2021-04-15T02:33:13.653157Z"
    },
    "papermill": {
     "duration": 0.025711,
     "end_time": "2021-04-15T02:33:13.654229",
     "exception": false,
     "start_time": "2021-04-15T02:33:13.628518",
     "status": "completed"
    },
    "tags": []
   },
   "outputs": [
    {
     "name": "stdout",
     "output_type": "stream",
     "text": [
      "32146\n"
     ]
    }
   ],
   "source": [
    "vocab_size=len(tokenizer.word_index)+1\n",
    "print(vocab_size)"
   ]
  },
  {
   "cell_type": "code",
   "execution_count": 12,
   "metadata": {
    "execution": {
     "iopub.execute_input": "2021-04-15T02:33:13.697134Z",
     "iopub.status.busy": "2021-04-15T02:33:13.696409Z",
     "iopub.status.idle": "2021-04-15T02:33:13.751226Z",
     "shell.execute_reply": "2021-04-15T02:33:13.750558Z"
    },
    "papermill": {
     "duration": 0.077203,
     "end_time": "2021-04-15T02:33:13.751365",
     "exception": false,
     "start_time": "2021-04-15T02:33:13.674162",
     "status": "completed"
    },
    "tags": []
   },
   "outputs": [],
   "source": [
    "embedding_matrix = np.zeros((vocab_size, 100 ))\n",
    "for word, i in tokenizer.word_index.items():\n",
    "    embedding_vector = embeddings_index.get(word)\n",
    "    if embedding_vector is not None:    \n",
    "        embedding_matrix[i] = embedding_vector"
   ]
  },
  {
   "cell_type": "code",
   "execution_count": 13,
   "metadata": {
    "execution": {
     "iopub.execute_input": "2021-04-15T02:33:13.793563Z",
     "iopub.status.busy": "2021-04-15T02:33:13.792693Z",
     "iopub.status.idle": "2021-04-15T02:33:13.796629Z",
     "shell.execute_reply": "2021-04-15T02:33:13.796063Z"
    },
    "papermill": {
     "duration": 0.027795,
     "end_time": "2021-04-15T02:33:13.796783",
     "exception": false,
     "start_time": "2021-04-15T02:33:13.768988",
     "status": "completed"
    },
    "tags": []
   },
   "outputs": [
    {
     "name": "stdout",
     "output_type": "stream",
     "text": [
      "[3 6 7]\n",
      "['neutral' 'positive' 'negative']\n"
     ]
    }
   ],
   "source": [
    "print(X_train_tokens.T[0][0:3])\n",
    "print(X_train['sentiment'].values[0:3])"
   ]
  },
  {
   "cell_type": "code",
   "execution_count": 14,
   "metadata": {
    "execution": {
     "iopub.execute_input": "2021-04-15T02:33:13.842620Z",
     "iopub.status.busy": "2021-04-15T02:33:13.841683Z",
     "iopub.status.idle": "2021-04-15T02:33:13.844593Z",
     "shell.execute_reply": "2021-04-15T02:33:13.844007Z"
    },
    "papermill": {
     "duration": 0.030428,
     "end_time": "2021-04-15T02:33:13.844766",
     "exception": false,
     "start_time": "2021-04-15T02:33:13.814338",
     "status": "completed"
    },
    "tags": []
   },
   "outputs": [],
   "source": [
    "# Creación de indices\n",
    "\n",
    "def get_start_end_index(X_data,Y_data):\n",
    "    start_index=np.zeros((X_data.shape[0],32),dtype='int32')\n",
    "    end_index=np.zeros((X_data.shape[0],32),dtype='int32')\n",
    "\n",
    "    for k in range(X_data.shape[0]):\n",
    "        tx1=\" \".join(X_data['clean_text'][k].split())\n",
    "        tx2=\" \".join(Y_data[k].split())\n",
    "        # Se encuentra en indice de inicio y el de finalización\n",
    "        idx=tx1.find(tx2)\n",
    "\n",
    "        # Se insertan unos por cada caracter presente\n",
    "        chars=np.zeros(len(tx1))\n",
    "        chars[idx:idx+len(tx2)]=1\n",
    "\n",
    "        # Creación de offsets con (inicio, fin) para cada palabra \n",
    "        offsets=[]\n",
    "        j=0\n",
    "        for i in tx1.split():\n",
    "            offsets.append((j,j+len(i)+1))\n",
    "            j+=len(i)+1\n",
    "\n",
    "        vals=[]\n",
    "        for i,(o1,o2) in enumerate(offsets):\n",
    "            if(sum(chars[o1:o2])>0):\n",
    "                vals.append(i)\n",
    "\n",
    "        if(len(vals)>0 and len(vals)<=32):\n",
    "            start_index[k,vals[0]]=1\n",
    "            end_index[k,vals[-1]]=1\n",
    "        else:\n",
    "            start_index[k,0]=1\n",
    "            end_index[k,-1]=1\n",
    "    return start_index,end_index"
   ]
  },
  {
   "cell_type": "code",
   "execution_count": 15,
   "metadata": {
    "execution": {
     "iopub.execute_input": "2021-04-15T02:33:13.961149Z",
     "iopub.status.busy": "2021-04-15T02:33:13.884163Z",
     "iopub.status.idle": "2021-04-15T02:33:15.427180Z",
     "shell.execute_reply": "2021-04-15T02:33:15.426538Z"
    },
    "papermill": {
     "duration": 1.564874,
     "end_time": "2021-04-15T02:33:15.427323",
     "exception": false,
     "start_time": "2021-04-15T02:33:13.862449",
     "status": "completed"
    },
    "tags": []
   },
   "outputs": [],
   "source": [
    "Y_tr_1,Y_tr_2=get_start_end_index(X_train,Y_train)\n",
    "Y_val_1,Y_val_2=get_start_end_index(X_val,Y_val)\n",
    "Y_te_1,Y_te_2=get_start_end_index(X_test,Y_test)"
   ]
  },
  {
   "cell_type": "code",
   "execution_count": 16,
   "metadata": {
    "execution": {
     "iopub.execute_input": "2021-04-15T02:33:15.469355Z",
     "iopub.status.busy": "2021-04-15T02:33:15.468358Z",
     "iopub.status.idle": "2021-04-15T02:33:15.472830Z",
     "shell.execute_reply": "2021-04-15T02:33:15.472200Z"
    },
    "papermill": {
     "duration": 0.027835,
     "end_time": "2021-04-15T02:33:15.472975",
     "exception": false,
     "start_time": "2021-04-15T02:33:15.445140",
     "status": "completed"
    },
    "tags": []
   },
   "outputs": [
    {
     "data": {
      "text/plain": [
       "' sc2 will be released before d3  hopefully!'"
      ]
     },
     "execution_count": 16,
     "metadata": {},
     "output_type": "execute_result"
    }
   ],
   "source": [
    "X_train['clean_text'][202]"
   ]
  },
  {
   "cell_type": "code",
   "execution_count": 17,
   "metadata": {
    "execution": {
     "iopub.execute_input": "2021-04-15T02:33:15.518451Z",
     "iopub.status.busy": "2021-04-15T02:33:15.517706Z",
     "iopub.status.idle": "2021-04-15T02:33:15.523536Z",
     "shell.execute_reply": "2021-04-15T02:33:15.522849Z"
    },
    "papermill": {
     "duration": 0.032443,
     "end_time": "2021-04-15T02:33:15.523680",
     "exception": false,
     "start_time": "2021-04-15T02:33:15.491237",
     "status": "completed"
    },
    "tags": []
   },
   "outputs": [
    {
     "data": {
      "text/plain": [
       "'hopefully!'"
      ]
     },
     "execution_count": 17,
     "metadata": {},
     "output_type": "execute_result"
    }
   ],
   "source": [
    "Y_train[202]"
   ]
  },
  {
   "cell_type": "code",
   "execution_count": 18,
   "metadata": {
    "execution": {
     "iopub.execute_input": "2021-04-15T02:33:15.567032Z",
     "iopub.status.busy": "2021-04-15T02:33:15.565985Z",
     "iopub.status.idle": "2021-04-15T02:33:15.571072Z",
     "shell.execute_reply": "2021-04-15T02:33:15.570281Z"
    },
    "papermill": {
     "duration": 0.02856,
     "end_time": "2021-04-15T02:33:15.571224",
     "exception": false,
     "start_time": "2021-04-15T02:33:15.542664",
     "status": "completed"
    },
    "tags": []
   },
   "outputs": [
    {
     "data": {
      "text/plain": [
       "array([   6, 9860,   52,   26, 2178,  196, 9861, 3099,    0,    0,    0,\n",
       "          0,    0,    0,    0,    0,    0,    0,    0,    0,    0,    0,\n",
       "          0,    0,    0,    0,    0,    0,    0,    0,    0,    0,    0],\n",
       "      dtype=int32)"
      ]
     },
     "execution_count": 18,
     "metadata": {},
     "output_type": "execute_result"
    }
   ],
   "source": [
    "X_train_tokens[202]"
   ]
  },
  {
   "cell_type": "code",
   "execution_count": 19,
   "metadata": {
    "execution": {
     "iopub.execute_input": "2021-04-15T02:33:15.617072Z",
     "iopub.status.busy": "2021-04-15T02:33:15.616170Z",
     "iopub.status.idle": "2021-04-15T02:33:15.621178Z",
     "shell.execute_reply": "2021-04-15T02:33:15.620547Z"
    },
    "papermill": {
     "duration": 0.029276,
     "end_time": "2021-04-15T02:33:15.621322",
     "exception": false,
     "start_time": "2021-04-15T02:33:15.592046",
     "status": "completed"
    },
    "tags": []
   },
   "outputs": [
    {
     "data": {
      "text/plain": [
       "array([0, 0, 0, 0, 0, 0, 1, 0, 0, 0, 0, 0, 0, 0, 0, 0, 0, 0, 0, 0, 0, 0,\n",
       "       0, 0, 0, 0, 0, 0, 0, 0, 0, 0], dtype=int32)"
      ]
     },
     "execution_count": 19,
     "metadata": {},
     "output_type": "execute_result"
    }
   ],
   "source": [
    "Y_tr_1[202]"
   ]
  },
  {
   "cell_type": "code",
   "execution_count": 20,
   "metadata": {
    "execution": {
     "iopub.execute_input": "2021-04-15T02:33:15.665882Z",
     "iopub.status.busy": "2021-04-15T02:33:15.664980Z",
     "iopub.status.idle": "2021-04-15T02:33:15.668896Z",
     "shell.execute_reply": "2021-04-15T02:33:15.669331Z"
    },
    "papermill": {
     "duration": 0.028345,
     "end_time": "2021-04-15T02:33:15.669511",
     "exception": false,
     "start_time": "2021-04-15T02:33:15.641166",
     "status": "completed"
    },
    "tags": []
   },
   "outputs": [
    {
     "data": {
      "text/plain": [
       "array([0, 0, 0, 0, 0, 0, 1, 0, 0, 0, 0, 0, 0, 0, 0, 0, 0, 0, 0, 0, 0, 0,\n",
       "       0, 0, 0, 0, 0, 0, 0, 0, 0, 0], dtype=int32)"
      ]
     },
     "execution_count": 20,
     "metadata": {},
     "output_type": "execute_result"
    }
   ],
   "source": [
    "Y_tr_2[202]"
   ]
  },
  {
   "cell_type": "code",
   "execution_count": 21,
   "metadata": {
    "execution": {
     "iopub.execute_input": "2021-04-15T02:33:15.715158Z",
     "iopub.status.busy": "2021-04-15T02:33:15.714368Z",
     "iopub.status.idle": "2021-04-15T02:33:15.718357Z",
     "shell.execute_reply": "2021-04-15T02:33:15.717789Z"
    },
    "papermill": {
     "duration": 0.028515,
     "end_time": "2021-04-15T02:33:15.718496",
     "exception": false,
     "start_time": "2021-04-15T02:33:15.689981",
     "status": "completed"
    },
    "tags": []
   },
   "outputs": [],
   "source": [
    "import os\n",
    "if not os.path.exists('./fast-text'):\n",
    "    os.makedirs('./fast-text')"
   ]
  },
  {
   "cell_type": "code",
   "execution_count": 22,
   "metadata": {
    "execution": {
     "iopub.execute_input": "2021-04-15T02:33:15.767512Z",
     "iopub.status.busy": "2021-04-15T02:33:15.766843Z",
     "iopub.status.idle": "2021-04-15T02:33:16.229619Z",
     "shell.execute_reply": "2021-04-15T02:33:16.229135Z"
    },
    "papermill": {
     "duration": 0.490911,
     "end_time": "2021-04-15T02:33:16.229802",
     "exception": false,
     "start_time": "2021-04-15T02:33:15.738891",
     "status": "completed"
    },
    "tags": []
   },
   "outputs": [
    {
     "name": "stdout",
     "output_type": "stream",
     "text": [
      "Model: \"model\"\n",
      "__________________________________________________________________________________________________\n",
      "Layer (type)                    Output Shape         Param #     Connected to                     \n",
      "==================================================================================================\n",
      "input (InputLayer)              [(None, 33)]         0                                            \n",
      "__________________________________________________________________________________________________\n",
      "embedding (Embedding)           (None, 33, 100)      3214600     input[0][0]                      \n",
      "__________________________________________________________________________________________________\n",
      "bidirectional (Bidirectional)   (None, 33, 200)      160800      embedding[0][0]                  \n",
      "__________________________________________________________________________________________________\n",
      "global_max_pooling1d (GlobalMax (None, 200)          0           bidirectional[0][0]              \n",
      "__________________________________________________________________________________________________\n",
      "dense (Dense)                   (None, 100)          20100       global_max_pooling1d[0][0]       \n",
      "__________________________________________________________________________________________________\n",
      "dense_1 (Dense)                 (None, 100)          20100       global_max_pooling1d[0][0]       \n",
      "__________________________________________________________________________________________________\n",
      "dropout (Dropout)               (None, 100)          0           dense[0][0]                      \n",
      "__________________________________________________________________________________________________\n",
      "dropout_1 (Dropout)             (None, 100)          0           dense_1[0][0]                    \n",
      "__________________________________________________________________________________________________\n",
      "output1 (Dense)                 (None, 32)           3232        dropout[0][0]                    \n",
      "__________________________________________________________________________________________________\n",
      "output2 (Dense)                 (None, 32)           3232        dropout_1[0][0]                  \n",
      "==================================================================================================\n",
      "Total params: 3,422,064\n",
      "Trainable params: 207,464\n",
      "Non-trainable params: 3,214,600\n",
      "__________________________________________________________________________________________________\n"
     ]
    }
   ],
   "source": [
    "# Red neuronal convolucional\n",
    "\n",
    "\n",
    "inp = Input((seq_length,),name='input')\n",
    "x = Embedding(vocab_size,100,weights=[embedding_matrix],input_length=seq_length,trainable=False)(inp)\n",
    "x = Bidirectional(LSTM(100, return_sequences=True, dropout=0.25, recurrent_dropout=0.1))(x)\n",
    "x = GlobalMaxPool1D()(x)\n",
    "\n",
    "y1 = Dense(100, activation=\"relu\")(x)\n",
    "y1 = Dropout(0.25)(y1)\n",
    "y1 = Dense(32, activation=\"softmax\",name='output1')(y1)\n",
    "\n",
    "y2 = Dense(100, activation=\"relu\")(x)\n",
    "y2 = Dropout(0.25)(y2)\n",
    "y2 = Dense(32, activation=\"softmax\",name='output2')(y2)\n",
    "\n",
    "model=Model(inputs=[inp],outputs=[y1,y2])\n",
    "model.compile(optimizer=tf.keras.optimizers.Adam(learning_rate=0.001),\n",
    "              loss=tf.keras.losses.CategoricalCrossentropy())\n",
    "\n",
    "model.summary()"
   ]
  },
  {
   "cell_type": "code",
   "execution_count": 23,
   "metadata": {
    "execution": {
     "iopub.execute_input": "2021-04-15T02:33:16.276421Z",
     "iopub.status.busy": "2021-04-15T02:33:16.275533Z",
     "iopub.status.idle": "2021-04-15T02:33:16.286578Z",
     "shell.execute_reply": "2021-04-15T02:33:16.286047Z"
    },
    "papermill": {
     "duration": 0.036728,
     "end_time": "2021-04-15T02:33:16.286730",
     "exception": false,
     "start_time": "2021-04-15T02:33:16.250002",
     "status": "completed"
    },
    "tags": []
   },
   "outputs": [],
   "source": [
    "from tensorflow.keras.callbacks import TensorBoard\n",
    "%load_ext tensorboard\n",
    "\n",
    "log_dir='./glove/logs'\n",
    "tensorboard_callback = TensorBoard(log_dir=log_dir,histogram_freq=1, write_graph=True)"
   ]
  },
  {
   "cell_type": "code",
   "execution_count": 24,
   "metadata": {
    "execution": {
     "iopub.execute_input": "2021-04-15T02:33:16.333157Z",
     "iopub.status.busy": "2021-04-15T02:33:16.332538Z",
     "iopub.status.idle": "2021-04-15T02:33:16.335721Z",
     "shell.execute_reply": "2021-04-15T02:33:16.335244Z"
    },
    "papermill": {
     "duration": 0.028601,
     "end_time": "2021-04-15T02:33:16.335937",
     "exception": false,
     "start_time": "2021-04-15T02:33:16.307336",
     "status": "completed"
    },
    "tags": []
   },
   "outputs": [],
   "source": [
    "from tensorflow.keras.callbacks import ModelCheckpoint\n",
    "\n",
    "filepath=\"./glove/weights-{epoch:02d}-{val_loss:.4f}.hdf5\"\n",
    "checkpoint = ModelCheckpoint(filepath=filepath, monitor='val_loss', verbose=1, save_best_only=True, mode='auto')"
   ]
  },
  {
   "cell_type": "code",
   "execution_count": 25,
   "metadata": {
    "execution": {
     "iopub.execute_input": "2021-04-15T02:33:16.382796Z",
     "iopub.status.busy": "2021-04-15T02:33:16.382057Z",
     "iopub.status.idle": "2021-04-15T02:46:45.477702Z",
     "shell.execute_reply": "2021-04-15T02:46:45.478168Z"
    },
    "papermill": {
     "duration": 809.121193,
     "end_time": "2021-04-15T02:46:45.478337",
     "exception": false,
     "start_time": "2021-04-15T02:33:16.357144",
     "status": "completed"
    },
    "tags": []
   },
   "outputs": [
    {
     "name": "stdout",
     "output_type": "stream",
     "text": [
      "Epoch 1/20\n",
      "550/550 [==============================] - 46s 74ms/step - loss: 4.8131 - output1_loss: 1.8217 - output2_loss: 2.9914 - val_loss: 3.7860 - val_output1_loss: 1.4851 - val_output2_loss: 2.3009\n",
      "\n",
      "Epoch 00001: val_loss improved from inf to 3.78602, saving model to ./glove/weights-01-3.7860.hdf5\n",
      "Epoch 2/20\n",
      "550/550 [==============================] - 40s 72ms/step - loss: 3.7415 - output1_loss: 1.4613 - output2_loss: 2.2802 - val_loss: 3.5053 - val_output1_loss: 1.4139 - val_output2_loss: 2.0914\n",
      "\n",
      "Epoch 00002: val_loss improved from 3.78602 to 3.50531, saving model to ./glove/weights-02-3.5053.hdf5\n",
      "Epoch 3/20\n",
      "550/550 [==============================] - 39s 72ms/step - loss: 3.4613 - output1_loss: 1.3900 - output2_loss: 2.0713 - val_loss: 3.3922 - val_output1_loss: 1.4060 - val_output2_loss: 1.9861\n",
      "\n",
      "Epoch 00003: val_loss improved from 3.50531 to 3.39217, saving model to ./glove/weights-03-3.3922.hdf5\n",
      "Epoch 4/20\n",
      "550/550 [==============================] - 39s 72ms/step - loss: 3.3396 - output1_loss: 1.3706 - output2_loss: 1.9690 - val_loss: 3.2736 - val_output1_loss: 1.3574 - val_output2_loss: 1.9162\n",
      "\n",
      "Epoch 00004: val_loss improved from 3.39217 to 3.27359, saving model to ./glove/weights-04-3.2736.hdf5\n",
      "Epoch 5/20\n",
      "550/550 [==============================] - 39s 72ms/step - loss: 3.2656 - output1_loss: 1.3551 - output2_loss: 1.9105 - val_loss: 3.2349 - val_output1_loss: 1.3385 - val_output2_loss: 1.8964\n",
      "\n",
      "Epoch 00005: val_loss improved from 3.27359 to 3.23489, saving model to ./glove/weights-05-3.2349.hdf5\n",
      "Epoch 6/20\n",
      "550/550 [==============================] - 39s 71ms/step - loss: 3.1838 - output1_loss: 1.3198 - output2_loss: 1.8640 - val_loss: 3.2407 - val_output1_loss: 1.3165 - val_output2_loss: 1.9242\n",
      "\n",
      "Epoch 00006: val_loss did not improve from 3.23489\n",
      "Epoch 7/20\n",
      "550/550 [==============================] - 40s 73ms/step - loss: 3.1306 - output1_loss: 1.3143 - output2_loss: 1.8163 - val_loss: 3.1346 - val_output1_loss: 1.2985 - val_output2_loss: 1.8361\n",
      "\n",
      "Epoch 00007: val_loss improved from 3.23489 to 3.13461, saving model to ./glove/weights-07-3.1346.hdf5\n",
      "Epoch 8/20\n",
      "550/550 [==============================] - 40s 72ms/step - loss: 3.0116 - output1_loss: 1.2585 - output2_loss: 1.7532 - val_loss: 3.1077 - val_output1_loss: 1.2854 - val_output2_loss: 1.8223\n",
      "\n",
      "Epoch 00008: val_loss improved from 3.13461 to 3.10768, saving model to ./glove/weights-08-3.1077.hdf5\n",
      "Epoch 9/20\n",
      "550/550 [==============================] - 40s 72ms/step - loss: 2.9906 - output1_loss: 1.2549 - output2_loss: 1.7357 - val_loss: 3.0917 - val_output1_loss: 1.2844 - val_output2_loss: 1.8074\n",
      "\n",
      "Epoch 00009: val_loss improved from 3.10768 to 3.09174, saving model to ./glove/weights-09-3.0917.hdf5\n",
      "Epoch 10/20\n",
      "550/550 [==============================] - 40s 72ms/step - loss: 2.9553 - output1_loss: 1.2407 - output2_loss: 1.7146 - val_loss: 3.0688 - val_output1_loss: 1.2794 - val_output2_loss: 1.7894\n",
      "\n",
      "Epoch 00010: val_loss improved from 3.09174 to 3.06879, saving model to ./glove/weights-10-3.0688.hdf5\n",
      "Epoch 11/20\n",
      "550/550 [==============================] - 40s 73ms/step - loss: 2.9176 - output1_loss: 1.2261 - output2_loss: 1.6915 - val_loss: 3.0399 - val_output1_loss: 1.2600 - val_output2_loss: 1.7799\n",
      "\n",
      "Epoch 00011: val_loss improved from 3.06879 to 3.03985, saving model to ./glove/weights-11-3.0399.hdf5\n",
      "Epoch 12/20\n",
      "550/550 [==============================] - 40s 73ms/step - loss: 2.8357 - output1_loss: 1.1908 - output2_loss: 1.6449 - val_loss: 3.0546 - val_output1_loss: 1.2606 - val_output2_loss: 1.7940\n",
      "\n",
      "Epoch 00012: val_loss did not improve from 3.03985\n",
      "Epoch 13/20\n",
      "550/550 [==============================] - 40s 72ms/step - loss: 2.8303 - output1_loss: 1.2001 - output2_loss: 1.6302 - val_loss: 3.0218 - val_output1_loss: 1.2558 - val_output2_loss: 1.7660\n",
      "\n",
      "Epoch 00013: val_loss improved from 3.03985 to 3.02180, saving model to ./glove/weights-13-3.0218.hdf5\n",
      "Epoch 14/20\n",
      "550/550 [==============================] - 40s 72ms/step - loss: 2.7585 - output1_loss: 1.1623 - output2_loss: 1.5962 - val_loss: 3.0389 - val_output1_loss: 1.2571 - val_output2_loss: 1.7818\n",
      "\n",
      "Epoch 00014: val_loss did not improve from 3.02180\n",
      "Epoch 15/20\n",
      "550/550 [==============================] - 41s 74ms/step - loss: 2.7014 - output1_loss: 1.1453 - output2_loss: 1.5560 - val_loss: 3.0074 - val_output1_loss: 1.2580 - val_output2_loss: 1.7494\n",
      "\n",
      "Epoch 00015: val_loss improved from 3.02180 to 3.00741, saving model to ./glove/weights-15-3.0074.hdf5\n",
      "Epoch 16/20\n",
      "550/550 [==============================] - 40s 73ms/step - loss: 2.7158 - output1_loss: 1.1612 - output2_loss: 1.5546 - val_loss: 3.0110 - val_output1_loss: 1.2623 - val_output2_loss: 1.7487\n",
      "\n",
      "Epoch 00016: val_loss did not improve from 3.00741\n",
      "Epoch 17/20\n",
      "550/550 [==============================] - 40s 73ms/step - loss: 2.6567 - output1_loss: 1.1289 - output2_loss: 1.5278 - val_loss: 3.0211 - val_output1_loss: 1.2713 - val_output2_loss: 1.7497\n",
      "\n",
      "Epoch 00017: val_loss did not improve from 3.00741\n",
      "Epoch 18/20\n",
      "550/550 [==============================] - 40s 73ms/step - loss: 2.6296 - output1_loss: 1.1236 - output2_loss: 1.5060 - val_loss: 3.0355 - val_output1_loss: 1.2623 - val_output2_loss: 1.7733\n",
      "\n",
      "Epoch 00018: val_loss did not improve from 3.00741\n",
      "Epoch 19/20\n",
      "550/550 [==============================] - 40s 73ms/step - loss: 2.5628 - output1_loss: 1.1064 - output2_loss: 1.4564 - val_loss: 3.0357 - val_output1_loss: 1.2644 - val_output2_loss: 1.7713\n",
      "\n",
      "Epoch 00019: val_loss did not improve from 3.00741\n",
      "Epoch 20/20\n",
      "550/550 [==============================] - 41s 74ms/step - loss: 2.5227 - output1_loss: 1.0763 - output2_loss: 1.4464 - val_loss: 3.0467 - val_output1_loss: 1.2660 - val_output2_loss: 1.7807\n",
      "\n",
      "Epoch 00020: val_loss did not improve from 3.00741\n"
     ]
    },
    {
     "data": {
      "text/plain": [
       "<tensorflow.python.keras.callbacks.History at 0x7f7e643c4590>"
      ]
     },
     "execution_count": 25,
     "metadata": {},
     "output_type": "execute_result"
    }
   ],
   "source": [
    "callback=[tensorboard_callback,checkpoint]\n",
    "model.fit(X_train_tokens,[Y_tr_1,Y_tr_2],batch_size=32,epochs=20,callbacks=callback,\n",
    "           validation_data=(X_val_tokens,[Y_val_1,Y_val_2]))"
   ]
  },
  {
   "cell_type": "code",
   "execution_count": 26,
   "metadata": {
    "execution": {
     "iopub.execute_input": "2021-04-15T02:46:50.592303Z",
     "iopub.status.busy": "2021-04-15T02:46:50.591642Z",
     "iopub.status.idle": "2021-04-15T02:46:51.338642Z",
     "shell.execute_reply": "2021-04-15T02:46:51.338123Z"
    },
    "papermill": {
     "duration": 3.274346,
     "end_time": "2021-04-15T02:46:51.338822",
     "exception": false,
     "start_time": "2021-04-15T02:46:48.064476",
     "status": "completed"
    },
    "tags": []
   },
   "outputs": [
    {
     "data": {
      "image/png": "[encoded data removed]",
      "text/plain": [
       "<IPython.core.display.Image object>"
      ]
     },
     "execution_count": 26,
     "metadata": {},
     "output_type": "execute_result"
    }
   ],
   "source": [
    "tf.keras.utils.plot_model(model, './glove/model.png',show_shapes=True)"
   ]
  },
  {
   "cell_type": "code",
   "execution_count": 27,
   "metadata": {
    "execution": {
     "iopub.execute_input": "2021-04-15T02:46:56.583170Z",
     "iopub.status.busy": "2021-04-15T02:46:56.582225Z",
     "iopub.status.idle": "2021-04-15T02:46:56.585991Z",
     "shell.execute_reply": "2021-04-15T02:46:56.585484Z"
    },
    "papermill": {
     "duration": 2.618153,
     "end_time": "2021-04-15T02:46:56.586141",
     "exception": false,
     "start_time": "2021-04-15T02:46:53.967988",
     "status": "completed"
    },
    "tags": []
   },
   "outputs": [],
   "source": [
    "# Metrica definida\n",
    "\n",
    "def jaccard(str1, str2):\n",
    "  a = set(str1.lower().split()) \n",
    "  b = set(str2.lower().split())\n",
    "  c = a.intersection(b)\n",
    "  return float(len(c)) / (len(a) + len(b) - len(c))"
   ]
  },
  {
   "cell_type": "code",
   "execution_count": 28,
   "metadata": {
    "execution": {
     "iopub.execute_input": "2021-04-15T02:47:01.713807Z",
     "iopub.status.busy": "2021-04-15T02:47:01.712369Z",
     "iopub.status.idle": "2021-04-15T02:47:03.790358Z",
     "shell.execute_reply": "2021-04-15T02:47:03.789555Z"
    },
    "papermill": {
     "duration": 4.624741,
     "end_time": "2021-04-15T02:47:03.790522",
     "exception": false,
     "start_time": "2021-04-15T02:46:59.165781",
     "status": "completed"
    },
    "tags": []
   },
   "outputs": [
    {
     "name": "stdout",
     "output_type": "stream",
     "text": [
      "138/138 [==============================] - 2s 11ms/step\n"
     ]
    }
   ],
   "source": [
    "st_idx,end_idx = model.predict(X_test_tokens,batch_size=32,verbose=1)"
   ]
  },
  {
   "cell_type": "code",
   "execution_count": 29,
   "metadata": {
    "execution": {
     "iopub.execute_input": "2021-04-15T02:47:09.038765Z",
     "iopub.status.busy": "2021-04-15T02:47:09.037380Z",
     "iopub.status.idle": "2021-04-15T02:47:09.045153Z",
     "shell.execute_reply": "2021-04-15T02:47:09.045580Z"
    },
    "papermill": {
     "duration": 2.633073,
     "end_time": "2021-04-15T02:47:09.045783",
     "exception": false,
     "start_time": "2021-04-15T02:47:06.412710",
     "status": "completed"
    },
    "tags": []
   },
   "outputs": [],
   "source": [
    "def compute_jaccard(st_idx,end_idx,X,Y):\n",
    "    all_jaccard=[]\n",
    "    df=pd.DataFrame(columns=['clean_text','selected_text','predicted','jaccard','sentiment'])\n",
    "    for i in range(len(st_idx)):\n",
    "        initial=np.argmax(st_idx[i])\n",
    "        final=np.argmax(end_idx[i])\n",
    "        sent2=\" \".join(X['clean_text'][i].split()[initial:final+1])\n",
    "        sent1=Y[i] \n",
    "        df.loc[i,'clean_text']=X['clean_text'][i]   \n",
    "        df.loc[i,'selected_text']=sent1\n",
    "        df.loc[i,'predicted']=sent2\n",
    "        df.loc[i,'sentiment']=X['sentiment'][i]\n",
    "        jaccard_score=jaccard(sent1,sent2)\n",
    "        df.loc[i,'jaccard']=jaccard_score\n",
    "        all_jaccard.append(jaccard_score)\n",
    "    return np.mean(np.array(all_jaccard)),df"
   ]
  },
  {
   "cell_type": "code",
   "execution_count": 30,
   "metadata": {
    "execution": {
     "iopub.execute_input": "2021-04-15T02:47:14.333962Z",
     "iopub.status.busy": "2021-04-15T02:47:14.333272Z",
     "iopub.status.idle": "2021-04-15T02:47:14.345421Z",
     "shell.execute_reply": "2021-04-15T02:47:14.345968Z"
    },
    "papermill": {
     "duration": 2.685439,
     "end_time": "2021-04-15T02:47:14.346163",
     "exception": false,
     "start_time": "2021-04-15T02:47:11.660724",
     "status": "completed"
    },
    "tags": []
   },
   "outputs": [
    {
     "data": {
      "text/html": [
       "<div>\n",
       "<style scoped>\n",
       "    .dataframe tbody tr th:only-of-type {\n",
       "        vertical-align: middle;\n",
       "    }\n",
       "\n",
       "    .dataframe tbody tr th {\n",
       "        vertical-align: top;\n",
       "    }\n",
       "\n",
       "    .dataframe thead th {\n",
       "        text-align: right;\n",
       "    }\n",
       "</style>\n",
       "<table border=\"1\" class=\"dataframe\">\n",
       "  <thead>\n",
       "    <tr style=\"text-align: right;\">\n",
       "      <th></th>\n",
       "      <th>sentiment</th>\n",
       "      <th>clean_text</th>\n",
       "      <th>textID</th>\n",
       "    </tr>\n",
       "  </thead>\n",
       "  <tbody>\n",
       "    <tr>\n",
       "      <th>0</th>\n",
       "      <td>negative</td>\n",
       "      <td>misses driving already</td>\n",
       "      <td>197aa929a2</td>\n",
       "    </tr>\n",
       "    <tr>\n",
       "      <th>1</th>\n",
       "      <td>positive</td>\n",
       "      <td>name the rest? let`s see. mystery jets are pr...</td>\n",
       "      <td>7648a76c96</td>\n",
       "    </tr>\n",
       "    <tr>\n",
       "      <th>2</th>\n",
       "      <td>neutral</td>\n",
       "      <td>anyways have a severe headache ryt now! i jst...</td>\n",
       "      <td>14fc34a4fb</td>\n",
       "    </tr>\n",
       "    <tr>\n",
       "      <th>3</th>\n",
       "      <td>neutral</td>\n",
       "      <td>25-man ulduar is hard...</td>\n",
       "      <td>50662e359b</td>\n",
       "    </tr>\n",
       "    <tr>\n",
       "      <th>4</th>\n",
       "      <td>negative</td>\n",
       "      <td>cried like a fukn baby today durin da senior s...</td>\n",
       "      <td>b66219e011</td>\n",
       "    </tr>\n",
       "    <tr>\n",
       "      <th>...</th>\n",
       "      <td>...</td>\n",
       "      <td>...</td>\n",
       "      <td>...</td>\n",
       "    </tr>\n",
       "    <tr>\n",
       "      <th>4392</th>\n",
       "      <td>negative</td>\n",
       "      <td>so lathargic... definitely need today to rest....</td>\n",
       "      <td>d715de6cbf</td>\n",
       "    </tr>\n",
       "    <tr>\n",
       "      <th>4393</th>\n",
       "      <td>positive</td>\n",
       "      <td>yess, they came to amsterdam on the 18th of a...</td>\n",
       "      <td>3b84c35810</td>\n",
       "    </tr>\n",
       "    <tr>\n",
       "      <th>4394</th>\n",
       "      <td>positive</td>\n",
       "      <td>chillaxing in hyde park</td>\n",
       "      <td>a7b2b3ec1d</td>\n",
       "    </tr>\n",
       "    <tr>\n",
       "      <th>4395</th>\n",
       "      <td>neutral</td>\n",
       "      <td>had the hottest and stressiest day at work  f ...</td>\n",
       "      <td>6c0d1d0655</td>\n",
       "    </tr>\n",
       "    <tr>\n",
       "      <th>4396</th>\n",
       "      <td>neutral</td>\n",
       "      <td>that`s what i did with my other friends dati ...</td>\n",
       "      <td>52bff90e1d</td>\n",
       "    </tr>\n",
       "  </tbody>\n",
       "</table>\n",
       "<p>4397 rows × 3 columns</p>\n",
       "</div>"
      ],
      "text/plain": [
       "     sentiment                                         clean_text      textID\n",
       "0     negative                             misses driving already  197aa929a2\n",
       "1     positive   name the rest? let`s see. mystery jets are pr...  7648a76c96\n",
       "2      neutral   anyways have a severe headache ryt now! i jst...  14fc34a4fb\n",
       "3      neutral                           25-man ulduar is hard...  50662e359b\n",
       "4     negative  cried like a fukn baby today durin da senior s...  b66219e011\n",
       "...        ...                                                ...         ...\n",
       "4392  negative  so lathargic... definitely need today to rest....  d715de6cbf\n",
       "4393  positive   yess, they came to amsterdam on the 18th of a...  3b84c35810\n",
       "4394  positive                            chillaxing in hyde park  a7b2b3ec1d\n",
       "4395   neutral  had the hottest and stressiest day at work  f ...  6c0d1d0655\n",
       "4396   neutral   that`s what i did with my other friends dati ...  52bff90e1d\n",
       "\n",
       "[4397 rows x 3 columns]"
      ]
     },
     "execution_count": 30,
     "metadata": {},
     "output_type": "execute_result"
    }
   ],
   "source": [
    "X_test"
   ]
  },
  {
   "cell_type": "code",
   "execution_count": 31,
   "metadata": {
    "execution": {
     "iopub.execute_input": "2021-04-15T02:47:19.521266Z",
     "iopub.status.busy": "2021-04-15T02:47:19.520571Z",
     "iopub.status.idle": "2021-04-15T02:47:24.638004Z",
     "shell.execute_reply": "2021-04-15T02:47:24.638593Z"
    },
    "papermill": {
     "duration": 7.762557,
     "end_time": "2021-04-15T02:47:24.638782",
     "exception": false,
     "start_time": "2021-04-15T02:47:16.876225",
     "status": "completed"
    },
    "tags": []
   },
   "outputs": [
    {
     "name": "stdout",
     "output_type": "stream",
     "text": [
      "0.5964022228163676\n"
     ]
    }
   ],
   "source": [
    "score,df = compute_jaccard(st_idx,end_idx,X_test,Y_test)\n",
    "print(score)"
   ]
  }
 ],
 "metadata": {
  "kernelspec": {
   "display_name": "Python 3",
   "language": "python",
   "name": "python3"
  },
  "language_info": {
   "codemirror_mode": {
    "name": "ipython",
    "version": 3
   },
   "file_extension": ".py",
   "mimetype": "text/x-python",
   "name": "python",
   "nbconvert_exporter": "python",
   "pygments_lexer": "ipython3",
   "version": "3.7.9"
  },
  "papermill": {
   "default_parameters": {},
   "duration": 913.381278,
   "end_time": "2021-04-15T02:47:29.538637",
   "environment_variables": {},
   "exception": null,
   "input_path": "__notebook__.ipynb",
   "output_path": "__notebook__.ipynb",
   "parameters": {},
   "start_time": "2021-04-15T02:32:16.157359",
   "version": "2.2.2"
  }
 },
 "nbformat": 4,
 "nbformat_minor": 4
}
