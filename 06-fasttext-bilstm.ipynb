{
 "cells": [
  {
   "cell_type": "code",
   "execution_count": 1,
   "metadata": {
    "execution": {
     "iopub.execute_input": "2021-04-09T02:09:45.907076Z",
     "iopub.status.busy": "2021-04-09T02:09:45.906415Z",
     "iopub.status.idle": "2021-04-09T02:09:52.967667Z",
     "shell.execute_reply": "2021-04-09T02:09:52.966928Z"
    },
    "papermill": {
     "duration": 7.084819,
     "end_time": "2021-04-09T02:09:52.967897",
     "exception": false,
     "start_time": "2021-04-09T02:09:45.883078",
     "status": "completed"
    },
    "tags": []
   },
   "outputs": [],
   "source": [
    "import tensorflow as tf\n",
    "from tensorflow.keras.layers import Dense,Input,Activation,Flatten,Embedding,GlobalAveragePooling1D,Dropout,LSTM,Conv1D, Bidirectional, GlobalMaxPool1D\n",
    "from tensorflow.keras.models import Model"
   ]
  },
  {
   "cell_type": "code",
   "execution_count": 2,
   "metadata": {
    "execution": {
     "iopub.execute_input": "2021-04-09T02:09:53.012681Z",
     "iopub.status.busy": "2021-04-09T02:09:53.011909Z",
     "iopub.status.idle": "2021-04-09T02:09:53.014256Z",
     "shell.execute_reply": "2021-04-09T02:09:53.014752Z"
    },
    "papermill": {
     "duration": 0.027117,
     "end_time": "2021-04-09T02:09:53.014937",
     "exception": false,
     "start_time": "2021-04-09T02:09:52.987820",
     "status": "completed"
    },
    "tags": []
   },
   "outputs": [],
   "source": [
    "NB_START_EPOCHS = 10  # Número de iteraciones de entrenamiento\n",
    "BATCH_SIZE = 512  # Tamaño de grupos usados en entrenamiento\n",
    "FAST_TEXT_DIM = 300  # Número de dimensiones los embeddings GloVe\n",
    "seq_length = 33"
   ]
  },
  {
   "cell_type": "code",
   "execution_count": 3,
   "metadata": {
    "execution": {
     "iopub.execute_input": "2021-04-09T02:09:53.057433Z",
     "iopub.status.busy": "2021-04-09T02:09:53.056749Z",
     "iopub.status.idle": "2021-04-09T02:09:54.811340Z",
     "shell.execute_reply": "2021-04-09T02:09:54.812104Z"
    },
    "papermill": {
     "duration": 1.777723,
     "end_time": "2021-04-09T02:09:54.812332",
     "exception": false,
     "start_time": "2021-04-09T02:09:53.034609",
     "status": "completed"
    },
    "tags": []
   },
   "outputs": [
    {
     "name": "stderr",
     "output_type": "stream",
     "text": [
      "/opt/conda/lib/python3.7/site-packages/nltk/twitter/__init__.py:20: UserWarning: The twython library has not been installed. Some functionality from the twitter package will not be available.\n",
      "  warnings.warn(\"The twython library has not been installed. \"\n"
     ]
    }
   ],
   "source": [
    "import pandas as pd\n",
    "import numpy as np\n",
    "import matplotlib.pyplot as plt\n",
    "import seaborn as sns\n",
    "import re\n",
    "import pandas as pd\n",
    "import string\n",
    "from wordcloud import WordCloud, STOPWORDS\n",
    "import tensorflow as tf\n",
    "import missingno as msno\n",
    "from collections import defaultdict\n",
    "import nltk\n",
    "from nltk.sentiment.vader import SentimentIntensityAnalyzer\n",
    "import json\n",
    "import codecs\n",
    "\n",
    "from tqdm import tqdm\n",
    "\n",
    "%matplotlib inline"
   ]
  },
  {
   "cell_type": "code",
   "execution_count": 4,
   "metadata": {
    "execution": {
     "iopub.execute_input": "2021-04-09T02:09:54.856584Z",
     "iopub.status.busy": "2021-04-09T02:09:54.855880Z",
     "iopub.status.idle": "2021-04-09T02:09:54.866849Z",
     "shell.execute_reply": "2021-04-09T02:09:54.867430Z"
    },
    "papermill": {
     "duration": 0.034619,
     "end_time": "2021-04-09T02:09:54.867737",
     "exception": false,
     "start_time": "2021-04-09T02:09:54.833118",
     "status": "completed"
    },
    "tags": []
   },
   "outputs": [],
   "source": [
    "#Reference https://www.kaggle.com/parulpandey/eda-and-preprocessing-for-bert\n",
    "\n",
    "def clean(tweet):\n",
    "    tweet = str(tweet)\n",
    "\n",
    "    tweet=tweet.lower()\n",
    "\n",
    "    #Remove html tags\n",
    "    tweet=re.sub('<.*?>','',tweet)\n",
    "\n",
    "    #Remove text in square brackets\n",
    "    tweet=re.sub('\\[.*?\\]','',tweet)\n",
    "\n",
    "    #Remove hyperlinks\n",
    "    tweet=re.sub('https?://\\S+|www\\.\\S+','',tweet)\n",
    "\n",
    "\n",
    "    return tweet"
   ]
  },
  {
   "cell_type": "code",
   "execution_count": 5,
   "metadata": {
    "_cell_guid": "b1076dfc-b9ad-4769-8c92-a6c4dae69d19",
    "_uuid": "8f2839f25d086af736a60e9eeb907d3b93b6e0e5",
    "execution": {
     "iopub.execute_input": "2021-04-09T02:09:54.911291Z",
     "iopub.status.busy": "2021-04-09T02:09:54.910612Z",
     "iopub.status.idle": "2021-04-09T02:09:55.109290Z",
     "shell.execute_reply": "2021-04-09T02:09:55.109902Z"
    },
    "papermill": {
     "duration": 0.222295,
     "end_time": "2021-04-09T02:09:55.110105",
     "exception": false,
     "start_time": "2021-04-09T02:09:54.887810",
     "status": "completed"
    },
    "tags": []
   },
   "outputs": [],
   "source": [
    "train = pd.read_csv(\"/kaggle/input/tweet-sentiment-extraction/train.csv\")\n",
    "test = pd.read_csv(\"/kaggle/input/tweet-sentiment-extraction/test.csv\")\n",
    "target = train['sentiment']"
   ]
  },
  {
   "cell_type": "code",
   "execution_count": 6,
   "metadata": {
    "execution": {
     "iopub.execute_input": "2021-04-09T02:09:55.155240Z",
     "iopub.status.busy": "2021-04-09T02:09:55.154524Z",
     "iopub.status.idle": "2021-04-09T02:09:55.571958Z",
     "shell.execute_reply": "2021-04-09T02:09:55.571203Z"
    },
    "papermill": {
     "duration": 0.4413,
     "end_time": "2021-04-09T02:09:55.572120",
     "exception": false,
     "start_time": "2021-04-09T02:09:55.130820",
     "status": "completed"
    },
    "tags": []
   },
   "outputs": [
    {
     "data": {
      "text/html": [
       "<div>\n",
       "<style scoped>\n",
       "    .dataframe tbody tr th:only-of-type {\n",
       "        vertical-align: middle;\n",
       "    }\n",
       "\n",
       "    .dataframe tbody tr th {\n",
       "        vertical-align: top;\n",
       "    }\n",
       "\n",
       "    .dataframe thead th {\n",
       "        text-align: right;\n",
       "    }\n",
       "</style>\n",
       "<table border=\"1\" class=\"dataframe\">\n",
       "  <thead>\n",
       "    <tr style=\"text-align: right;\">\n",
       "      <th></th>\n",
       "      <th>index</th>\n",
       "      <th>textID</th>\n",
       "      <th>text</th>\n",
       "      <th>selected_text</th>\n",
       "      <th>sentiment</th>\n",
       "      <th>clean_text</th>\n",
       "      <th>clean_selected_text</th>\n",
       "    </tr>\n",
       "  </thead>\n",
       "  <tbody>\n",
       "    <tr>\n",
       "      <th>0</th>\n",
       "      <td>0</td>\n",
       "      <td>cb774db0d1</td>\n",
       "      <td>I`d have responded, if I were going</td>\n",
       "      <td>I`d have responded, if I were going</td>\n",
       "      <td>neutral</td>\n",
       "      <td>i`d have responded, if i were going</td>\n",
       "      <td>i`d have responded, if i were going</td>\n",
       "    </tr>\n",
       "    <tr>\n",
       "      <th>1</th>\n",
       "      <td>1</td>\n",
       "      <td>549e992a42</td>\n",
       "      <td>Sooo SAD I will miss you here in San Diego!!!</td>\n",
       "      <td>Sooo SAD</td>\n",
       "      <td>negative</td>\n",
       "      <td>sooo sad i will miss you here in san diego!!!</td>\n",
       "      <td>sooo sad</td>\n",
       "    </tr>\n",
       "    <tr>\n",
       "      <th>2</th>\n",
       "      <td>2</td>\n",
       "      <td>088c60f138</td>\n",
       "      <td>my boss is bullying me...</td>\n",
       "      <td>bullying me</td>\n",
       "      <td>negative</td>\n",
       "      <td>my boss is bullying me...</td>\n",
       "      <td>bullying me</td>\n",
       "    </tr>\n",
       "    <tr>\n",
       "      <th>3</th>\n",
       "      <td>3</td>\n",
       "      <td>9642c003ef</td>\n",
       "      <td>what interview! leave me alone</td>\n",
       "      <td>leave me alone</td>\n",
       "      <td>negative</td>\n",
       "      <td>what interview! leave me alone</td>\n",
       "      <td>leave me alone</td>\n",
       "    </tr>\n",
       "    <tr>\n",
       "      <th>4</th>\n",
       "      <td>4</td>\n",
       "      <td>358bd9e861</td>\n",
       "      <td>Sons of ****, why couldn`t they put them on t...</td>\n",
       "      <td>Sons of ****,</td>\n",
       "      <td>negative</td>\n",
       "      <td>sons of ****, why couldn`t they put them on t...</td>\n",
       "      <td>sons of ****,</td>\n",
       "    </tr>\n",
       "  </tbody>\n",
       "</table>\n",
       "</div>"
      ],
      "text/plain": [
       "   index      textID                                               text  \\\n",
       "0      0  cb774db0d1                I`d have responded, if I were going   \n",
       "1      1  549e992a42      Sooo SAD I will miss you here in San Diego!!!   \n",
       "2      2  088c60f138                          my boss is bullying me...   \n",
       "3      3  9642c003ef                     what interview! leave me alone   \n",
       "4      4  358bd9e861   Sons of ****, why couldn`t they put them on t...   \n",
       "\n",
       "                         selected_text sentiment  \\\n",
       "0  I`d have responded, if I were going   neutral   \n",
       "1                             Sooo SAD  negative   \n",
       "2                          bullying me  negative   \n",
       "3                       leave me alone  negative   \n",
       "4                        Sons of ****,  negative   \n",
       "\n",
       "                                          clean_text  \\\n",
       "0                i`d have responded, if i were going   \n",
       "1      sooo sad i will miss you here in san diego!!!   \n",
       "2                          my boss is bullying me...   \n",
       "3                     what interview! leave me alone   \n",
       "4   sons of ****, why couldn`t they put them on t...   \n",
       "\n",
       "                   clean_selected_text  \n",
       "0  i`d have responded, if i were going  \n",
       "1                             sooo sad  \n",
       "2                          bullying me  \n",
       "3                       leave me alone  \n",
       "4                        sons of ****,  "
      ]
     },
     "execution_count": 6,
     "metadata": {},
     "output_type": "execute_result"
    }
   ],
   "source": [
    "train_model = train.copy()\n",
    "train_model.dropna(inplace=True)\n",
    "train_model['clean_text']=train_model['text'].apply(clean)\n",
    "train_model['clean_selected_text']=train_model['selected_text'].apply(clean)\n",
    "train_model = train_model.reset_index()\n",
    "train_model.head()"
   ]
  },
  {
   "cell_type": "code",
   "execution_count": 7,
   "metadata": {
    "execution": {
     "iopub.execute_input": "2021-04-09T02:09:55.626579Z",
     "iopub.status.busy": "2021-04-09T02:09:55.625324Z",
     "iopub.status.idle": "2021-04-09T02:09:55.741816Z",
     "shell.execute_reply": "2021-04-09T02:09:55.741094Z"
    },
    "papermill": {
     "duration": 0.148956,
     "end_time": "2021-04-09T02:09:55.741972",
     "exception": false,
     "start_time": "2021-04-09T02:09:55.593016",
     "status": "completed"
    },
    "tags": []
   },
   "outputs": [
    {
     "name": "stdout",
     "output_type": "stream",
     "text": [
      "X_train Forma (17587, 3)  Y_train Forma  (17587,)\n",
      "X_val Forma (5496, 3)  Y_val Forma  (5496,)\n",
      "X_test Forma (4397, 3)  Y_test Forma  (4397,)\n"
     ]
    }
   ],
   "source": [
    "from sklearn.model_selection import train_test_split\n",
    "\n",
    "X_train,X_val,Y_train,Y_val=train_test_split(train_model[['sentiment','clean_text','textID']],train_model['clean_selected_text'],\n",
    "                                               test_size=0.2,random_state=42,stratify=train_model['sentiment'])\n",
    "\n",
    "X_train,X_test,Y_train,Y_test=train_test_split(X_train,Y_train,\n",
    "                                               test_size=0.2,random_state=42,stratify=X_train['sentiment'])\n",
    "\n",
    "X_train.reset_index(inplace=True,drop=True)\n",
    "X_val.reset_index(inplace=True,drop=True)\n",
    "X_test.reset_index(inplace=True,drop=True)\n",
    "\n",
    "Y_train=Y_train.reset_index(drop=True)\n",
    "Y_val=Y_val.reset_index(drop=True)\n",
    "Y_test=Y_test.reset_index(drop=True)\n",
    "\n",
    "print('X_train Forma',X_train.shape,' Y_train Forma ',Y_train.shape)\n",
    "print('X_val Forma',X_val.shape,' Y_val Forma ',Y_val.shape)\n",
    "print('X_test Forma',X_test.shape,' Y_test Forma ',Y_test.shape)"
   ]
  },
  {
   "cell_type": "code",
   "execution_count": 8,
   "metadata": {
    "execution": {
     "iopub.execute_input": "2021-04-09T02:09:55.794354Z",
     "iopub.status.busy": "2021-04-09T02:09:55.793628Z",
     "iopub.status.idle": "2021-04-09T02:09:55.897699Z",
     "shell.execute_reply": "2021-04-09T02:09:55.898241Z"
    },
    "papermill": {
     "duration": 0.135135,
     "end_time": "2021-04-09T02:09:55.898440",
     "exception": false,
     "start_time": "2021-04-09T02:09:55.763305",
     "status": "completed"
    },
    "tags": []
   },
   "outputs": [
    {
     "name": "stdout",
     "output_type": "stream",
     "text": [
      "X_train Forma (17587, 3)  Y_train Forma  (17587,)\n",
      "X_val Forma (5496, 3)  Y_val Forma  (5496,)\n",
      "X_test Forma (4397, 3)  Y_test Forma  (4397,)\n"
     ]
    }
   ],
   "source": [
    "from sklearn.model_selection import train_test_split\n",
    "\n",
    "X_train,X_val,Y_train,Y_val=train_test_split(train_model[['sentiment','clean_text','textID']],train_model['clean_selected_text'],\n",
    "                                               test_size=0.2,random_state=42,stratify=train_model['sentiment'])\n",
    "\n",
    "X_train,X_test,Y_train,Y_test=train_test_split(X_train,Y_train,\n",
    "                                               test_size=0.2,random_state=42,stratify=X_train['sentiment'])\n",
    "\n",
    "X_train.reset_index(inplace=True,drop=True)\n",
    "X_val.reset_index(inplace=True,drop=True)\n",
    "X_test.reset_index(inplace=True,drop=True)\n",
    "\n",
    "Y_train=Y_train.reset_index(drop=True)\n",
    "Y_val=Y_val.reset_index(drop=True)\n",
    "Y_test=Y_test.reset_index(drop=True)\n",
    "\n",
    "print('X_train Forma',X_train.shape,' Y_train Forma ',Y_train.shape)\n",
    "print('X_val Forma',X_val.shape,' Y_val Forma ',Y_val.shape)\n",
    "print('X_test Forma',X_test.shape,' Y_test Forma ',Y_test.shape)"
   ]
  },
  {
   "cell_type": "code",
   "execution_count": 9,
   "metadata": {
    "execution": {
     "iopub.execute_input": "2021-04-09T02:09:55.953019Z",
     "iopub.status.busy": "2021-04-09T02:09:55.952166Z",
     "iopub.status.idle": "2021-04-09T02:09:57.091499Z",
     "shell.execute_reply": "2021-04-09T02:09:57.090776Z"
    },
    "papermill": {
     "duration": 1.171341,
     "end_time": "2021-04-09T02:09:57.091665",
     "exception": false,
     "start_time": "2021-04-09T02:09:55.920324",
     "status": "completed"
    },
    "tags": []
   },
   "outputs": [
    {
     "name": "stdout",
     "output_type": "stream",
     "text": [
      "The shape of X_train_tokens  (17587, 33)\n",
      "The shape of X_val_tokens  (5496, 33)\n",
      "The shape of X_test_tokens  (4397, 33)\n"
     ]
    }
   ],
   "source": [
    "tokenizer = tf.keras.preprocessing.text.Tokenizer(oov_token='UNK',filters='')\n",
    "tokenizer.fit_on_texts(X_train['clean_text'].values+' '+X_train['sentiment'].values)\n",
    "\n",
    "X_train_clean_text = tokenizer.texts_to_sequences(X_train['sentiment'].values+' '+X_train['clean_text'].values)\n",
    "X_val_clean_text = tokenizer.texts_to_sequences(X_val['sentiment'].values+' '+X_val['clean_text'].values)\n",
    "X_test_clean_text = tokenizer.texts_to_sequences(X_test['sentiment'].values+' '+X_test['clean_text'].values)\n",
    "\n",
    "X_train_tokens = tf.keras.preprocessing.sequence.pad_sequences(X_train_clean_text,maxlen=seq_length,padding='post')\n",
    "X_val_tokens = tf.keras.preprocessing.sequence.pad_sequences(X_val_clean_text,maxlen=seq_length,padding='post')\n",
    "X_test_tokens = tf.keras.preprocessing.sequence.pad_sequences(X_test_clean_text,maxlen=seq_length,padding='post')\n",
    "\n",
    "print('The shape of X_train_tokens ',X_train_tokens.shape)\n",
    "print('The shape of X_val_tokens ',X_val_tokens.shape)\n",
    "print('The shape of X_test_tokens ',X_test_tokens.shape)"
   ]
  },
  {
   "cell_type": "code",
   "execution_count": 10,
   "metadata": {
    "execution": {
     "iopub.execute_input": "2021-04-09T02:09:57.143479Z",
     "iopub.status.busy": "2021-04-09T02:09:57.142776Z",
     "iopub.status.idle": "2021-04-09T02:15:56.689660Z",
     "shell.execute_reply": "2021-04-09T02:15:56.690220Z"
    },
    "papermill": {
     "duration": 359.576381,
     "end_time": "2021-04-09T02:15:56.690489",
     "exception": false,
     "start_time": "2021-04-09T02:09:57.114108",
     "status": "completed"
    },
    "tags": []
   },
   "outputs": [
    {
     "name": "stderr",
     "output_type": "stream",
     "text": [
      "553it [00:00, 5529.33it/s]"
     ]
    },
    {
     "name": "stdout",
     "output_type": "stream",
     "text": [
      "loading word embeddings...\n"
     ]
    },
    {
     "name": "stderr",
     "output_type": "stream",
     "text": [
      "2000005it [05:59, 5562.94it/s]"
     ]
    },
    {
     "name": "stdout",
     "output_type": "stream",
     "text": [
      "found 1999997 word vectors\n"
     ]
    },
    {
     "name": "stderr",
     "output_type": "stream",
     "text": [
      "\n"
     ]
    }
   ],
   "source": [
    "#load embeddings\n",
    "print('loading word embeddings...')\n",
    "embeddings_index = {}\n",
    "f = codecs.open('../input/fasttext-crawl-300d-2m/crawl-300d-2M.vec', encoding='utf-8')\n",
    "for line in tqdm(f):\n",
    "    values = line.rstrip().rsplit(' ')\n",
    "    word = values[0]\n",
    "    coefs = np.asarray(values[1:], dtype='float32')\n",
    "    embeddings_index[word] = coefs\n",
    "f.close()\n",
    "print('found %s word vectors' % len(embeddings_index))"
   ]
  },
  {
   "cell_type": "code",
   "execution_count": 11,
   "metadata": {
    "execution": {
     "iopub.execute_input": "2021-04-09T02:15:58.845167Z",
     "iopub.status.busy": "2021-04-09T02:15:58.844479Z",
     "iopub.status.idle": "2021-04-09T02:15:58.849435Z",
     "shell.execute_reply": "2021-04-09T02:15:58.848685Z"
    },
    "papermill": {
     "duration": 1.087518,
     "end_time": "2021-04-09T02:15:58.849621",
     "exception": false,
     "start_time": "2021-04-09T02:15:57.762103",
     "status": "completed"
    },
    "tags": []
   },
   "outputs": [
    {
     "name": "stdout",
     "output_type": "stream",
     "text": [
      "32146\n"
     ]
    }
   ],
   "source": [
    "vocab_size=len(tokenizer.word_index)+1\n",
    "print(vocab_size)"
   ]
  },
  {
   "cell_type": "code",
   "execution_count": 12,
   "metadata": {
    "execution": {
     "iopub.execute_input": "2021-04-09T02:16:01.015888Z",
     "iopub.status.busy": "2021-04-09T02:16:01.012314Z",
     "iopub.status.idle": "2021-04-09T02:16:01.275242Z",
     "shell.execute_reply": "2021-04-09T02:16:01.274234Z"
    },
    "papermill": {
     "duration": 1.338776,
     "end_time": "2021-04-09T02:16:01.275436",
     "exception": false,
     "start_time": "2021-04-09T02:15:59.936660",
     "status": "completed"
    },
    "tags": []
   },
   "outputs": [],
   "source": [
    "embedding_matrix = np.zeros((vocab_size, 300 ))\n",
    "for word, i in tokenizer.word_index.items():\n",
    "    embedding_vector = embeddings_index.get(word)\n",
    "    if embedding_vector is not None:    \n",
    "        embedding_matrix[i] = embedding_vector"
   ]
  },
  {
   "cell_type": "code",
   "execution_count": 13,
   "metadata": {
    "execution": {
     "iopub.execute_input": "2021-04-09T02:16:03.530818Z",
     "iopub.status.busy": "2021-04-09T02:16:03.529856Z",
     "iopub.status.idle": "2021-04-09T02:16:03.536180Z",
     "shell.execute_reply": "2021-04-09T02:16:03.536832Z"
    },
    "papermill": {
     "duration": 1.179399,
     "end_time": "2021-04-09T02:16:03.537046",
     "exception": false,
     "start_time": "2021-04-09T02:16:02.357647",
     "status": "completed"
    },
    "tags": []
   },
   "outputs": [
    {
     "name": "stdout",
     "output_type": "stream",
     "text": [
      "[3 6 7]\n",
      "['neutral' 'positive' 'negative']\n"
     ]
    }
   ],
   "source": [
    "print(X_train_tokens.T[0][0:3])\n",
    "print(X_train['sentiment'].values[0:3])"
   ]
  },
  {
   "cell_type": "code",
   "execution_count": 14,
   "metadata": {
    "execution": {
     "iopub.execute_input": "2021-04-09T02:16:05.712790Z",
     "iopub.status.busy": "2021-04-09T02:16:05.712012Z",
     "iopub.status.idle": "2021-04-09T02:16:05.728744Z",
     "shell.execute_reply": "2021-04-09T02:16:05.729315Z"
    },
    "papermill": {
     "duration": 1.107202,
     "end_time": "2021-04-09T02:16:05.729539",
     "exception": false,
     "start_time": "2021-04-09T02:16:04.622337",
     "status": "completed"
    },
    "tags": []
   },
   "outputs": [],
   "source": [
    "# Creación de indices\n",
    "\n",
    "def get_start_end_index(X_data,Y_data):\n",
    "    start_index=np.zeros((X_data.shape[0],32),dtype='int32')\n",
    "    end_index=np.zeros((X_data.shape[0],32),dtype='int32')\n",
    "\n",
    "    for k in range(X_data.shape[0]):\n",
    "        tx1=\" \".join(X_data['clean_text'][k].split())\n",
    "        tx2=\" \".join(Y_data[k].split())\n",
    "        # Se encuentra en indice de inicio y el de finalización\n",
    "        idx=tx1.find(tx2)\n",
    "\n",
    "        # Se insertan unos por cada caracter presente\n",
    "        chars=np.zeros(len(tx1))\n",
    "        chars[idx:idx+len(tx2)]=1\n",
    "\n",
    "        # Creación de offsets con (inicio, fin) para cada palabra \n",
    "        offsets=[]\n",
    "        j=0\n",
    "        for i in tx1.split():\n",
    "            offsets.append((j,j+len(i)+1))\n",
    "            j+=len(i)+1\n",
    "\n",
    "        vals=[]\n",
    "        for i,(o1,o2) in enumerate(offsets):\n",
    "            if(sum(chars[o1:o2])>0):\n",
    "                vals.append(i)\n",
    "\n",
    "        if(len(vals)>0 and len(vals)<=32):\n",
    "            start_index[k,vals[0]]=1\n",
    "            end_index[k,vals[-1]]=1\n",
    "        else:\n",
    "            start_index[k,0]=1\n",
    "            end_index[k,-1]=1\n",
    "    return start_index,end_index"
   ]
  },
  {
   "cell_type": "code",
   "execution_count": 15,
   "metadata": {
    "execution": {
     "iopub.execute_input": "2021-04-09T02:16:07.981011Z",
     "iopub.status.busy": "2021-04-09T02:16:07.979919Z",
     "iopub.status.idle": "2021-04-09T02:16:10.416792Z",
     "shell.execute_reply": "2021-04-09T02:16:10.416081Z"
    },
    "papermill": {
     "duration": 3.528288,
     "end_time": "2021-04-09T02:16:10.416989",
     "exception": false,
     "start_time": "2021-04-09T02:16:06.888701",
     "status": "completed"
    },
    "tags": []
   },
   "outputs": [],
   "source": [
    "Y_tr_1,Y_tr_2=get_start_end_index(X_train,Y_train)\n",
    "Y_val_1,Y_val_2=get_start_end_index(X_val,Y_val)\n",
    "Y_te_1,Y_te_2=get_start_end_index(X_test,Y_test)"
   ]
  },
  {
   "cell_type": "code",
   "execution_count": 16,
   "metadata": {
    "execution": {
     "iopub.execute_input": "2021-04-09T02:16:12.589932Z",
     "iopub.status.busy": "2021-04-09T02:16:12.589162Z",
     "iopub.status.idle": "2021-04-09T02:16:12.594350Z",
     "shell.execute_reply": "2021-04-09T02:16:12.593783Z"
    },
    "papermill": {
     "duration": 1.094677,
     "end_time": "2021-04-09T02:16:12.594527",
     "exception": false,
     "start_time": "2021-04-09T02:16:11.499850",
     "status": "completed"
    },
    "tags": []
   },
   "outputs": [
    {
     "data": {
      "text/plain": [
       "' sc2 will be released before d3  hopefully!'"
      ]
     },
     "execution_count": 16,
     "metadata": {},
     "output_type": "execute_result"
    }
   ],
   "source": [
    "X_train['clean_text'][202]"
   ]
  },
  {
   "cell_type": "code",
   "execution_count": 17,
   "metadata": {
    "execution": {
     "iopub.execute_input": "2021-04-09T02:16:14.859389Z",
     "iopub.status.busy": "2021-04-09T02:16:14.858739Z",
     "iopub.status.idle": "2021-04-09T02:16:14.864044Z",
     "shell.execute_reply": "2021-04-09T02:16:14.864807Z"
    },
    "papermill": {
     "duration": 1.109838,
     "end_time": "2021-04-09T02:16:14.865002",
     "exception": false,
     "start_time": "2021-04-09T02:16:13.755164",
     "status": "completed"
    },
    "tags": []
   },
   "outputs": [
    {
     "data": {
      "text/plain": [
       "'hopefully!'"
      ]
     },
     "execution_count": 17,
     "metadata": {},
     "output_type": "execute_result"
    }
   ],
   "source": [
    "Y_train[202]"
   ]
  },
  {
   "cell_type": "code",
   "execution_count": 18,
   "metadata": {
    "execution": {
     "iopub.execute_input": "2021-04-09T02:16:17.025898Z",
     "iopub.status.busy": "2021-04-09T02:16:17.025222Z",
     "iopub.status.idle": "2021-04-09T02:16:17.030466Z",
     "shell.execute_reply": "2021-04-09T02:16:17.030943Z"
    },
    "papermill": {
     "duration": 1.095318,
     "end_time": "2021-04-09T02:16:17.031131",
     "exception": false,
     "start_time": "2021-04-09T02:16:15.935813",
     "status": "completed"
    },
    "tags": []
   },
   "outputs": [
    {
     "data": {
      "text/plain": [
       "array([   6, 9860,   52,   26, 2178,  196, 9861, 3099,    0,    0,    0,\n",
       "          0,    0,    0,    0,    0,    0,    0,    0,    0,    0,    0,\n",
       "          0,    0,    0,    0,    0,    0,    0,    0,    0,    0,    0],\n",
       "      dtype=int32)"
      ]
     },
     "execution_count": 18,
     "metadata": {},
     "output_type": "execute_result"
    }
   ],
   "source": [
    "X_train_tokens[202]"
   ]
  },
  {
   "cell_type": "code",
   "execution_count": 19,
   "metadata": {
    "execution": {
     "iopub.execute_input": "2021-04-09T02:16:19.240434Z",
     "iopub.status.busy": "2021-04-09T02:16:19.239445Z",
     "iopub.status.idle": "2021-04-09T02:16:19.245323Z",
     "shell.execute_reply": "2021-04-09T02:16:19.244745Z"
    },
    "papermill": {
     "duration": 1.102866,
     "end_time": "2021-04-09T02:16:19.245491",
     "exception": false,
     "start_time": "2021-04-09T02:16:18.142625",
     "status": "completed"
    },
    "tags": []
   },
   "outputs": [
    {
     "data": {
      "text/plain": [
       "array([0, 0, 0, 0, 0, 0, 1, 0, 0, 0, 0, 0, 0, 0, 0, 0, 0, 0, 0, 0, 0, 0,\n",
       "       0, 0, 0, 0, 0, 0, 0, 0, 0, 0], dtype=int32)"
      ]
     },
     "execution_count": 19,
     "metadata": {},
     "output_type": "execute_result"
    }
   ],
   "source": [
    "Y_tr_1[202]"
   ]
  },
  {
   "cell_type": "code",
   "execution_count": 20,
   "metadata": {
    "execution": {
     "iopub.execute_input": "2021-04-09T02:16:21.440595Z",
     "iopub.status.busy": "2021-04-09T02:16:21.439905Z",
     "iopub.status.idle": "2021-04-09T02:16:21.445806Z",
     "shell.execute_reply": "2021-04-09T02:16:21.446314Z"
    },
    "papermill": {
     "duration": 1.127191,
     "end_time": "2021-04-09T02:16:21.446515",
     "exception": false,
     "start_time": "2021-04-09T02:16:20.319324",
     "status": "completed"
    },
    "tags": []
   },
   "outputs": [
    {
     "data": {
      "text/plain": [
       "array([0, 0, 0, 0, 0, 0, 1, 0, 0, 0, 0, 0, 0, 0, 0, 0, 0, 0, 0, 0, 0, 0,\n",
       "       0, 0, 0, 0, 0, 0, 0, 0, 0, 0], dtype=int32)"
      ]
     },
     "execution_count": 20,
     "metadata": {},
     "output_type": "execute_result"
    }
   ],
   "source": [
    "Y_tr_2[202]"
   ]
  },
  {
   "cell_type": "code",
   "execution_count": 21,
   "metadata": {
    "execution": {
     "iopub.execute_input": "2021-04-09T02:16:23.607191Z",
     "iopub.status.busy": "2021-04-09T02:16:23.606533Z",
     "iopub.status.idle": "2021-04-09T02:16:23.611050Z",
     "shell.execute_reply": "2021-04-09T02:16:23.611703Z"
    },
    "papermill": {
     "duration": 1.088358,
     "end_time": "2021-04-09T02:16:23.611901",
     "exception": false,
     "start_time": "2021-04-09T02:16:22.523543",
     "status": "completed"
    },
    "tags": []
   },
   "outputs": [],
   "source": [
    "import os\n",
    "if not os.path.exists('./fast-text'):\n",
    "    os.makedirs('./fast-text')"
   ]
  },
  {
   "cell_type": "code",
   "execution_count": 22,
   "metadata": {
    "execution": {
     "iopub.execute_input": "2021-04-09T02:16:25.800442Z",
     "iopub.status.busy": "2021-04-09T02:16:25.799737Z",
     "iopub.status.idle": "2021-04-09T02:16:26.573456Z",
     "shell.execute_reply": "2021-04-09T02:16:26.574031Z"
    },
    "papermill": {
     "duration": 1.875081,
     "end_time": "2021-04-09T02:16:26.574221",
     "exception": false,
     "start_time": "2021-04-09T02:16:24.699140",
     "status": "completed"
    },
    "tags": []
   },
   "outputs": [
    {
     "name": "stdout",
     "output_type": "stream",
     "text": [
      "Model: \"model\"\n",
      "__________________________________________________________________________________________________\n",
      "Layer (type)                    Output Shape         Param #     Connected to                     \n",
      "==================================================================================================\n",
      "input (InputLayer)              [(None, 33)]         0                                            \n",
      "__________________________________________________________________________________________________\n",
      "embedding (Embedding)           (None, 33, 300)      9643800     input[0][0]                      \n",
      "__________________________________________________________________________________________________\n",
      "bidirectional (Bidirectional)   (None, 33, 200)      320800      embedding[0][0]                  \n",
      "__________________________________________________________________________________________________\n",
      "global_max_pooling1d (GlobalMax (None, 200)          0           bidirectional[0][0]              \n",
      "__________________________________________________________________________________________________\n",
      "dense (Dense)                   (None, 100)          20100       global_max_pooling1d[0][0]       \n",
      "__________________________________________________________________________________________________\n",
      "dense_1 (Dense)                 (None, 100)          20100       global_max_pooling1d[0][0]       \n",
      "__________________________________________________________________________________________________\n",
      "dropout (Dropout)               (None, 100)          0           dense[0][0]                      \n",
      "__________________________________________________________________________________________________\n",
      "dropout_1 (Dropout)             (None, 100)          0           dense_1[0][0]                    \n",
      "__________________________________________________________________________________________________\n",
      "output1 (Dense)                 (None, 32)           3232        dropout[0][0]                    \n",
      "__________________________________________________________________________________________________\n",
      "output2 (Dense)                 (None, 32)           3232        dropout_1[0][0]                  \n",
      "==================================================================================================\n",
      "Total params: 10,011,264\n",
      "Trainable params: 367,464\n",
      "Non-trainable params: 9,643,800\n",
      "__________________________________________________________________________________________________\n"
     ]
    }
   ],
   "source": [
    "# Red neuronal convolucional\n",
    "\n",
    "\n",
    "inp = Input((seq_length,),name='input')\n",
    "x = Embedding(vocab_size,300,weights=[embedding_matrix],input_length=seq_length,trainable=False)(inp)\n",
    "x = Bidirectional(LSTM(100, return_sequences=True, dropout=0.25, recurrent_dropout=0.1))(x)\n",
    "x = GlobalMaxPool1D()(x)\n",
    "\n",
    "y1 = Dense(100, activation=\"relu\")(x)\n",
    "y1 = Dropout(0.25)(y1)\n",
    "y1 = Dense(32, activation=\"softmax\",name='output1')(y1)\n",
    "\n",
    "y2 = Dense(100, activation=\"relu\")(x)\n",
    "y2 = Dropout(0.25)(y2)\n",
    "y2 = Dense(32, activation=\"softmax\",name='output2')(y2)\n",
    "\n",
    "model=Model(inputs=[inp],outputs=[y1,y2])\n",
    "model.compile(optimizer=tf.keras.optimizers.Adam(learning_rate=0.001),\n",
    "              loss=tf.keras.losses.CategoricalCrossentropy())\n",
    "\n",
    "model.summary()"
   ]
  },
  {
   "cell_type": "code",
   "execution_count": 23,
   "metadata": {
    "execution": {
     "iopub.execute_input": "2021-04-09T02:16:28.797228Z",
     "iopub.status.busy": "2021-04-09T02:16:28.796381Z",
     "iopub.status.idle": "2021-04-09T02:16:28.812249Z",
     "shell.execute_reply": "2021-04-09T02:16:28.811700Z"
    },
    "papermill": {
     "duration": 1.154188,
     "end_time": "2021-04-09T02:16:28.812448",
     "exception": false,
     "start_time": "2021-04-09T02:16:27.658260",
     "status": "completed"
    },
    "tags": []
   },
   "outputs": [],
   "source": [
    "from tensorflow.keras.callbacks import TensorBoard\n",
    "%load_ext tensorboard\n",
    "\n",
    "log_dir='./fast-text/logs'\n",
    "tensorboard_callback = TensorBoard(log_dir=log_dir,histogram_freq=1, write_graph=True)"
   ]
  },
  {
   "cell_type": "code",
   "execution_count": 24,
   "metadata": {
    "execution": {
     "iopub.execute_input": "2021-04-09T02:16:30.986160Z",
     "iopub.status.busy": "2021-04-09T02:16:30.985161Z",
     "iopub.status.idle": "2021-04-09T02:16:30.991741Z",
     "shell.execute_reply": "2021-04-09T02:16:30.991024Z"
    },
    "papermill": {
     "duration": 1.079294,
     "end_time": "2021-04-09T02:16:30.991903",
     "exception": false,
     "start_time": "2021-04-09T02:16:29.912609",
     "status": "completed"
    },
    "tags": []
   },
   "outputs": [],
   "source": [
    "from tensorflow.keras.callbacks import ModelCheckpoint\n",
    "\n",
    "filepath=\"./fast-text/weights-{epoch:02d}-{val_loss:.4f}.hdf5\"\n",
    "checkpoint = ModelCheckpoint(filepath=filepath, monitor='val_loss', verbose=1, save_best_only=True, mode='auto')"
   ]
  },
  {
   "cell_type": "code",
   "execution_count": 25,
   "metadata": {
    "execution": {
     "iopub.execute_input": "2021-04-09T02:16:33.150271Z",
     "iopub.status.busy": "2021-04-09T02:16:33.149226Z",
     "iopub.status.idle": "2021-04-09T02:43:02.242086Z",
     "shell.execute_reply": "2021-04-09T02:43:02.241506Z"
    },
    "papermill": {
     "duration": 1590.171038,
     "end_time": "2021-04-09T02:43:02.242276",
     "exception": false,
     "start_time": "2021-04-09T02:16:32.071238",
     "status": "completed"
    },
    "tags": []
   },
   "outputs": [
    {
     "name": "stdout",
     "output_type": "stream",
     "text": [
      "Epoch 1/20\n",
      "550/550 [==============================] - 87s 143ms/step - loss: 4.8069 - output1_loss: 1.7908 - output2_loss: 3.0161 - val_loss: 3.6701 - val_output1_loss: 1.4251 - val_output2_loss: 2.2451\n",
      "\n",
      "Epoch 00001: val_loss improved from inf to 3.67013, saving model to ./fast-text/weights-01-3.6701.hdf5\n",
      "Epoch 2/20\n",
      "550/550 [==============================] - 79s 144ms/step - loss: 3.6549 - output1_loss: 1.4251 - output2_loss: 2.2298 - val_loss: 3.3322 - val_output1_loss: 1.3473 - val_output2_loss: 1.9849\n",
      "\n",
      "Epoch 00002: val_loss improved from 3.67013 to 3.33223, saving model to ./fast-text/weights-02-3.3322.hdf5\n",
      "Epoch 3/20\n",
      "550/550 [==============================] - 77s 141ms/step - loss: 3.2889 - output1_loss: 1.3215 - output2_loss: 1.9673 - val_loss: 3.0980 - val_output1_loss: 1.2859 - val_output2_loss: 1.8121\n",
      "\n",
      "Epoch 00003: val_loss improved from 3.33223 to 3.09798, saving model to ./fast-text/weights-03-3.0980.hdf5\n",
      "Epoch 4/20\n",
      "550/550 [==============================] - 77s 139ms/step - loss: 3.0872 - output1_loss: 1.2639 - output2_loss: 1.8233 - val_loss: 3.0187 - val_output1_loss: 1.2710 - val_output2_loss: 1.7477\n",
      "\n",
      "Epoch 00004: val_loss improved from 3.09798 to 3.01869, saving model to ./fast-text/weights-04-3.0187.hdf5\n",
      "Epoch 5/20\n",
      "550/550 [==============================] - 78s 141ms/step - loss: 2.9264 - output1_loss: 1.1951 - output2_loss: 1.7313 - val_loss: 2.9931 - val_output1_loss: 1.2672 - val_output2_loss: 1.7259\n",
      "\n",
      "Epoch 00005: val_loss improved from 3.01869 to 2.99314, saving model to ./fast-text/weights-05-2.9931.hdf5\n",
      "Epoch 6/20\n",
      "550/550 [==============================] - 77s 140ms/step - loss: 2.8319 - output1_loss: 1.1743 - output2_loss: 1.6576 - val_loss: 2.9299 - val_output1_loss: 1.2428 - val_output2_loss: 1.6871\n",
      "\n",
      "Epoch 00006: val_loss improved from 2.99314 to 2.92989, saving model to ./fast-text/weights-06-2.9299.hdf5\n",
      "Epoch 7/20\n",
      "550/550 [==============================] - 80s 146ms/step - loss: 2.7568 - output1_loss: 1.1516 - output2_loss: 1.6051 - val_loss: 2.8490 - val_output1_loss: 1.2117 - val_output2_loss: 1.6373\n",
      "\n",
      "Epoch 00007: val_loss improved from 2.92989 to 2.84896, saving model to ./fast-text/weights-07-2.8490.hdf5\n",
      "Epoch 8/20\n",
      "550/550 [==============================] - 78s 141ms/step - loss: 2.6248 - output1_loss: 1.0946 - output2_loss: 1.5302 - val_loss: 2.8719 - val_output1_loss: 1.2269 - val_output2_loss: 1.6450\n",
      "\n",
      "Epoch 00008: val_loss did not improve from 2.84896\n",
      "Epoch 9/20\n",
      "550/550 [==============================] - 77s 139ms/step - loss: 2.5681 - output1_loss: 1.0876 - output2_loss: 1.4805 - val_loss: 2.8832 - val_output1_loss: 1.2398 - val_output2_loss: 1.6434\n",
      "\n",
      "Epoch 00009: val_loss did not improve from 2.84896\n",
      "Epoch 10/20\n",
      "550/550 [==============================] - 78s 142ms/step - loss: 2.4976 - output1_loss: 1.0636 - output2_loss: 1.4340 - val_loss: 2.8925 - val_output1_loss: 1.2225 - val_output2_loss: 1.6700\n",
      "\n",
      "Epoch 00010: val_loss did not improve from 2.84896\n",
      "Epoch 11/20\n",
      "550/550 [==============================] - 80s 146ms/step - loss: 2.4728 - output1_loss: 1.0532 - output2_loss: 1.4196 - val_loss: 2.9177 - val_output1_loss: 1.2472 - val_output2_loss: 1.6705\n",
      "\n",
      "Epoch 00011: val_loss did not improve from 2.84896\n",
      "Epoch 12/20\n",
      "550/550 [==============================] - 80s 146ms/step - loss: 2.3542 - output1_loss: 1.0061 - output2_loss: 1.3481 - val_loss: 2.9302 - val_output1_loss: 1.2500 - val_output2_loss: 1.6802\n",
      "\n",
      "Epoch 00012: val_loss did not improve from 2.84896\n",
      "Epoch 13/20\n",
      "550/550 [==============================] - 77s 139ms/step - loss: 2.3219 - output1_loss: 0.9901 - output2_loss: 1.3319 - val_loss: 2.9640 - val_output1_loss: 1.2711 - val_output2_loss: 1.6929\n",
      "\n",
      "Epoch 00013: val_loss did not improve from 2.84896\n",
      "Epoch 14/20\n",
      "550/550 [==============================] - 78s 141ms/step - loss: 2.2476 - output1_loss: 0.9672 - output2_loss: 1.2804 - val_loss: 2.9357 - val_output1_loss: 1.2652 - val_output2_loss: 1.6705\n",
      "\n",
      "Epoch 00014: val_loss did not improve from 2.84896\n",
      "Epoch 15/20\n",
      "550/550 [==============================] - 81s 146ms/step - loss: 2.1970 - output1_loss: 0.9541 - output2_loss: 1.2428 - val_loss: 3.1460 - val_output1_loss: 1.3493 - val_output2_loss: 1.7968\n",
      "\n",
      "Epoch 00015: val_loss did not improve from 2.84896\n",
      "Epoch 16/20\n",
      "550/550 [==============================] - 78s 141ms/step - loss: 2.1390 - output1_loss: 0.9242 - output2_loss: 1.2148 - val_loss: 3.0037 - val_output1_loss: 1.3165 - val_output2_loss: 1.6872\n",
      "\n",
      "Epoch 00016: val_loss did not improve from 2.84896\n",
      "Epoch 17/20\n",
      "550/550 [==============================] - 77s 141ms/step - loss: 2.0493 - output1_loss: 0.8855 - output2_loss: 1.1639 - val_loss: 3.0901 - val_output1_loss: 1.3302 - val_output2_loss: 1.7599\n",
      "\n",
      "Epoch 00017: val_loss did not improve from 2.84896\n",
      "Epoch 18/20\n",
      "550/550 [==============================] - 78s 142ms/step - loss: 1.9981 - output1_loss: 0.8679 - output2_loss: 1.1302 - val_loss: 3.1886 - val_output1_loss: 1.4051 - val_output2_loss: 1.7835\n",
      "\n",
      "Epoch 00018: val_loss did not improve from 2.84896\n",
      "Epoch 19/20\n",
      "550/550 [==============================] - 78s 142ms/step - loss: 1.9579 - output1_loss: 0.8458 - output2_loss: 1.1121 - val_loss: 3.1610 - val_output1_loss: 1.3976 - val_output2_loss: 1.7634\n",
      "\n",
      "Epoch 00019: val_loss did not improve from 2.84896\n",
      "Epoch 20/20\n",
      "550/550 [==============================] - 80s 145ms/step - loss: 1.9170 - output1_loss: 0.8348 - output2_loss: 1.0823 - val_loss: 3.2654 - val_output1_loss: 1.4301 - val_output2_loss: 1.8352\n",
      "\n",
      "Epoch 00020: val_loss did not improve from 2.84896\n"
     ]
    },
    {
     "data": {
      "text/plain": [
       "<tensorflow.python.keras.callbacks.History at 0x7f980569a390>"
      ]
     },
     "execution_count": 25,
     "metadata": {},
     "output_type": "execute_result"
    }
   ],
   "source": [
    "callback=[tensorboard_callback,checkpoint]\n",
    "model.fit(X_train_tokens,[Y_tr_1,Y_tr_2],batch_size=32,epochs=20,callbacks=callback,\n",
    "           validation_data=(X_val_tokens,[Y_val_1,Y_val_2]))"
   ]
  },
  {
   "cell_type": "code",
   "execution_count": 26,
   "metadata": {
    "execution": {
     "iopub.execute_input": "2021-04-09T02:43:11.391746Z",
     "iopub.status.busy": "2021-04-09T02:43:11.390926Z",
     "iopub.status.idle": "2021-04-09T02:43:12.302880Z",
     "shell.execute_reply": "2021-04-09T02:43:12.303453Z"
    },
    "papermill": {
     "duration": 5.481823,
     "end_time": "2021-04-09T02:43:12.303643",
     "exception": false,
     "start_time": "2021-04-09T02:43:06.821820",
     "status": "completed"
    },
    "tags": []
   },
   "outputs": [
    {
     "data": {
      "image/png": "[encoded data removed]",
      "text/plain": [
       "<IPython.core.display.Image object>"
      ]
     },
     "execution_count": 26,
     "metadata": {},
     "output_type": "execute_result"
    }
   ],
   "source": [
    "tf.keras.utils.plot_model(model, './fast-text/model.png',show_shapes=True)"
   ]
  },
  {
   "cell_type": "code",
   "execution_count": 27,
   "metadata": {
    "execution": {
     "iopub.execute_input": "2021-04-09T02:43:21.528490Z",
     "iopub.status.busy": "2021-04-09T02:43:21.527820Z",
     "iopub.status.idle": "2021-04-09T02:43:21.653602Z",
     "shell.execute_reply": "2021-04-09T02:43:21.652547Z"
    },
    "papermill": {
     "duration": 4.732982,
     "end_time": "2021-04-09T02:43:21.653786",
     "exception": false,
     "start_time": "2021-04-09T02:43:16.920804",
     "status": "completed"
    },
    "tags": []
   },
   "outputs": [
    {
     "ename": "OSError",
     "evalue": "Unable to open file (unable to open file: name = './fast-text/weights-12-2.8139.hdf5', errno = 2, error message = 'No such file or directory', flags = 0, o_flags = 0)",
     "output_type": "error",
     "traceback": [
      "\u001b[0;31m---------------------------------------------------------------------------\u001b[0m",
      "\u001b[0;31mOSError\u001b[0m                                   Traceback (most recent call last)",
      "\u001b[0;32m<ipython-input-27-80a9cdd22574>\u001b[0m in \u001b[0;36m<module>\u001b[0;34m\u001b[0m\n\u001b[0;32m----> 1\u001b[0;31m \u001b[0mmodel\u001b[0m\u001b[0;34m.\u001b[0m\u001b[0mload_weights\u001b[0m\u001b[0;34m(\u001b[0m\u001b[0;34m'./fast-text/weights-12-2.8139.hdf5'\u001b[0m\u001b[0;34m)\u001b[0m\u001b[0;34m\u001b[0m\u001b[0;34m\u001b[0m\u001b[0m\n\u001b[0m",
      "\u001b[0;32m/opt/conda/lib/python3.7/site-packages/tensorflow/python/keras/engine/training.py\u001b[0m in \u001b[0;36mload_weights\u001b[0;34m(self, filepath, by_name, skip_mismatch, options)\u001b[0m\n\u001b[1;32m   2225\u001b[0m           'first, then load the weights.')\n\u001b[1;32m   2226\u001b[0m     \u001b[0mself\u001b[0m\u001b[0;34m.\u001b[0m\u001b[0m_assert_weights_created\u001b[0m\u001b[0;34m(\u001b[0m\u001b[0;34m)\u001b[0m\u001b[0;34m\u001b[0m\u001b[0;34m\u001b[0m\u001b[0m\n\u001b[0;32m-> 2227\u001b[0;31m     \u001b[0;32mwith\u001b[0m \u001b[0mh5py\u001b[0m\u001b[0;34m.\u001b[0m\u001b[0mFile\u001b[0m\u001b[0;34m(\u001b[0m\u001b[0mfilepath\u001b[0m\u001b[0;34m,\u001b[0m \u001b[0;34m'r'\u001b[0m\u001b[0;34m)\u001b[0m \u001b[0;32mas\u001b[0m \u001b[0mf\u001b[0m\u001b[0;34m:\u001b[0m\u001b[0;34m\u001b[0m\u001b[0;34m\u001b[0m\u001b[0m\n\u001b[0m\u001b[1;32m   2228\u001b[0m       \u001b[0;32mif\u001b[0m \u001b[0;34m'layer_names'\u001b[0m \u001b[0;32mnot\u001b[0m \u001b[0;32min\u001b[0m \u001b[0mf\u001b[0m\u001b[0;34m.\u001b[0m\u001b[0mattrs\u001b[0m \u001b[0;32mand\u001b[0m \u001b[0;34m'model_weights'\u001b[0m \u001b[0;32min\u001b[0m \u001b[0mf\u001b[0m\u001b[0;34m:\u001b[0m\u001b[0;34m\u001b[0m\u001b[0;34m\u001b[0m\u001b[0m\n\u001b[1;32m   2229\u001b[0m         \u001b[0mf\u001b[0m \u001b[0;34m=\u001b[0m \u001b[0mf\u001b[0m\u001b[0;34m[\u001b[0m\u001b[0;34m'model_weights'\u001b[0m\u001b[0;34m]\u001b[0m\u001b[0;34m\u001b[0m\u001b[0;34m\u001b[0m\u001b[0m\n",
      "\u001b[0;32m/opt/conda/lib/python3.7/site-packages/h5py/_hl/files.py\u001b[0m in \u001b[0;36m__init__\u001b[0;34m(self, name, mode, driver, libver, userblock_size, swmr, rdcc_nslots, rdcc_nbytes, rdcc_w0, track_order, **kwds)\u001b[0m\n\u001b[1;32m    406\u001b[0m                 fid = make_fid(name, mode, userblock_size,\n\u001b[1;32m    407\u001b[0m                                \u001b[0mfapl\u001b[0m\u001b[0;34m,\u001b[0m \u001b[0mfcpl\u001b[0m\u001b[0;34m=\u001b[0m\u001b[0mmake_fcpl\u001b[0m\u001b[0;34m(\u001b[0m\u001b[0mtrack_order\u001b[0m\u001b[0;34m=\u001b[0m\u001b[0mtrack_order\u001b[0m\u001b[0;34m)\u001b[0m\u001b[0;34m,\u001b[0m\u001b[0;34m\u001b[0m\u001b[0;34m\u001b[0m\u001b[0m\n\u001b[0;32m--> 408\u001b[0;31m                                swmr=swmr)\n\u001b[0m\u001b[1;32m    409\u001b[0m \u001b[0;34m\u001b[0m\u001b[0m\n\u001b[1;32m    410\u001b[0m             \u001b[0;32mif\u001b[0m \u001b[0misinstance\u001b[0m\u001b[0;34m(\u001b[0m\u001b[0mlibver\u001b[0m\u001b[0;34m,\u001b[0m \u001b[0mtuple\u001b[0m\u001b[0;34m)\u001b[0m\u001b[0;34m:\u001b[0m\u001b[0;34m\u001b[0m\u001b[0;34m\u001b[0m\u001b[0m\n",
      "\u001b[0;32m/opt/conda/lib/python3.7/site-packages/h5py/_hl/files.py\u001b[0m in \u001b[0;36mmake_fid\u001b[0;34m(name, mode, userblock_size, fapl, fcpl, swmr)\u001b[0m\n\u001b[1;32m    171\u001b[0m         \u001b[0;32mif\u001b[0m \u001b[0mswmr\u001b[0m \u001b[0;32mand\u001b[0m \u001b[0mswmr_support\u001b[0m\u001b[0;34m:\u001b[0m\u001b[0;34m\u001b[0m\u001b[0;34m\u001b[0m\u001b[0m\n\u001b[1;32m    172\u001b[0m             \u001b[0mflags\u001b[0m \u001b[0;34m|=\u001b[0m \u001b[0mh5f\u001b[0m\u001b[0;34m.\u001b[0m\u001b[0mACC_SWMR_READ\u001b[0m\u001b[0;34m\u001b[0m\u001b[0;34m\u001b[0m\u001b[0m\n\u001b[0;32m--> 173\u001b[0;31m         \u001b[0mfid\u001b[0m \u001b[0;34m=\u001b[0m \u001b[0mh5f\u001b[0m\u001b[0;34m.\u001b[0m\u001b[0mopen\u001b[0m\u001b[0;34m(\u001b[0m\u001b[0mname\u001b[0m\u001b[0;34m,\u001b[0m \u001b[0mflags\u001b[0m\u001b[0;34m,\u001b[0m \u001b[0mfapl\u001b[0m\u001b[0;34m=\u001b[0m\u001b[0mfapl\u001b[0m\u001b[0;34m)\u001b[0m\u001b[0;34m\u001b[0m\u001b[0;34m\u001b[0m\u001b[0m\n\u001b[0m\u001b[1;32m    174\u001b[0m     \u001b[0;32melif\u001b[0m \u001b[0mmode\u001b[0m \u001b[0;34m==\u001b[0m \u001b[0;34m'r+'\u001b[0m\u001b[0;34m:\u001b[0m\u001b[0;34m\u001b[0m\u001b[0;34m\u001b[0m\u001b[0m\n\u001b[1;32m    175\u001b[0m         \u001b[0mfid\u001b[0m \u001b[0;34m=\u001b[0m \u001b[0mh5f\u001b[0m\u001b[0;34m.\u001b[0m\u001b[0mopen\u001b[0m\u001b[0;34m(\u001b[0m\u001b[0mname\u001b[0m\u001b[0;34m,\u001b[0m \u001b[0mh5f\u001b[0m\u001b[0;34m.\u001b[0m\u001b[0mACC_RDWR\u001b[0m\u001b[0;34m,\u001b[0m \u001b[0mfapl\u001b[0m\u001b[0;34m=\u001b[0m\u001b[0mfapl\u001b[0m\u001b[0;34m)\u001b[0m\u001b[0;34m\u001b[0m\u001b[0;34m\u001b[0m\u001b[0m\n",
      "\u001b[0;32mh5py/_objects.pyx\u001b[0m in \u001b[0;36mh5py._objects.with_phil.wrapper\u001b[0;34m()\u001b[0m\n",
      "\u001b[0;32mh5py/_objects.pyx\u001b[0m in \u001b[0;36mh5py._objects.with_phil.wrapper\u001b[0;34m()\u001b[0m\n",
      "\u001b[0;32mh5py/h5f.pyx\u001b[0m in \u001b[0;36mh5py.h5f.open\u001b[0;34m()\u001b[0m\n",
      "\u001b[0;31mOSError\u001b[0m: Unable to open file (unable to open file: name = './fast-text/weights-12-2.8139.hdf5', errno = 2, error message = 'No such file or directory', flags = 0, o_flags = 0)"
     ]
    }
   ],
   "source": [
    "model.load_weights('./fast-text/weights-12-2.8139.hdf5')"
   ]
  },
  {
   "cell_type": "code",
   "execution_count": 28,
   "metadata": {
    "execution": {
     "iopub.execute_input": "2021-04-09T02:43:30.917570Z",
     "iopub.status.busy": "2021-04-09T02:43:30.916489Z",
     "iopub.status.idle": "2021-04-09T02:43:30.922781Z",
     "shell.execute_reply": "2021-04-09T02:43:30.923235Z"
    },
    "papermill": {
     "duration": 4.552909,
     "end_time": "2021-04-09T02:43:30.923432",
     "exception": false,
     "start_time": "2021-04-09T02:43:26.370523",
     "status": "completed"
    },
    "tags": []
   },
   "outputs": [],
   "source": [
    "# Metrica definida\n",
    "\n",
    "def jaccard(str1, str2):\n",
    "  a = set(str1.lower().split()) \n",
    "  b = set(str2.lower().split())\n",
    "  c = a.intersection(b)\n",
    "  return float(len(c)) / (len(a) + len(b) - len(c))"
   ]
  },
  {
   "cell_type": "code",
   "execution_count": 29,
   "metadata": {
    "execution": {
     "iopub.execute_input": "2021-04-09T02:43:40.067857Z",
     "iopub.status.busy": "2021-04-09T02:43:40.067185Z",
     "iopub.status.idle": "2021-04-09T02:43:44.796592Z",
     "shell.execute_reply": "2021-04-09T02:43:44.795928Z"
    },
    "papermill": {
     "duration": 9.320865,
     "end_time": "2021-04-09T02:43:44.796773",
     "exception": false,
     "start_time": "2021-04-09T02:43:35.475908",
     "status": "completed"
    },
    "tags": []
   },
   "outputs": [
    {
     "name": "stdout",
     "output_type": "stream",
     "text": [
      "138/138 [==============================] - 5s 28ms/step\n"
     ]
    }
   ],
   "source": [
    "st_idx,end_idx = model.predict(X_test_tokens,batch_size=32,verbose=1)"
   ]
  },
  {
   "cell_type": "code",
   "execution_count": 30,
   "metadata": {
    "execution": {
     "iopub.execute_input": "2021-04-09T02:43:54.063934Z",
     "iopub.status.busy": "2021-04-09T02:43:54.063205Z",
     "iopub.status.idle": "2021-04-09T02:43:54.066823Z",
     "shell.execute_reply": "2021-04-09T02:43:54.066195Z"
    },
    "papermill": {
     "duration": 4.648442,
     "end_time": "2021-04-09T02:43:54.067074",
     "exception": false,
     "start_time": "2021-04-09T02:43:49.418632",
     "status": "completed"
    },
    "tags": []
   },
   "outputs": [],
   "source": [
    "def compute_jaccard(st_idx,end_idx,X,Y):\n",
    "    all_jaccard=[]\n",
    "    df=pd.DataFrame(columns=['clean_text','selected_text','predicted','jaccard','sentiment'])\n",
    "    for i in range(len(st_idx)):\n",
    "        initial=np.argmax(st_idx[i])\n",
    "        final=np.argmax(end_idx[i])\n",
    "        sent2=\" \".join(X['clean_text'][i].split()[initial:final+1])\n",
    "        sent1=Y[i] \n",
    "        df.loc[i,'clean_text']=X['clean_text'][i]   \n",
    "        df.loc[i,'selected_text']=sent1\n",
    "        df.loc[i,'predicted']=sent2\n",
    "        df.loc[i,'sentiment']=X['sentiment'][i]\n",
    "        jaccard_score=jaccard(sent1,sent2)\n",
    "        df.loc[i,'jaccard']=jaccard_score\n",
    "        all_jaccard.append(jaccard_score)\n",
    "    return np.mean(np.array(all_jaccard)),df"
   ]
  },
  {
   "cell_type": "code",
   "execution_count": 31,
   "metadata": {
    "execution": {
     "iopub.execute_input": "2021-04-09T02:44:03.231419Z",
     "iopub.status.busy": "2021-04-09T02:44:03.230504Z",
     "iopub.status.idle": "2021-04-09T02:44:03.251293Z",
     "shell.execute_reply": "2021-04-09T02:44:03.251802Z"
    },
    "papermill": {
     "duration": 4.580803,
     "end_time": "2021-04-09T02:44:03.252011",
     "exception": false,
     "start_time": "2021-04-09T02:43:58.671208",
     "status": "completed"
    },
    "tags": []
   },
   "outputs": [
    {
     "data": {
      "text/html": [
       "<div>\n",
       "<style scoped>\n",
       "    .dataframe tbody tr th:only-of-type {\n",
       "        vertical-align: middle;\n",
       "    }\n",
       "\n",
       "    .dataframe tbody tr th {\n",
       "        vertical-align: top;\n",
       "    }\n",
       "\n",
       "    .dataframe thead th {\n",
       "        text-align: right;\n",
       "    }\n",
       "</style>\n",
       "<table border=\"1\" class=\"dataframe\">\n",
       "  <thead>\n",
       "    <tr style=\"text-align: right;\">\n",
       "      <th></th>\n",
       "      <th>sentiment</th>\n",
       "      <th>clean_text</th>\n",
       "      <th>textID</th>\n",
       "    </tr>\n",
       "  </thead>\n",
       "  <tbody>\n",
       "    <tr>\n",
       "      <th>0</th>\n",
       "      <td>negative</td>\n",
       "      <td>misses driving already</td>\n",
       "      <td>197aa929a2</td>\n",
       "    </tr>\n",
       "    <tr>\n",
       "      <th>1</th>\n",
       "      <td>positive</td>\n",
       "      <td>name the rest? let`s see. mystery jets are pr...</td>\n",
       "      <td>7648a76c96</td>\n",
       "    </tr>\n",
       "    <tr>\n",
       "      <th>2</th>\n",
       "      <td>neutral</td>\n",
       "      <td>anyways have a severe headache ryt now! i jst...</td>\n",
       "      <td>14fc34a4fb</td>\n",
       "    </tr>\n",
       "    <tr>\n",
       "      <th>3</th>\n",
       "      <td>neutral</td>\n",
       "      <td>25-man ulduar is hard...</td>\n",
       "      <td>50662e359b</td>\n",
       "    </tr>\n",
       "    <tr>\n",
       "      <th>4</th>\n",
       "      <td>negative</td>\n",
       "      <td>cried like a fukn baby today durin da senior s...</td>\n",
       "      <td>b66219e011</td>\n",
       "    </tr>\n",
       "    <tr>\n",
       "      <th>...</th>\n",
       "      <td>...</td>\n",
       "      <td>...</td>\n",
       "      <td>...</td>\n",
       "    </tr>\n",
       "    <tr>\n",
       "      <th>4392</th>\n",
       "      <td>negative</td>\n",
       "      <td>so lathargic... definitely need today to rest....</td>\n",
       "      <td>d715de6cbf</td>\n",
       "    </tr>\n",
       "    <tr>\n",
       "      <th>4393</th>\n",
       "      <td>positive</td>\n",
       "      <td>yess, they came to amsterdam on the 18th of a...</td>\n",
       "      <td>3b84c35810</td>\n",
       "    </tr>\n",
       "    <tr>\n",
       "      <th>4394</th>\n",
       "      <td>positive</td>\n",
       "      <td>chillaxing in hyde park</td>\n",
       "      <td>a7b2b3ec1d</td>\n",
       "    </tr>\n",
       "    <tr>\n",
       "      <th>4395</th>\n",
       "      <td>neutral</td>\n",
       "      <td>had the hottest and stressiest day at work  f ...</td>\n",
       "      <td>6c0d1d0655</td>\n",
       "    </tr>\n",
       "    <tr>\n",
       "      <th>4396</th>\n",
       "      <td>neutral</td>\n",
       "      <td>that`s what i did with my other friends dati ...</td>\n",
       "      <td>52bff90e1d</td>\n",
       "    </tr>\n",
       "  </tbody>\n",
       "</table>\n",
       "<p>4397 rows × 3 columns</p>\n",
       "</div>"
      ],
      "text/plain": [
       "     sentiment                                         clean_text      textID\n",
       "0     negative                             misses driving already  197aa929a2\n",
       "1     positive   name the rest? let`s see. mystery jets are pr...  7648a76c96\n",
       "2      neutral   anyways have a severe headache ryt now! i jst...  14fc34a4fb\n",
       "3      neutral                           25-man ulduar is hard...  50662e359b\n",
       "4     negative  cried like a fukn baby today durin da senior s...  b66219e011\n",
       "...        ...                                                ...         ...\n",
       "4392  negative  so lathargic... definitely need today to rest....  d715de6cbf\n",
       "4393  positive   yess, they came to amsterdam on the 18th of a...  3b84c35810\n",
       "4394  positive                            chillaxing in hyde park  a7b2b3ec1d\n",
       "4395   neutral  had the hottest and stressiest day at work  f ...  6c0d1d0655\n",
       "4396   neutral   that`s what i did with my other friends dati ...  52bff90e1d\n",
       "\n",
       "[4397 rows x 3 columns]"
      ]
     },
     "execution_count": 31,
     "metadata": {},
     "output_type": "execute_result"
    }
   ],
   "source": [
    "X_test"
   ]
  },
  {
   "cell_type": "code",
   "execution_count": 32,
   "metadata": {
    "execution": {
     "iopub.execute_input": "2021-04-09T02:44:12.566519Z",
     "iopub.status.busy": "2021-04-09T02:44:12.561273Z",
     "iopub.status.idle": "2021-04-09T02:44:18.619496Z",
     "shell.execute_reply": "2021-04-09T02:44:18.618932Z"
    },
    "papermill": {
     "duration": 10.700809,
     "end_time": "2021-04-09T02:44:18.619647",
     "exception": false,
     "start_time": "2021-04-09T02:44:07.918838",
     "status": "completed"
    },
    "tags": []
   },
   "outputs": [
    {
     "name": "stdout",
     "output_type": "stream",
     "text": [
      "0.6061584807983105\n"
     ]
    }
   ],
   "source": [
    "score,df = compute_jaccard(st_idx,end_idx,X_test,Y_test)\n",
    "print(score)"
   ]
  }
 ],
 "metadata": {
  "kernelspec": {
   "display_name": "Python 3",
   "language": "python",
   "name": "python3"
  },
  "language_info": {
   "codemirror_mode": {
    "name": "ipython",
    "version": 3
   },
   "file_extension": ".py",
   "mimetype": "text/x-python",
   "name": "python",
   "nbconvert_exporter": "python",
   "pygments_lexer": "ipython3",
   "version": "3.7.9"
  },
  "papermill": {
   "default_parameters": {},
   "duration": 2088.80912,
   "end_time": "2021-04-09T02:44:28.537379",
   "environment_variables": {},
   "exception": null,
   "input_path": "__notebook__.ipynb",
   "output_path": "__notebook__.ipynb",
   "parameters": {},
   "start_time": "2021-04-09T02:09:39.728259",
   "version": "2.2.2"
  }
 },
 "nbformat": 4,
 "nbformat_minor": 4
}
