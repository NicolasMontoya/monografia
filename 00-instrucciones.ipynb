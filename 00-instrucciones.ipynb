{
 "metadata": {
  "language_info": {
   "codemirror_mode": {
    "name": "ipython",
    "version": 3
   },
   "file_extension": ".py",
   "mimetype": "text/x-python",
   "name": "python",
   "nbconvert_exporter": "python",
   "pygments_lexer": "ipython3",
   "version": 3
  },
  "orig_nbformat": 2
 },
 "nbformat": 4,
 "nbformat_minor": 2,
 "cells": [
  {
   "source": [
    "# Instrucciones\n",
    "\n",
    "Los notebooks están desarrollados sobre la plataforma cloud Kaggle. Para ejecutarlos con facilidad se recomienda usar dicha plataforma y clonar los notebooks públicos para evitar reprocesos.\n",
    "\n",
    "## Comparativa de modelos predictivos para identificación de sentimientos\n",
    "El análisis de sentimientos es una técnica que permite detectar el sentimiento subyacente de un fragmento de texto. Los sentimientos se suelen clasificar como: neutros, positivos y negativos. Existen diferentes maneras de analizar el texto para poder identificar el proposito o sentimiento del texto.\n",
    "\n",
    "## ¿Qué archivos conforman el conjunto de datos?\n",
    "train.csv: Conjunto de datos de entrenamiento\n",
    "test.csv: Conjunto de datos de prueba\n",
    "Columnas del conjunto de datos\n",
    "textID: Identificador único por tweet\n",
    "text: Texto del tweet\n",
    "sentiment: Sentimiento del tweet\n",
    "selected_text: Solo entrenamiento Texto que soporta el sentimiento\n",
    "Cada fila contiene el texto de un tweet y una etiqueta de opinión. En el conjunto de entrenamiento, se le proporciona una palabra o frase extraída del tweet (selected_text) que encapsula el sentimiento proporcionado.\n",
    "\n",
    "## Ambiente\n",
    "El conjunto de datos elegido para este proyecto esta conformado por un conjunto de tweets, el sentimiento que expresa y aquellas palabras que soportan el sentimiento.\n",
    "\n",
    "Los tweets fueron obtenidos de la plataforma \"Data for Everyone\" de Figure Eight. El conjunto de datos se titula Análisis de sentimiento: tweets de emoción en texto con etiquetas de sentimiento existentes. El conjunto de datos se encuentra licenciado como creative commons 4.0, licencia internacional.\n",
    "\n",
    "La implementación práctica de la monografía usa Python como lenguaje de programación. Y para las arquitecturas de Deep Leraning, manipular, limpiar y procesar los datos se usan las siguientes librerias:\n",
    "\n",
    "    - Numpy: Es el paquete fundamental para la computación científica en Python.\n",
    "    - Pandas: Herramienta OpenSource para análisis y manipulación de datos.\n",
    "    - matplotlib: Librería para crear visualizaciones estáticas, animadas e interactivas en Python.\n",
    "    - seaborn: Librería para crear visualizaciones basada en Matplotlib.\n",
    "    - plotly: Librería para crear visualizaciones que facilita la manipulación de nubes de palabras.\n",
    "    - nltk: Librería de lenguage natural en Python\n",
    "    - tensorflow: Es un \\textit{framework} de código abierto para el aprendizaje automático y cálculos sobre datos descentralizados.\n",
    "    - Keras: Es una API diseñada para seres humanos, no para máquinas. Keras sigue las mejores prácticas para reducir la carga cognitiva.\n",
    "\n",
    "## Enlaces del proyecto\n",
    "\n",
    "- **Datos:** https://www.kaggle.com/c/tweet-sentiment-extraction/data\n",
    "- **Introducción:** https://www.kaggle.com/nietzs96/fork-of-monograf-a-introducci-n\n",
    "- **Implementación Bag Of Words:** https://www.kaggle.com/nietzs96/monograf-a-bag-of-words\n",
    "- **Implementación de red convolucional + Glove:** https://www.kaggle.com/nietzs96/glove-convolutional\n",
    "- **Implementación de red convolucional + Fast Text:** https://www.kaggle.com/nietzs96/fasttext-convolutional\n",
    "- **Implementación de biLSTM + Glove:** https://www.kaggle.com/nietzs96/glove-bilstm\n",
    "- **Implementación de biLSTM + Fast Text:** https://www.kaggle.com/nietzs96/fasttext-bilstm\n",
    "- **Implementación DistilBert:** https://www.kaggle.com/nietzs96/monograf-a-distilbert\n",
    "- **Implementación RoBERTa:** https://www.kaggle.com/nietzs96/monograf-a-roberta\n",
    "\n",
    "## Como ejecutar los notebooks\n",
    "\n",
    "1. Ir al link de Kaggle de la implementación deseada.\n",
    "2. Click en el botón Copy and Edit.\n",
    "3. Ejecutar en modo GPU.\n",
    "4. Listo.\n"
   ],
   "cell_type": "markdown",
   "metadata": {}
  },
  {
   "cell_type": "code",
   "execution_count": null,
   "metadata": {},
   "outputs": [],
   "source": []
  }
 ]
}